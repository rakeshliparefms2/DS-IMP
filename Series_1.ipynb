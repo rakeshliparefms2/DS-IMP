{
 "cells": [
  {
   "cell_type": "code",
   "execution_count": 1,
   "id": "1393262a",
   "metadata": {},
   "outputs": [],
   "source": [
    "import pandas as pd"
   ]
  },
  {
   "cell_type": "code",
   "execution_count": 1,
   "id": "3879d94f",
   "metadata": {},
   "outputs": [],
   "source": [
    "import pandas as pd"
   ]
  },
  {
   "cell_type": "markdown",
   "id": "921949a5",
   "metadata": {},
   "source": []
  },
  {
   "cell_type": "raw",
   "id": "b8ad9173",
   "metadata": {},
   "source": [
    "# 3 Data structures\n",
    "1. Series: 1Dim\n",
    "    \n",
    "2. DataFrame: 2Dim\n",
    "\n",
    "3. Panel: Combination of multiple dataframes"
   ]
  },
  {
   "cell_type": "code",
   "execution_count": 4,
   "id": "1cf65c22",
   "metadata": {},
   "outputs": [
    {
     "name": "stdout",
     "output_type": "stream",
     "text": [
      "Series([], dtype: object)\n"
     ]
    }
   ],
   "source": [
    "print(pd.Series(dtype=object))"
   ]
  },
  {
   "cell_type": "code",
   "execution_count": 5,
   "id": "27a8ae07",
   "metadata": {},
   "outputs": [],
   "source": [
    "names = ['Avinash','Harshala','Karishma','Kuldip','Nitin','Ramdas','Sachine']"
   ]
  },
  {
   "cell_type": "raw",
   "id": "a90d5708",
   "metadata": {},
   "source": [
    "pd.Series() structure:\n",
    "Init signature:\n",
    "pd.Series(\n",
    "    data=None,\n",
    "    index=None,\n",
    "    dtype: 'Dtype | None' = None,\n",
    "    \n",
    ")"
   ]
  },
  {
   "cell_type": "markdown",
   "id": "f549b632",
   "metadata": {},
   "source": [
    "# pd.Series(data,index,dtype)"
   ]
  },
  {
   "cell_type": "code",
   "execution_count": 6,
   "id": "809588ac",
   "metadata": {},
   "outputs": [
    {
     "data": {
      "text/plain": [
       "0     Avinash\n",
       "1    Harshala\n",
       "2    Karishma\n",
       "3      Kuldip\n",
       "4       Nitin\n",
       "5      Ramdas\n",
       "6     Sachine\n",
       "dtype: object"
      ]
     },
     "execution_count": 6,
     "metadata": {},
     "output_type": "execute_result"
    }
   ],
   "source": [
    "pd.Series(names)"
   ]
  },
  {
   "cell_type": "markdown",
   "id": "941d8aa6",
   "metadata": {},
   "source": [
    "# 3 things: \n",
    "1. index\n",
    "2. data/values\n",
    "3. data type"
   ]
  },
  {
   "cell_type": "code",
   "execution_count": 7,
   "id": "a0f996af",
   "metadata": {},
   "outputs": [
    {
     "data": {
      "text/plain": [
       "0     Avinash\n",
       "1    Harshala\n",
       "2    Karishma\n",
       "3      Kuldip\n",
       "4       Nitin\n",
       "5      Ramdas\n",
       "6     Sachine\n",
       "dtype: object"
      ]
     },
     "execution_count": 7,
     "metadata": {},
     "output_type": "execute_result"
    }
   ],
   "source": [
    "d = pd.Series(names)\n",
    "d"
   ]
  },
  {
   "cell_type": "code",
   "execution_count": 8,
   "id": "5ac55f09",
   "metadata": {},
   "outputs": [
    {
     "data": {
      "text/plain": [
       "'Avinash'"
      ]
     },
     "execution_count": 8,
     "metadata": {},
     "output_type": "execute_result"
    }
   ],
   "source": [
    "# indexing\n",
    "d[0]"
   ]
  },
  {
   "cell_type": "code",
   "execution_count": 9,
   "id": "9777b708",
   "metadata": {},
   "outputs": [
    {
     "data": {
      "text/plain": [
       "3     Kuldip\n",
       "4      Nitin\n",
       "5     Ramdas\n",
       "6    Sachine\n",
       "dtype: object"
      ]
     },
     "execution_count": 9,
     "metadata": {},
     "output_type": "execute_result"
    }
   ],
   "source": [
    "#slicing\n",
    "d[3:]"
   ]
  },
  {
   "cell_type": "code",
   "execution_count": 11,
   "id": "49628a11",
   "metadata": {},
   "outputs": [
    {
     "ename": "KeyError",
     "evalue": "-1",
     "output_type": "error",
     "traceback": [
      "\u001b[1;31m---------------------------------------------------------------------------\u001b[0m",
      "\u001b[1;31mValueError\u001b[0m                                Traceback (most recent call last)",
      "\u001b[1;32mC:\\ProgramData\\Anaconda3\\lib\\site-packages\\pandas\\core\\indexes\\range.py\u001b[0m in \u001b[0;36mget_loc\u001b[1;34m(self, key, method, tolerance)\u001b[0m\n\u001b[0;32m    384\u001b[0m                 \u001b[1;32mtry\u001b[0m\u001b[1;33m:\u001b[0m\u001b[1;33m\u001b[0m\u001b[1;33m\u001b[0m\u001b[0m\n\u001b[1;32m--> 385\u001b[1;33m                     \u001b[1;32mreturn\u001b[0m \u001b[0mself\u001b[0m\u001b[1;33m.\u001b[0m\u001b[0m_range\u001b[0m\u001b[1;33m.\u001b[0m\u001b[0mindex\u001b[0m\u001b[1;33m(\u001b[0m\u001b[0mnew_key\u001b[0m\u001b[1;33m)\u001b[0m\u001b[1;33m\u001b[0m\u001b[1;33m\u001b[0m\u001b[0m\n\u001b[0m\u001b[0;32m    386\u001b[0m                 \u001b[1;32mexcept\u001b[0m \u001b[0mValueError\u001b[0m \u001b[1;32mas\u001b[0m \u001b[0merr\u001b[0m\u001b[1;33m:\u001b[0m\u001b[1;33m\u001b[0m\u001b[1;33m\u001b[0m\u001b[0m\n",
      "\u001b[1;31mValueError\u001b[0m: -1 is not in range",
      "\nThe above exception was the direct cause of the following exception:\n",
      "\u001b[1;31mKeyError\u001b[0m                                  Traceback (most recent call last)",
      "\u001b[1;32m~\\AppData\\Local\\Temp/ipykernel_10256/416373083.py\u001b[0m in \u001b[0;36m<module>\u001b[1;34m\u001b[0m\n\u001b[1;32m----> 1\u001b[1;33m \u001b[0md\u001b[0m\u001b[1;33m[\u001b[0m\u001b[1;33m-\u001b[0m\u001b[1;36m1\u001b[0m\u001b[1;33m]\u001b[0m\u001b[1;33m\u001b[0m\u001b[1;33m\u001b[0m\u001b[0m\n\u001b[0m",
      "\u001b[1;32mC:\\ProgramData\\Anaconda3\\lib\\site-packages\\pandas\\core\\series.py\u001b[0m in \u001b[0;36m__getitem__\u001b[1;34m(self, key)\u001b[0m\n\u001b[0;32m    940\u001b[0m \u001b[1;33m\u001b[0m\u001b[0m\n\u001b[0;32m    941\u001b[0m         \u001b[1;32melif\u001b[0m \u001b[0mkey_is_scalar\u001b[0m\u001b[1;33m:\u001b[0m\u001b[1;33m\u001b[0m\u001b[1;33m\u001b[0m\u001b[0m\n\u001b[1;32m--> 942\u001b[1;33m             \u001b[1;32mreturn\u001b[0m \u001b[0mself\u001b[0m\u001b[1;33m.\u001b[0m\u001b[0m_get_value\u001b[0m\u001b[1;33m(\u001b[0m\u001b[0mkey\u001b[0m\u001b[1;33m)\u001b[0m\u001b[1;33m\u001b[0m\u001b[1;33m\u001b[0m\u001b[0m\n\u001b[0m\u001b[0;32m    943\u001b[0m \u001b[1;33m\u001b[0m\u001b[0m\n\u001b[0;32m    944\u001b[0m         \u001b[1;32mif\u001b[0m \u001b[0mis_hashable\u001b[0m\u001b[1;33m(\u001b[0m\u001b[0mkey\u001b[0m\u001b[1;33m)\u001b[0m\u001b[1;33m:\u001b[0m\u001b[1;33m\u001b[0m\u001b[1;33m\u001b[0m\u001b[0m\n",
      "\u001b[1;32mC:\\ProgramData\\Anaconda3\\lib\\site-packages\\pandas\\core\\series.py\u001b[0m in \u001b[0;36m_get_value\u001b[1;34m(self, label, takeable)\u001b[0m\n\u001b[0;32m   1049\u001b[0m \u001b[1;33m\u001b[0m\u001b[0m\n\u001b[0;32m   1050\u001b[0m         \u001b[1;31m# Similar to Index.get_value, but we do not fall back to positional\u001b[0m\u001b[1;33m\u001b[0m\u001b[1;33m\u001b[0m\u001b[0m\n\u001b[1;32m-> 1051\u001b[1;33m         \u001b[0mloc\u001b[0m \u001b[1;33m=\u001b[0m \u001b[0mself\u001b[0m\u001b[1;33m.\u001b[0m\u001b[0mindex\u001b[0m\u001b[1;33m.\u001b[0m\u001b[0mget_loc\u001b[0m\u001b[1;33m(\u001b[0m\u001b[0mlabel\u001b[0m\u001b[1;33m)\u001b[0m\u001b[1;33m\u001b[0m\u001b[1;33m\u001b[0m\u001b[0m\n\u001b[0m\u001b[0;32m   1052\u001b[0m         \u001b[1;32mreturn\u001b[0m \u001b[0mself\u001b[0m\u001b[1;33m.\u001b[0m\u001b[0mindex\u001b[0m\u001b[1;33m.\u001b[0m\u001b[0m_get_values_for_loc\u001b[0m\u001b[1;33m(\u001b[0m\u001b[0mself\u001b[0m\u001b[1;33m,\u001b[0m \u001b[0mloc\u001b[0m\u001b[1;33m,\u001b[0m \u001b[0mlabel\u001b[0m\u001b[1;33m)\u001b[0m\u001b[1;33m\u001b[0m\u001b[1;33m\u001b[0m\u001b[0m\n\u001b[0;32m   1053\u001b[0m \u001b[1;33m\u001b[0m\u001b[0m\n",
      "\u001b[1;32mC:\\ProgramData\\Anaconda3\\lib\\site-packages\\pandas\\core\\indexes\\range.py\u001b[0m in \u001b[0;36mget_loc\u001b[1;34m(self, key, method, tolerance)\u001b[0m\n\u001b[0;32m    385\u001b[0m                     \u001b[1;32mreturn\u001b[0m \u001b[0mself\u001b[0m\u001b[1;33m.\u001b[0m\u001b[0m_range\u001b[0m\u001b[1;33m.\u001b[0m\u001b[0mindex\u001b[0m\u001b[1;33m(\u001b[0m\u001b[0mnew_key\u001b[0m\u001b[1;33m)\u001b[0m\u001b[1;33m\u001b[0m\u001b[1;33m\u001b[0m\u001b[0m\n\u001b[0;32m    386\u001b[0m                 \u001b[1;32mexcept\u001b[0m \u001b[0mValueError\u001b[0m \u001b[1;32mas\u001b[0m \u001b[0merr\u001b[0m\u001b[1;33m:\u001b[0m\u001b[1;33m\u001b[0m\u001b[1;33m\u001b[0m\u001b[0m\n\u001b[1;32m--> 387\u001b[1;33m                     \u001b[1;32mraise\u001b[0m \u001b[0mKeyError\u001b[0m\u001b[1;33m(\u001b[0m\u001b[0mkey\u001b[0m\u001b[1;33m)\u001b[0m \u001b[1;32mfrom\u001b[0m \u001b[0merr\u001b[0m\u001b[1;33m\u001b[0m\u001b[1;33m\u001b[0m\u001b[0m\n\u001b[0m\u001b[0;32m    388\u001b[0m             \u001b[1;32mraise\u001b[0m \u001b[0mKeyError\u001b[0m\u001b[1;33m(\u001b[0m\u001b[0mkey\u001b[0m\u001b[1;33m)\u001b[0m\u001b[1;33m\u001b[0m\u001b[1;33m\u001b[0m\u001b[0m\n\u001b[0;32m    389\u001b[0m         \u001b[1;32mreturn\u001b[0m \u001b[0msuper\u001b[0m\u001b[1;33m(\u001b[0m\u001b[1;33m)\u001b[0m\u001b[1;33m.\u001b[0m\u001b[0mget_loc\u001b[0m\u001b[1;33m(\u001b[0m\u001b[0mkey\u001b[0m\u001b[1;33m,\u001b[0m \u001b[0mmethod\u001b[0m\u001b[1;33m=\u001b[0m\u001b[0mmethod\u001b[0m\u001b[1;33m,\u001b[0m \u001b[0mtolerance\u001b[0m\u001b[1;33m=\u001b[0m\u001b[0mtolerance\u001b[0m\u001b[1;33m)\u001b[0m\u001b[1;33m\u001b[0m\u001b[1;33m\u001b[0m\u001b[0m\n",
      "\u001b[1;31mKeyError\u001b[0m: -1"
     ]
    }
   ],
   "source": [
    "d[-1] #-ve indexing is not allowed"
   ]
  },
  {
   "cell_type": "code",
   "execution_count": 13,
   "id": "9708f22c",
   "metadata": {},
   "outputs": [
    {
     "data": {
      "text/plain": [
       "6     Sachine\n",
       "5      Ramdas\n",
       "4       Nitin\n",
       "3      Kuldip\n",
       "2    Karishma\n",
       "1    Harshala\n",
       "0     Avinash\n",
       "dtype: object"
      ]
     },
     "execution_count": 13,
     "metadata": {},
     "output_type": "execute_result"
    }
   ],
   "source": [
    "d[::-1] #-ve step is allowed"
   ]
  },
  {
   "cell_type": "code",
   "execution_count": 14,
   "id": "aee09fbb",
   "metadata": {},
   "outputs": [
    {
     "data": {
      "text/plain": [
       "2451667321472"
      ]
     },
     "execution_count": 14,
     "metadata": {},
     "output_type": "execute_result"
    }
   ],
   "source": [
    "id(d)"
   ]
  },
  {
   "cell_type": "code",
   "execution_count": 17,
   "id": "5b6e75ce",
   "metadata": {},
   "outputs": [],
   "source": [
    "#can modification possible????\n",
    "d[0] = 'Vaibhav'"
   ]
  },
  {
   "cell_type": "code",
   "execution_count": 18,
   "id": "34d41088",
   "metadata": {},
   "outputs": [
    {
     "data": {
      "text/plain": [
       "0     Vaibhav\n",
       "1    Harshala\n",
       "2    Karishma\n",
       "3      Kuldip\n",
       "4       Nitin\n",
       "5      Ramdas\n",
       "6     Sachine\n",
       "dtype: object"
      ]
     },
     "execution_count": 18,
     "metadata": {},
     "output_type": "execute_result"
    }
   ],
   "source": [
    "d"
   ]
  },
  {
   "cell_type": "code",
   "execution_count": 19,
   "id": "ac9d2b89",
   "metadata": {},
   "outputs": [
    {
     "data": {
      "text/plain": [
       "2451667321472"
      ]
     },
     "execution_count": 19,
     "metadata": {},
     "output_type": "execute_result"
    }
   ],
   "source": [
    "id(d)\n",
    "# id is not channgin hence its mutable in nature"
   ]
  },
  {
   "cell_type": "code",
   "execution_count": 20,
   "id": "b15b94e1",
   "metadata": {},
   "outputs": [
    {
     "data": {
      "text/plain": [
       "0     Vaibhav\n",
       "1    Harshala\n",
       "2    Karishma\n",
       "3      Kuldip\n",
       "4       Nitin\n",
       "5      Ramdas\n",
       "6     Sachine\n",
       "dtype: object"
      ]
     },
     "execution_count": 20,
     "metadata": {},
     "output_type": "execute_result"
    }
   ],
   "source": [
    "d"
   ]
  },
  {
   "cell_type": "markdown",
   "id": "24a4f8e6",
   "metadata": {},
   "source": [
    "## convert all names to upper case"
   ]
  },
  {
   "cell_type": "code",
   "execution_count": 23,
   "id": "3d533353",
   "metadata": {},
   "outputs": [
    {
     "data": {
      "text/plain": [
       "0     VAIBHAV\n",
       "1    HARSHALA\n",
       "2    KARISHMA\n",
       "3      KULDIP\n",
       "4       NITIN\n",
       "5      RAMDAS\n",
       "6     SACHINE\n",
       "dtype: object"
      ]
     },
     "execution_count": 23,
     "metadata": {},
     "output_type": "execute_result"
    }
   ],
   "source": [
    "d.str.upper()"
   ]
  },
  {
   "cell_type": "markdown",
   "id": "b5ec8419",
   "metadata": {},
   "source": [
    "### fetch candidates who name starts with K"
   ]
  },
  {
   "cell_type": "code",
   "execution_count": 26,
   "id": "6142bd27",
   "metadata": {},
   "outputs": [
    {
     "data": {
      "text/plain": [
       "0    False\n",
       "1    False\n",
       "2     True\n",
       "3     True\n",
       "4    False\n",
       "5    False\n",
       "6    False\n",
       "dtype: bool"
      ]
     },
     "execution_count": 26,
     "metadata": {},
     "output_type": "execute_result"
    }
   ],
   "source": [
    "d.str.startswith('K')"
   ]
  },
  {
   "cell_type": "code",
   "execution_count": 27,
   "id": "5389d3c1",
   "metadata": {},
   "outputs": [
    {
     "data": {
      "text/plain": [
       "2    Karishma\n",
       "3      Kuldip\n",
       "dtype: object"
      ]
     },
     "execution_count": 27,
     "metadata": {},
     "output_type": "execute_result"
    }
   ],
   "source": [
    "d[d.str.startswith('K')]"
   ]
  },
  {
   "cell_type": "code",
   "execution_count": 28,
   "id": "2929e5e6",
   "metadata": {},
   "outputs": [
    {
     "data": {
      "text/plain": [
       "['Avi$$nash  ',\n",
       " '  $*Harshala',\n",
       " 'Karish**ma  ',\n",
       " 'Kul*$dip',\n",
       " 'Ni  tin',\n",
       " 'Ram####das',\n",
       " 'Sach   **ine']"
      ]
     },
     "execution_count": 28,
     "metadata": {},
     "output_type": "execute_result"
    }
   ],
   "source": [
    "n2 = ['Avi$$nash  ','  $*Harshala','Karish**ma  ','Kul*$dip','Ni  tin','Ram####das','Sach   **ine']\n",
    "n2"
   ]
  },
  {
   "cell_type": "code",
   "execution_count": 30,
   "id": "c5d63ce6",
   "metadata": {},
   "outputs": [
    {
     "data": {
      "text/plain": [
       "0     Avi$$nash  \n",
       "1      $*Harshala\n",
       "2    Karish**ma  \n",
       "3        Kul*$dip\n",
       "4         Ni  tin\n",
       "5      Ram####das\n",
       "6    Sach   **ine\n",
       "dtype: object"
      ]
     },
     "execution_count": 30,
     "metadata": {},
     "output_type": "execute_result"
    }
   ],
   "source": [
    "f = pd.Series(n2)\n",
    "f"
   ]
  },
  {
   "cell_type": "code",
   "execution_count": 34,
   "id": "6d7a978d",
   "metadata": {},
   "outputs": [
    {
     "data": {
      "text/plain": [
       "0       Avi$$nash\n",
       "1      $*Harshala\n",
       "2      Karish**ma\n",
       "3        Kul*$dip\n",
       "4         Ni  tin\n",
       "5      Ram####das\n",
       "6    Sach   **ine\n",
       "dtype: object"
      ]
     },
     "execution_count": 34,
     "metadata": {},
     "output_type": "execute_result"
    }
   ],
   "source": [
    "# remove space at prefix and suffixe side\n",
    "f = f.str.strip()\n",
    "f"
   ]
  },
  {
   "cell_type": "code",
   "execution_count": 36,
   "id": "6febb2f5",
   "metadata": {},
   "outputs": [
    {
     "data": {
      "text/plain": [
       "0       Avi$$nash\n",
       "1        Harshala\n",
       "2      Karish**ma\n",
       "3        Kul*$dip\n",
       "4         Ni  tin\n",
       "5      Ram####das\n",
       "6    Sach   **ine\n",
       "dtype: object"
      ]
     },
     "execution_count": 36,
     "metadata": {},
     "output_type": "execute_result"
    }
   ],
   "source": [
    "f = f.str.strip('$*')\n",
    "f"
   ]
  },
  {
   "cell_type": "code",
   "execution_count": 50,
   "id": "9c2c2545",
   "metadata": {
    "scrolled": true
   },
   "outputs": [
    {
     "name": "stderr",
     "output_type": "stream",
     "text": [
      "C:\\Users\\hakim\\AppData\\Local\\Temp/ipykernel_10256/4140515628.py:1: FutureWarning: The default value of regex will change from True to False in a future version. In addition, single character regular expressions will *not* be treated as literal strings when regex=True.\n",
      "  f2 = f.str.replace('$','')\n"
     ]
    }
   ],
   "source": [
    "f2 = f.str.replace('$','')"
   ]
  },
  {
   "cell_type": "code",
   "execution_count": 51,
   "id": "afb6f40c",
   "metadata": {},
   "outputs": [
    {
     "data": {
      "text/plain": [
       "0         Avinash\n",
       "1        Harshala\n",
       "2      Karish**ma\n",
       "3         Kul*dip\n",
       "4         Ni  tin\n",
       "5          Ramdas\n",
       "6    Sach   **ine\n",
       "dtype: object"
      ]
     },
     "execution_count": 51,
     "metadata": {},
     "output_type": "execute_result"
    }
   ],
   "source": [
    "f2.str.replace('#','')"
   ]
  },
  {
   "cell_type": "code",
   "execution_count": 46,
   "id": "38516bfa",
   "metadata": {},
   "outputs": [
    {
     "data": {
      "text/plain": [
       "0         Avinash\n",
       "1        Harshala\n",
       "2        Karishma\n",
       "3        Kul*$dip\n",
       "4         Ni  tin\n",
       "5      Ram####das\n",
       "6    Sach   **ine\n",
       "dtype: object"
      ]
     },
     "execution_count": 46,
     "metadata": {},
     "output_type": "execute_result"
    }
   ],
   "source": [
    "# use replace of Series\n",
    "f.replace({'Avi$$nash':'Avinash','Karish**ma':'Karishma'})"
   ]
  },
  {
   "cell_type": "code",
   "execution_count": 53,
   "id": "bd404032",
   "metadata": {},
   "outputs": [
    {
     "name": "stderr",
     "output_type": "stream",
     "text": [
      "C:\\Users\\hakim\\AppData\\Local\\Temp/ipykernel_10256/3127404282.py:1: FutureWarning: The default value of regex will change from True to False in a future version. In addition, single character regular expressions will *not* be treated as literal strings when regex=True.\n",
      "  f.str.replace('$','').str.replace('*','').str.replace('#','').str.replace(' ','')\n"
     ]
    },
    {
     "data": {
      "text/plain": [
       "0     Avinash\n",
       "1    Harshala\n",
       "2    Karishma\n",
       "3      Kuldip\n",
       "4       Nitin\n",
       "5      Ramdas\n",
       "6     Sachine\n",
       "dtype: object"
      ]
     },
     "execution_count": 53,
     "metadata": {},
     "output_type": "execute_result"
    }
   ],
   "source": [
    "f.str.replace('$','').str.replace('*','').str.replace('#','').str.replace(' ','')"
   ]
  },
  {
   "cell_type": "code",
   "execution_count": null,
   "id": "d7b8a5fb",
   "metadata": {},
   "outputs": [],
   "source": []
  }
 ],
 "metadata": {
  "kernelspec": {
   "display_name": "Python 3 (ipykernel)",
   "language": "python",
   "name": "python3"
  },
  "language_info": {
   "codemirror_mode": {
    "name": "ipython",
    "version": 3
   },
   "file_extension": ".py",
   "mimetype": "text/x-python",
   "name": "python",
   "nbconvert_exporter": "python",
   "pygments_lexer": "ipython3",
   "version": "3.9.12"
  }
 },
 "nbformat": 4,
 "nbformat_minor": 5
}
