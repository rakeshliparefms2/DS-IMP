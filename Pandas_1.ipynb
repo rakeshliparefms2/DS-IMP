{
 "cells": [
  {
   "cell_type": "code",
   "execution_count": 1,
   "id": "5484c28c",
   "metadata": {},
   "outputs": [],
   "source": [
    "import numpy as np\n",
    "import pandas as pd"
   ]
  },
  {
   "cell_type": "code",
   "execution_count": 3,
   "id": "f63cc0d7",
   "metadata": {},
   "outputs": [
    {
     "data": {
      "text/plain": [
       "array([[0.27558068, 0.9318565 , 0.91062627],\n",
       "       [0.11993094, 0.29235358, 0.64235027],\n",
       "       [0.72069289, 0.70964287, 0.2864859 ],\n",
       "       [0.88812746, 0.39954856, 0.85926444]])"
      ]
     },
     "execution_count": 3,
     "metadata": {},
     "output_type": "execute_result"
    }
   ],
   "source": [
    "data = np.random.random((4,3))\n",
    "data"
   ]
  },
  {
   "cell_type": "code",
   "execution_count": 9,
   "id": "22a05ce2",
   "metadata": {},
   "outputs": [
    {
     "data": {
      "text/html": [
       "<div>\n",
       "<style scoped>\n",
       "    .dataframe tbody tr th:only-of-type {\n",
       "        vertical-align: middle;\n",
       "    }\n",
       "\n",
       "    .dataframe tbody tr th {\n",
       "        vertical-align: top;\n",
       "    }\n",
       "\n",
       "    .dataframe thead th {\n",
       "        text-align: right;\n",
       "    }\n",
       "</style>\n",
       "<table border=\"1\" class=\"dataframe\">\n",
       "  <thead>\n",
       "    <tr style=\"text-align: right;\">\n",
       "      <th></th>\n",
       "      <th>dt_1</th>\n",
       "      <th>dt_2</th>\n",
       "      <th>dt_3</th>\n",
       "    </tr>\n",
       "  </thead>\n",
       "  <tbody>\n",
       "    <tr>\n",
       "      <th>0</th>\n",
       "      <td>0.275581</td>\n",
       "      <td>0.931856</td>\n",
       "      <td>0.910626</td>\n",
       "    </tr>\n",
       "    <tr>\n",
       "      <th>1</th>\n",
       "      <td>0.119931</td>\n",
       "      <td>0.292354</td>\n",
       "      <td>0.642350</td>\n",
       "    </tr>\n",
       "    <tr>\n",
       "      <th>2</th>\n",
       "      <td>0.720693</td>\n",
       "      <td>0.709643</td>\n",
       "      <td>0.286486</td>\n",
       "    </tr>\n",
       "    <tr>\n",
       "      <th>3</th>\n",
       "      <td>0.888127</td>\n",
       "      <td>0.399549</td>\n",
       "      <td>0.859264</td>\n",
       "    </tr>\n",
       "  </tbody>\n",
       "</table>\n",
       "</div>"
      ],
      "text/plain": [
       "       dt_1      dt_2      dt_3\n",
       "0  0.275581  0.931856  0.910626\n",
       "1  0.119931  0.292354  0.642350\n",
       "2  0.720693  0.709643  0.286486\n",
       "3  0.888127  0.399549  0.859264"
      ]
     },
     "execution_count": 9,
     "metadata": {},
     "output_type": "execute_result"
    }
   ],
   "source": [
    "d = pd.DataFrame(data,columns=['dt_1','dt_2','dt_3'])\n",
    "d"
   ]
  },
  {
   "cell_type": "code",
   "execution_count": 10,
   "id": "92ac5c75",
   "metadata": {},
   "outputs": [
    {
     "data": {
      "text/plain": [
       "Index(['dt_1', 'dt_2', 'dt_3'], dtype='object')"
      ]
     },
     "execution_count": 10,
     "metadata": {},
     "output_type": "execute_result"
    }
   ],
   "source": [
    "#check column names\n",
    "d.columns"
   ]
  },
  {
   "cell_type": "code",
   "execution_count": 11,
   "id": "79367498",
   "metadata": {},
   "outputs": [],
   "source": [
    "#Q. change all column names/replace column names with new one\n",
    "d.columns = ['Bhagwan','Krupa','Suraj']"
   ]
  },
  {
   "cell_type": "code",
   "execution_count": 12,
   "id": "744e67f5",
   "metadata": {},
   "outputs": [
    {
     "data": {
      "text/html": [
       "<div>\n",
       "<style scoped>\n",
       "    .dataframe tbody tr th:only-of-type {\n",
       "        vertical-align: middle;\n",
       "    }\n",
       "\n",
       "    .dataframe tbody tr th {\n",
       "        vertical-align: top;\n",
       "    }\n",
       "\n",
       "    .dataframe thead th {\n",
       "        text-align: right;\n",
       "    }\n",
       "</style>\n",
       "<table border=\"1\" class=\"dataframe\">\n",
       "  <thead>\n",
       "    <tr style=\"text-align: right;\">\n",
       "      <th></th>\n",
       "      <th>Bhagwan</th>\n",
       "      <th>Krupa</th>\n",
       "      <th>Suraj</th>\n",
       "    </tr>\n",
       "  </thead>\n",
       "  <tbody>\n",
       "    <tr>\n",
       "      <th>0</th>\n",
       "      <td>0.275581</td>\n",
       "      <td>0.931856</td>\n",
       "      <td>0.910626</td>\n",
       "    </tr>\n",
       "    <tr>\n",
       "      <th>1</th>\n",
       "      <td>0.119931</td>\n",
       "      <td>0.292354</td>\n",
       "      <td>0.642350</td>\n",
       "    </tr>\n",
       "    <tr>\n",
       "      <th>2</th>\n",
       "      <td>0.720693</td>\n",
       "      <td>0.709643</td>\n",
       "      <td>0.286486</td>\n",
       "    </tr>\n",
       "    <tr>\n",
       "      <th>3</th>\n",
       "      <td>0.888127</td>\n",
       "      <td>0.399549</td>\n",
       "      <td>0.859264</td>\n",
       "    </tr>\n",
       "  </tbody>\n",
       "</table>\n",
       "</div>"
      ],
      "text/plain": [
       "    Bhagwan     Krupa     Suraj\n",
       "0  0.275581  0.931856  0.910626\n",
       "1  0.119931  0.292354  0.642350\n",
       "2  0.720693  0.709643  0.286486\n",
       "3  0.888127  0.399549  0.859264"
      ]
     },
     "execution_count": 12,
     "metadata": {},
     "output_type": "execute_result"
    }
   ],
   "source": [
    "d"
   ]
  },
  {
   "cell_type": "code",
   "execution_count": 14,
   "id": "2cf687b4",
   "metadata": {},
   "outputs": [
    {
     "data": {
      "text/html": [
       "<div>\n",
       "<style scoped>\n",
       "    .dataframe tbody tr th:only-of-type {\n",
       "        vertical-align: middle;\n",
       "    }\n",
       "\n",
       "    .dataframe tbody tr th {\n",
       "        vertical-align: top;\n",
       "    }\n",
       "\n",
       "    .dataframe thead th {\n",
       "        text-align: right;\n",
       "    }\n",
       "</style>\n",
       "<table border=\"1\" class=\"dataframe\">\n",
       "  <thead>\n",
       "    <tr style=\"text-align: right;\">\n",
       "      <th></th>\n",
       "      <th>Bhagwan</th>\n",
       "      <th>Krupa</th>\n",
       "      <th>Rakesh</th>\n",
       "    </tr>\n",
       "  </thead>\n",
       "  <tbody>\n",
       "    <tr>\n",
       "      <th>0</th>\n",
       "      <td>0.275581</td>\n",
       "      <td>0.931856</td>\n",
       "      <td>0.910626</td>\n",
       "    </tr>\n",
       "    <tr>\n",
       "      <th>1</th>\n",
       "      <td>0.119931</td>\n",
       "      <td>0.292354</td>\n",
       "      <td>0.642350</td>\n",
       "    </tr>\n",
       "    <tr>\n",
       "      <th>2</th>\n",
       "      <td>0.720693</td>\n",
       "      <td>0.709643</td>\n",
       "      <td>0.286486</td>\n",
       "    </tr>\n",
       "    <tr>\n",
       "      <th>3</th>\n",
       "      <td>0.888127</td>\n",
       "      <td>0.399549</td>\n",
       "      <td>0.859264</td>\n",
       "    </tr>\n",
       "  </tbody>\n",
       "</table>\n",
       "</div>"
      ],
      "text/plain": [
       "    Bhagwan     Krupa    Rakesh\n",
       "0  0.275581  0.931856  0.910626\n",
       "1  0.119931  0.292354  0.642350\n",
       "2  0.720693  0.709643  0.286486\n",
       "3  0.888127  0.399549  0.859264"
      ]
     },
     "execution_count": 14,
     "metadata": {},
     "output_type": "execute_result"
    }
   ],
   "source": [
    "# Q. replace a name of single column\n",
    "d.rename(columns={'Suraj':'Rakesh'})\n",
    "#will give temp output"
   ]
  },
  {
   "cell_type": "code",
   "execution_count": 16,
   "id": "8cef4f18",
   "metadata": {},
   "outputs": [],
   "source": [
    "# but if i want permanent change\n",
    "d.rename(columns={'Suraj':'Rakesh'},inplace=True)"
   ]
  },
  {
   "cell_type": "code",
   "execution_count": 17,
   "id": "bac5e53c",
   "metadata": {},
   "outputs": [
    {
     "data": {
      "text/html": [
       "<div>\n",
       "<style scoped>\n",
       "    .dataframe tbody tr th:only-of-type {\n",
       "        vertical-align: middle;\n",
       "    }\n",
       "\n",
       "    .dataframe tbody tr th {\n",
       "        vertical-align: top;\n",
       "    }\n",
       "\n",
       "    .dataframe thead th {\n",
       "        text-align: right;\n",
       "    }\n",
       "</style>\n",
       "<table border=\"1\" class=\"dataframe\">\n",
       "  <thead>\n",
       "    <tr style=\"text-align: right;\">\n",
       "      <th></th>\n",
       "      <th>Bhagwan</th>\n",
       "      <th>Krupa</th>\n",
       "      <th>Rakesh</th>\n",
       "    </tr>\n",
       "  </thead>\n",
       "  <tbody>\n",
       "    <tr>\n",
       "      <th>0</th>\n",
       "      <td>0.275581</td>\n",
       "      <td>0.931856</td>\n",
       "      <td>0.910626</td>\n",
       "    </tr>\n",
       "    <tr>\n",
       "      <th>1</th>\n",
       "      <td>0.119931</td>\n",
       "      <td>0.292354</td>\n",
       "      <td>0.642350</td>\n",
       "    </tr>\n",
       "    <tr>\n",
       "      <th>2</th>\n",
       "      <td>0.720693</td>\n",
       "      <td>0.709643</td>\n",
       "      <td>0.286486</td>\n",
       "    </tr>\n",
       "    <tr>\n",
       "      <th>3</th>\n",
       "      <td>0.888127</td>\n",
       "      <td>0.399549</td>\n",
       "      <td>0.859264</td>\n",
       "    </tr>\n",
       "  </tbody>\n",
       "</table>\n",
       "</div>"
      ],
      "text/plain": [
       "    Bhagwan     Krupa    Rakesh\n",
       "0  0.275581  0.931856  0.910626\n",
       "1  0.119931  0.292354  0.642350\n",
       "2  0.720693  0.709643  0.286486\n",
       "3  0.888127  0.399549  0.859264"
      ]
     },
     "execution_count": 17,
     "metadata": {},
     "output_type": "execute_result"
    }
   ],
   "source": [
    "d"
   ]
  },
  {
   "cell_type": "code",
   "execution_count": 21,
   "id": "559fd66d",
   "metadata": {},
   "outputs": [
    {
     "data": {
      "text/html": [
       "<div>\n",
       "<style scoped>\n",
       "    .dataframe tbody tr th:only-of-type {\n",
       "        vertical-align: middle;\n",
       "    }\n",
       "\n",
       "    .dataframe tbody tr th {\n",
       "        vertical-align: top;\n",
       "    }\n",
       "\n",
       "    .dataframe thead th {\n",
       "        text-align: right;\n",
       "    }\n",
       "</style>\n",
       "<table border=\"1\" class=\"dataframe\">\n",
       "  <thead>\n",
       "    <tr style=\"text-align: right;\">\n",
       "      <th></th>\n",
       "      <th>Bhagwan</th>\n",
       "      <th>Krupa</th>\n",
       "      <th>Rakesh</th>\n",
       "    </tr>\n",
       "  </thead>\n",
       "  <tbody>\n",
       "    <tr>\n",
       "      <th>0</th>\n",
       "      <td>0.275581</td>\n",
       "      <td>0.931856</td>\n",
       "      <td>0.910626</td>\n",
       "    </tr>\n",
       "    <tr>\n",
       "      <th>101</th>\n",
       "      <td>0.119931</td>\n",
       "      <td>0.292354</td>\n",
       "      <td>0.642350</td>\n",
       "    </tr>\n",
       "    <tr>\n",
       "      <th>2</th>\n",
       "      <td>0.720693</td>\n",
       "      <td>0.709643</td>\n",
       "      <td>0.286486</td>\n",
       "    </tr>\n",
       "    <tr>\n",
       "      <th>3</th>\n",
       "      <td>0.888127</td>\n",
       "      <td>0.399549</td>\n",
       "      <td>0.859264</td>\n",
       "    </tr>\n",
       "  </tbody>\n",
       "</table>\n",
       "</div>"
      ],
      "text/plain": [
       "      Bhagwan     Krupa    Rakesh\n",
       "0    0.275581  0.931856  0.910626\n",
       "101  0.119931  0.292354  0.642350\n",
       "2    0.720693  0.709643  0.286486\n",
       "3    0.888127  0.399549  0.859264"
      ]
     },
     "execution_count": 21,
     "metadata": {},
     "output_type": "execute_result"
    }
   ],
   "source": [
    "d.rename(index={1:101})"
   ]
  },
  {
   "cell_type": "code",
   "execution_count": 22,
   "id": "5eedeb6d",
   "metadata": {},
   "outputs": [
    {
     "data": {
      "text/plain": [
       "RangeIndex(start=0, stop=4, step=1)"
      ]
     },
     "execution_count": 22,
     "metadata": {},
     "output_type": "execute_result"
    }
   ],
   "source": [
    "d.index"
   ]
  },
  {
   "cell_type": "code",
   "execution_count": 24,
   "id": "3000d568",
   "metadata": {},
   "outputs": [],
   "source": [
    "#using above option its also possible to change index\n",
    "d.index = ['A','B','C','D']\n",
    "#its inplace"
   ]
  },
  {
   "cell_type": "code",
   "execution_count": 25,
   "id": "238231f9",
   "metadata": {},
   "outputs": [
    {
     "data": {
      "text/html": [
       "<div>\n",
       "<style scoped>\n",
       "    .dataframe tbody tr th:only-of-type {\n",
       "        vertical-align: middle;\n",
       "    }\n",
       "\n",
       "    .dataframe tbody tr th {\n",
       "        vertical-align: top;\n",
       "    }\n",
       "\n",
       "    .dataframe thead th {\n",
       "        text-align: right;\n",
       "    }\n",
       "</style>\n",
       "<table border=\"1\" class=\"dataframe\">\n",
       "  <thead>\n",
       "    <tr style=\"text-align: right;\">\n",
       "      <th></th>\n",
       "      <th>Bhagwan</th>\n",
       "      <th>Krupa</th>\n",
       "      <th>Rakesh</th>\n",
       "    </tr>\n",
       "  </thead>\n",
       "  <tbody>\n",
       "    <tr>\n",
       "      <th>A</th>\n",
       "      <td>0.275581</td>\n",
       "      <td>0.931856</td>\n",
       "      <td>0.910626</td>\n",
       "    </tr>\n",
       "    <tr>\n",
       "      <th>B</th>\n",
       "      <td>0.119931</td>\n",
       "      <td>0.292354</td>\n",
       "      <td>0.642350</td>\n",
       "    </tr>\n",
       "    <tr>\n",
       "      <th>C</th>\n",
       "      <td>0.720693</td>\n",
       "      <td>0.709643</td>\n",
       "      <td>0.286486</td>\n",
       "    </tr>\n",
       "    <tr>\n",
       "      <th>D</th>\n",
       "      <td>0.888127</td>\n",
       "      <td>0.399549</td>\n",
       "      <td>0.859264</td>\n",
       "    </tr>\n",
       "  </tbody>\n",
       "</table>\n",
       "</div>"
      ],
      "text/plain": [
       "    Bhagwan     Krupa    Rakesh\n",
       "A  0.275581  0.931856  0.910626\n",
       "B  0.119931  0.292354  0.642350\n",
       "C  0.720693  0.709643  0.286486\n",
       "D  0.888127  0.399549  0.859264"
      ]
     },
     "execution_count": 25,
     "metadata": {},
     "output_type": "execute_result"
    }
   ],
   "source": [
    "d"
   ]
  },
  {
   "cell_type": "code",
   "execution_count": 31,
   "id": "4aae9307",
   "metadata": {},
   "outputs": [
    {
     "data": {
      "text/plain": [
       "['X', 'Y']"
      ]
     },
     "execution_count": 31,
     "metadata": {},
     "output_type": "execute_result"
    }
   ],
   "source": [
    "d2 = d[:2].index = ['X','Y']\n",
    "d2"
   ]
  },
  {
   "cell_type": "code",
   "execution_count": 30,
   "id": "e6745f0e",
   "metadata": {},
   "outputs": [
    {
     "data": {
      "text/html": [
       "<div>\n",
       "<style scoped>\n",
       "    .dataframe tbody tr th:only-of-type {\n",
       "        vertical-align: middle;\n",
       "    }\n",
       "\n",
       "    .dataframe tbody tr th {\n",
       "        vertical-align: top;\n",
       "    }\n",
       "\n",
       "    .dataframe thead th {\n",
       "        text-align: right;\n",
       "    }\n",
       "</style>\n",
       "<table border=\"1\" class=\"dataframe\">\n",
       "  <thead>\n",
       "    <tr style=\"text-align: right;\">\n",
       "      <th></th>\n",
       "      <th>Bhagwan</th>\n",
       "      <th>Krupa</th>\n",
       "      <th>Rakesh</th>\n",
       "    </tr>\n",
       "  </thead>\n",
       "  <tbody>\n",
       "    <tr>\n",
       "      <th>A</th>\n",
       "      <td>0.275581</td>\n",
       "      <td>0.931856</td>\n",
       "      <td>0.910626</td>\n",
       "    </tr>\n",
       "    <tr>\n",
       "      <th>B</th>\n",
       "      <td>0.119931</td>\n",
       "      <td>0.292354</td>\n",
       "      <td>0.642350</td>\n",
       "    </tr>\n",
       "    <tr>\n",
       "      <th>C</th>\n",
       "      <td>0.720693</td>\n",
       "      <td>0.709643</td>\n",
       "      <td>0.286486</td>\n",
       "    </tr>\n",
       "    <tr>\n",
       "      <th>D</th>\n",
       "      <td>0.888127</td>\n",
       "      <td>0.399549</td>\n",
       "      <td>0.859264</td>\n",
       "    </tr>\n",
       "  </tbody>\n",
       "</table>\n",
       "</div>"
      ],
      "text/plain": [
       "    Bhagwan     Krupa    Rakesh\n",
       "A  0.275581  0.931856  0.910626\n",
       "B  0.119931  0.292354  0.642350\n",
       "C  0.720693  0.709643  0.286486\n",
       "D  0.888127  0.399549  0.859264"
      ]
     },
     "execution_count": 30,
     "metadata": {},
     "output_type": "execute_result"
    }
   ],
   "source": [
    "d[:2342]"
   ]
  },
  {
   "cell_type": "code",
   "execution_count": 32,
   "id": "61ce08b6",
   "metadata": {
    "scrolled": true
   },
   "outputs": [
    {
     "data": {
      "text/html": [
       "<div>\n",
       "<style scoped>\n",
       "    .dataframe tbody tr th:only-of-type {\n",
       "        vertical-align: middle;\n",
       "    }\n",
       "\n",
       "    .dataframe tbody tr th {\n",
       "        vertical-align: top;\n",
       "    }\n",
       "\n",
       "    .dataframe thead th {\n",
       "        text-align: right;\n",
       "    }\n",
       "</style>\n",
       "<table border=\"1\" class=\"dataframe\">\n",
       "  <thead>\n",
       "    <tr style=\"text-align: right;\">\n",
       "      <th></th>\n",
       "      <th>Bhagwan</th>\n",
       "      <th>Krupa</th>\n",
       "      <th>Rakesh</th>\n",
       "    </tr>\n",
       "  </thead>\n",
       "  <tbody>\n",
       "    <tr>\n",
       "      <th>A</th>\n",
       "      <td>0.275581</td>\n",
       "      <td>0.931856</td>\n",
       "      <td>0.910626</td>\n",
       "    </tr>\n",
       "    <tr>\n",
       "      <th>B</th>\n",
       "      <td>0.119931</td>\n",
       "      <td>0.292354</td>\n",
       "      <td>0.642350</td>\n",
       "    </tr>\n",
       "    <tr>\n",
       "      <th>C</th>\n",
       "      <td>0.720693</td>\n",
       "      <td>0.709643</td>\n",
       "      <td>0.286486</td>\n",
       "    </tr>\n",
       "    <tr>\n",
       "      <th>D</th>\n",
       "      <td>0.888127</td>\n",
       "      <td>0.399549</td>\n",
       "      <td>0.859264</td>\n",
       "    </tr>\n",
       "  </tbody>\n",
       "</table>\n",
       "</div>"
      ],
      "text/plain": [
       "    Bhagwan     Krupa    Rakesh\n",
       "A  0.275581  0.931856  0.910626\n",
       "B  0.119931  0.292354  0.642350\n",
       "C  0.720693  0.709643  0.286486\n",
       "D  0.888127  0.399549  0.859264"
      ]
     },
     "execution_count": 32,
     "metadata": {},
     "output_type": "execute_result"
    }
   ],
   "source": [
    "d"
   ]
  },
  {
   "cell_type": "code",
   "execution_count": 34,
   "id": "7d10d98f",
   "metadata": {},
   "outputs": [
    {
     "data": {
      "text/plain": [
       "Index(['A', 'B'], dtype='object')"
      ]
     },
     "execution_count": 34,
     "metadata": {},
     "output_type": "execute_result"
    }
   ],
   "source": [
    "d[:2].index"
   ]
  },
  {
   "cell_type": "code",
   "execution_count": 36,
   "id": "277237e3",
   "metadata": {},
   "outputs": [
    {
     "data": {
      "text/plain": [
       "{'A': 'X', 'B': 'Y'}"
      ]
     },
     "execution_count": 36,
     "metadata": {},
     "output_type": "execute_result"
    }
   ],
   "source": [
    "dict(zip(d[:2].index,['X','Y']))"
   ]
  },
  {
   "cell_type": "code",
   "execution_count": 38,
   "id": "f0222adc",
   "metadata": {},
   "outputs": [
    {
     "data": {
      "text/html": [
       "<div>\n",
       "<style scoped>\n",
       "    .dataframe tbody tr th:only-of-type {\n",
       "        vertical-align: middle;\n",
       "    }\n",
       "\n",
       "    .dataframe tbody tr th {\n",
       "        vertical-align: top;\n",
       "    }\n",
       "\n",
       "    .dataframe thead th {\n",
       "        text-align: right;\n",
       "    }\n",
       "</style>\n",
       "<table border=\"1\" class=\"dataframe\">\n",
       "  <thead>\n",
       "    <tr style=\"text-align: right;\">\n",
       "      <th></th>\n",
       "      <th>Bhagwan</th>\n",
       "      <th>Krupa</th>\n",
       "      <th>Rakesh</th>\n",
       "    </tr>\n",
       "  </thead>\n",
       "  <tbody>\n",
       "    <tr>\n",
       "      <th>X</th>\n",
       "      <td>0.275581</td>\n",
       "      <td>0.931856</td>\n",
       "      <td>0.910626</td>\n",
       "    </tr>\n",
       "    <tr>\n",
       "      <th>Y</th>\n",
       "      <td>0.119931</td>\n",
       "      <td>0.292354</td>\n",
       "      <td>0.642350</td>\n",
       "    </tr>\n",
       "    <tr>\n",
       "      <th>C</th>\n",
       "      <td>0.720693</td>\n",
       "      <td>0.709643</td>\n",
       "      <td>0.286486</td>\n",
       "    </tr>\n",
       "    <tr>\n",
       "      <th>D</th>\n",
       "      <td>0.888127</td>\n",
       "      <td>0.399549</td>\n",
       "      <td>0.859264</td>\n",
       "    </tr>\n",
       "  </tbody>\n",
       "</table>\n",
       "</div>"
      ],
      "text/plain": [
       "    Bhagwan     Krupa    Rakesh\n",
       "X  0.275581  0.931856  0.910626\n",
       "Y  0.119931  0.292354  0.642350\n",
       "C  0.720693  0.709643  0.286486\n",
       "D  0.888127  0.399549  0.859264"
      ]
     },
     "execution_count": 38,
     "metadata": {},
     "output_type": "execute_result"
    }
   ],
   "source": [
    "d.rename(index=dict(zip(d[:2].index,['X','Y'])))"
   ]
  },
  {
   "cell_type": "code",
   "execution_count": 39,
   "id": "d3109699",
   "metadata": {},
   "outputs": [
    {
     "data": {
      "text/html": [
       "<div>\n",
       "<style scoped>\n",
       "    .dataframe tbody tr th:only-of-type {\n",
       "        vertical-align: middle;\n",
       "    }\n",
       "\n",
       "    .dataframe tbody tr th {\n",
       "        vertical-align: top;\n",
       "    }\n",
       "\n",
       "    .dataframe thead th {\n",
       "        text-align: right;\n",
       "    }\n",
       "</style>\n",
       "<table border=\"1\" class=\"dataframe\">\n",
       "  <thead>\n",
       "    <tr style=\"text-align: right;\">\n",
       "      <th></th>\n",
       "      <th>Bhagwan</th>\n",
       "      <th>Krupa</th>\n",
       "      <th>Rakesh</th>\n",
       "    </tr>\n",
       "  </thead>\n",
       "  <tbody>\n",
       "    <tr>\n",
       "      <th>A</th>\n",
       "      <td>0.275581</td>\n",
       "      <td>0.931856</td>\n",
       "      <td>0.910626</td>\n",
       "    </tr>\n",
       "    <tr>\n",
       "      <th>B</th>\n",
       "      <td>0.119931</td>\n",
       "      <td>0.292354</td>\n",
       "      <td>0.642350</td>\n",
       "    </tr>\n",
       "    <tr>\n",
       "      <th>C</th>\n",
       "      <td>0.720693</td>\n",
       "      <td>0.709643</td>\n",
       "      <td>0.286486</td>\n",
       "    </tr>\n",
       "    <tr>\n",
       "      <th>D</th>\n",
       "      <td>0.888127</td>\n",
       "      <td>0.399549</td>\n",
       "      <td>0.859264</td>\n",
       "    </tr>\n",
       "  </tbody>\n",
       "</table>\n",
       "</div>"
      ],
      "text/plain": [
       "    Bhagwan     Krupa    Rakesh\n",
       "A  0.275581  0.931856  0.910626\n",
       "B  0.119931  0.292354  0.642350\n",
       "C  0.720693  0.709643  0.286486\n",
       "D  0.888127  0.399549  0.859264"
      ]
     },
     "execution_count": 39,
     "metadata": {},
     "output_type": "execute_result"
    }
   ],
   "source": [
    "d"
   ]
  },
  {
   "cell_type": "markdown",
   "id": "01bba441",
   "metadata": {},
   "source": [
    "## check different properties of Dataframe"
   ]
  },
  {
   "cell_type": "code",
   "execution_count": 40,
   "id": "6913589b",
   "metadata": {},
   "outputs": [
    {
     "data": {
      "text/html": [
       "<div>\n",
       "<style scoped>\n",
       "    .dataframe tbody tr th:only-of-type {\n",
       "        vertical-align: middle;\n",
       "    }\n",
       "\n",
       "    .dataframe tbody tr th {\n",
       "        vertical-align: top;\n",
       "    }\n",
       "\n",
       "    .dataframe thead th {\n",
       "        text-align: right;\n",
       "    }\n",
       "</style>\n",
       "<table border=\"1\" class=\"dataframe\">\n",
       "  <thead>\n",
       "    <tr style=\"text-align: right;\">\n",
       "      <th></th>\n",
       "      <th>Bhagwan</th>\n",
       "      <th>Krupa</th>\n",
       "      <th>Rakesh</th>\n",
       "    </tr>\n",
       "  </thead>\n",
       "  <tbody>\n",
       "    <tr>\n",
       "      <th>A</th>\n",
       "      <td>0.275581</td>\n",
       "      <td>0.931856</td>\n",
       "      <td>0.910626</td>\n",
       "    </tr>\n",
       "    <tr>\n",
       "      <th>B</th>\n",
       "      <td>0.119931</td>\n",
       "      <td>0.292354</td>\n",
       "      <td>0.642350</td>\n",
       "    </tr>\n",
       "    <tr>\n",
       "      <th>C</th>\n",
       "      <td>0.720693</td>\n",
       "      <td>0.709643</td>\n",
       "      <td>0.286486</td>\n",
       "    </tr>\n",
       "    <tr>\n",
       "      <th>D</th>\n",
       "      <td>0.888127</td>\n",
       "      <td>0.399549</td>\n",
       "      <td>0.859264</td>\n",
       "    </tr>\n",
       "  </tbody>\n",
       "</table>\n",
       "</div>"
      ],
      "text/plain": [
       "    Bhagwan     Krupa    Rakesh\n",
       "A  0.275581  0.931856  0.910626\n",
       "B  0.119931  0.292354  0.642350\n",
       "C  0.720693  0.709643  0.286486\n",
       "D  0.888127  0.399549  0.859264"
      ]
     },
     "execution_count": 40,
     "metadata": {},
     "output_type": "execute_result"
    }
   ],
   "source": [
    "d"
   ]
  },
  {
   "cell_type": "code",
   "execution_count": 41,
   "id": "d70eab17",
   "metadata": {},
   "outputs": [
    {
     "data": {
      "text/plain": [
       "(4, 3)"
      ]
     },
     "execution_count": 41,
     "metadata": {},
     "output_type": "execute_result"
    }
   ],
   "source": [
    "# check number of rows and columns\n",
    "d.shape"
   ]
  },
  {
   "cell_type": "code",
   "execution_count": 42,
   "id": "3548f3d5",
   "metadata": {},
   "outputs": [
    {
     "data": {
      "text/plain": [
       "12"
      ]
     },
     "execution_count": 42,
     "metadata": {},
     "output_type": "execute_result"
    }
   ],
   "source": [
    "# check total element\n",
    "d.size"
   ]
  },
  {
   "cell_type": "code",
   "execution_count": 43,
   "id": "50697e24",
   "metadata": {},
   "outputs": [
    {
     "data": {
      "text/plain": [
       "Bhagwan    float64\n",
       "Krupa      float64\n",
       "Rakesh     float64\n",
       "dtype: object"
      ]
     },
     "execution_count": 43,
     "metadata": {},
     "output_type": "execute_result"
    }
   ],
   "source": [
    "# check data type\n",
    "d.dtypes"
   ]
  },
  {
   "cell_type": "code",
   "execution_count": 45,
   "id": "f63961b2",
   "metadata": {},
   "outputs": [
    {
     "name": "stdout",
     "output_type": "stream",
     "text": [
      "<class 'pandas.core.frame.DataFrame'>\n",
      "Index: 4 entries, A to D\n",
      "Data columns (total 3 columns):\n",
      " #   Column   Non-Null Count  Dtype  \n",
      "---  ------   --------------  -----  \n",
      " 0   Bhagwan  4 non-null      float64\n",
      " 1   Krupa    4 non-null      float64\n",
      " 2   Rakesh   4 non-null      float64\n",
      "dtypes: float64(3)\n",
      "memory usage: 300.0+ bytes\n"
     ]
    }
   ],
   "source": [
    "# check descriptive summary of data\n",
    "# Print a concise summary of a DataFrame.\n",
    "d.info()"
   ]
  },
  {
   "cell_type": "code",
   "execution_count": 46,
   "id": "cfed65d8",
   "metadata": {},
   "outputs": [
    {
     "data": {
      "text/html": [
       "<div>\n",
       "<style scoped>\n",
       "    .dataframe tbody tr th:only-of-type {\n",
       "        vertical-align: middle;\n",
       "    }\n",
       "\n",
       "    .dataframe tbody tr th {\n",
       "        vertical-align: top;\n",
       "    }\n",
       "\n",
       "    .dataframe thead th {\n",
       "        text-align: right;\n",
       "    }\n",
       "</style>\n",
       "<table border=\"1\" class=\"dataframe\">\n",
       "  <thead>\n",
       "    <tr style=\"text-align: right;\">\n",
       "      <th></th>\n",
       "      <th>Bhagwan</th>\n",
       "      <th>Krupa</th>\n",
       "      <th>Rakesh</th>\n",
       "    </tr>\n",
       "  </thead>\n",
       "  <tbody>\n",
       "    <tr>\n",
       "      <th>count</th>\n",
       "      <td>4.000000</td>\n",
       "      <td>4.000000</td>\n",
       "      <td>4.000000</td>\n",
       "    </tr>\n",
       "    <tr>\n",
       "      <th>mean</th>\n",
       "      <td>0.501083</td>\n",
       "      <td>0.583350</td>\n",
       "      <td>0.674682</td>\n",
       "    </tr>\n",
       "    <tr>\n",
       "      <th>std</th>\n",
       "      <td>0.362473</td>\n",
       "      <td>0.292044</td>\n",
       "      <td>0.283715</td>\n",
       "    </tr>\n",
       "    <tr>\n",
       "      <th>min</th>\n",
       "      <td>0.119931</td>\n",
       "      <td>0.292354</td>\n",
       "      <td>0.286486</td>\n",
       "    </tr>\n",
       "    <tr>\n",
       "      <th>25%</th>\n",
       "      <td>0.236668</td>\n",
       "      <td>0.372750</td>\n",
       "      <td>0.553384</td>\n",
       "    </tr>\n",
       "    <tr>\n",
       "      <th>50%</th>\n",
       "      <td>0.498137</td>\n",
       "      <td>0.554596</td>\n",
       "      <td>0.750807</td>\n",
       "    </tr>\n",
       "    <tr>\n",
       "      <th>75%</th>\n",
       "      <td>0.762552</td>\n",
       "      <td>0.765196</td>\n",
       "      <td>0.872105</td>\n",
       "    </tr>\n",
       "    <tr>\n",
       "      <th>max</th>\n",
       "      <td>0.888127</td>\n",
       "      <td>0.931856</td>\n",
       "      <td>0.910626</td>\n",
       "    </tr>\n",
       "  </tbody>\n",
       "</table>\n",
       "</div>"
      ],
      "text/plain": [
       "        Bhagwan     Krupa    Rakesh\n",
       "count  4.000000  4.000000  4.000000\n",
       "mean   0.501083  0.583350  0.674682\n",
       "std    0.362473  0.292044  0.283715\n",
       "min    0.119931  0.292354  0.286486\n",
       "25%    0.236668  0.372750  0.553384\n",
       "50%    0.498137  0.554596  0.750807\n",
       "75%    0.762552  0.765196  0.872105\n",
       "max    0.888127  0.931856  0.910626"
      ]
     },
     "execution_count": 46,
     "metadata": {},
     "output_type": "execute_result"
    }
   ],
   "source": [
    "# descriptive statistics\n",
    "d.describe()"
   ]
  },
  {
   "cell_type": "code",
   "execution_count": 47,
   "id": "5f2b49b0",
   "metadata": {},
   "outputs": [
    {
     "data": {
      "text/html": [
       "<div>\n",
       "<style scoped>\n",
       "    .dataframe tbody tr th:only-of-type {\n",
       "        vertical-align: middle;\n",
       "    }\n",
       "\n",
       "    .dataframe tbody tr th {\n",
       "        vertical-align: top;\n",
       "    }\n",
       "\n",
       "    .dataframe thead th {\n",
       "        text-align: right;\n",
       "    }\n",
       "</style>\n",
       "<table border=\"1\" class=\"dataframe\">\n",
       "  <thead>\n",
       "    <tr style=\"text-align: right;\">\n",
       "      <th></th>\n",
       "      <th>count</th>\n",
       "      <th>mean</th>\n",
       "      <th>std</th>\n",
       "      <th>min</th>\n",
       "      <th>25%</th>\n",
       "      <th>50%</th>\n",
       "      <th>75%</th>\n",
       "      <th>max</th>\n",
       "    </tr>\n",
       "  </thead>\n",
       "  <tbody>\n",
       "    <tr>\n",
       "      <th>Bhagwan</th>\n",
       "      <td>4.0</td>\n",
       "      <td>0.501083</td>\n",
       "      <td>0.362473</td>\n",
       "      <td>0.119931</td>\n",
       "      <td>0.236668</td>\n",
       "      <td>0.498137</td>\n",
       "      <td>0.762552</td>\n",
       "      <td>0.888127</td>\n",
       "    </tr>\n",
       "    <tr>\n",
       "      <th>Krupa</th>\n",
       "      <td>4.0</td>\n",
       "      <td>0.583350</td>\n",
       "      <td>0.292044</td>\n",
       "      <td>0.292354</td>\n",
       "      <td>0.372750</td>\n",
       "      <td>0.554596</td>\n",
       "      <td>0.765196</td>\n",
       "      <td>0.931856</td>\n",
       "    </tr>\n",
       "    <tr>\n",
       "      <th>Rakesh</th>\n",
       "      <td>4.0</td>\n",
       "      <td>0.674682</td>\n",
       "      <td>0.283715</td>\n",
       "      <td>0.286486</td>\n",
       "      <td>0.553384</td>\n",
       "      <td>0.750807</td>\n",
       "      <td>0.872105</td>\n",
       "      <td>0.910626</td>\n",
       "    </tr>\n",
       "  </tbody>\n",
       "</table>\n",
       "</div>"
      ],
      "text/plain": [
       "         count      mean       std       min       25%       50%       75%  \\\n",
       "Bhagwan    4.0  0.501083  0.362473  0.119931  0.236668  0.498137  0.762552   \n",
       "Krupa      4.0  0.583350  0.292044  0.292354  0.372750  0.554596  0.765196   \n",
       "Rakesh     4.0  0.674682  0.283715  0.286486  0.553384  0.750807  0.872105   \n",
       "\n",
       "              max  \n",
       "Bhagwan  0.888127  \n",
       "Krupa    0.931856  \n",
       "Rakesh   0.910626  "
      ]
     },
     "execution_count": 47,
     "metadata": {},
     "output_type": "execute_result"
    }
   ],
   "source": [
    "# transpose\n",
    "d.describe().transpose()"
   ]
  },
  {
   "cell_type": "code",
   "execution_count": 48,
   "id": "c8553c3e",
   "metadata": {},
   "outputs": [
    {
     "data": {
      "text/plain": [
       "A    0.910626\n",
       "B    0.642350\n",
       "C    0.286486\n",
       "D    0.859264\n",
       "Name: Rakesh, dtype: float64"
      ]
     },
     "execution_count": 48,
     "metadata": {},
     "output_type": "execute_result"
    }
   ],
   "source": [
    "# i want answer of each factor separtely\n",
    "# conside Rakesh column\n",
    "d.Rakesh"
   ]
  },
  {
   "cell_type": "markdown",
   "id": "c2eb87fa",
   "metadata": {},
   "source": [
    "### count"
   ]
  },
  {
   "cell_type": "code",
   "execution_count": 49,
   "id": "4f116b76",
   "metadata": {},
   "outputs": [
    {
     "data": {
      "text/plain": [
       "4"
      ]
     },
     "execution_count": 49,
     "metadata": {},
     "output_type": "execute_result"
    }
   ],
   "source": [
    "d.Rakesh.count()"
   ]
  },
  {
   "cell_type": "code",
   "execution_count": 50,
   "id": "4cce887c",
   "metadata": {},
   "outputs": [
    {
     "data": {
      "text/plain": [
       "4"
      ]
     },
     "execution_count": 50,
     "metadata": {},
     "output_type": "execute_result"
    }
   ],
   "source": [
    "len(d.Rakesh)"
   ]
  },
  {
   "cell_type": "code",
   "execution_count": 52,
   "id": "cc1e8837",
   "metadata": {},
   "outputs": [
    {
     "data": {
      "text/plain": [
       "pandas.core.series.Series"
      ]
     },
     "execution_count": 52,
     "metadata": {},
     "output_type": "execute_result"
    }
   ],
   "source": [
    "type(d.Rakesh)"
   ]
  },
  {
   "cell_type": "code",
   "execution_count": 54,
   "id": "c2bcbb9f",
   "metadata": {},
   "outputs": [
    {
     "data": {
      "text/plain": [
       "4"
      ]
     },
     "execution_count": 54,
     "metadata": {},
     "output_type": "execute_result"
    }
   ],
   "source": [
    "d.Rakesh.size"
   ]
  },
  {
   "cell_type": "markdown",
   "id": "346dad41",
   "metadata": {},
   "source": [
    "### mean()"
   ]
  },
  {
   "cell_type": "code",
   "execution_count": 55,
   "id": "2d44e32d",
   "metadata": {},
   "outputs": [
    {
     "data": {
      "text/plain": [
       "0.6746817211344592"
      ]
     },
     "execution_count": 55,
     "metadata": {},
     "output_type": "execute_result"
    }
   ],
   "source": [
    "d.Rakesh.mean()"
   ]
  },
  {
   "cell_type": "code",
   "execution_count": 57,
   "id": "842248d5",
   "metadata": {},
   "outputs": [
    {
     "data": {
      "text/plain": [
       "Bhagwan    0.501083\n",
       "Krupa      0.583350\n",
       "Rakesh     0.674682\n",
       "dtype: float64"
      ]
     },
     "execution_count": 57,
     "metadata": {},
     "output_type": "execute_result"
    }
   ],
   "source": [
    "# i want mean of all columns\n",
    "d.mean()\n",
    "#columnwise"
   ]
  },
  {
   "cell_type": "code",
   "execution_count": 60,
   "id": "6859053a",
   "metadata": {},
   "outputs": [
    {
     "data": {
      "text/plain": [
       "A    0.706021\n",
       "B    0.351545\n",
       "C    0.572274\n",
       "D    0.715647\n",
       "dtype: float64"
      ]
     },
     "execution_count": 60,
     "metadata": {},
     "output_type": "execute_result"
    }
   ],
   "source": [
    "# rowise mean\n",
    "d.mean(axis=1)"
   ]
  },
  {
   "cell_type": "code",
   "execution_count": 62,
   "id": "66d3efeb",
   "metadata": {},
   "outputs": [
    {
     "data": {
      "text/plain": [
       "0.7060210000000001"
      ]
     },
     "execution_count": 62,
     "metadata": {},
     "output_type": "execute_result"
    }
   ],
   "source": [
    "(0.275581 + 0.931856 + 0.910626)/3"
   ]
  },
  {
   "cell_type": "code",
   "execution_count": 66,
   "id": "5310af75",
   "metadata": {},
   "outputs": [
    {
     "data": {
      "text/plain": [
       "A    0.931856\n",
       "B    0.292354\n",
       "C    0.709643\n",
       "D    0.399549\n",
       "Name: Krupa, dtype: float64"
      ]
     },
     "execution_count": 66,
     "metadata": {},
     "output_type": "execute_result"
    }
   ],
   "source": [
    "# if we apply indexing over df hen it works default on column\n",
    "d['Krupa']"
   ]
  },
  {
   "cell_type": "code",
   "execution_count": 68,
   "id": "bebe141f",
   "metadata": {},
   "outputs": [
    {
     "data": {
      "text/plain": [
       "array([[0.36464169, 0.2245005 , 0.01845414],\n",
       "       [0.11210138, 0.49570781, 0.43978687],\n",
       "       [0.89472657, 0.92364869, 0.27575709]])"
      ]
     },
     "execution_count": 68,
     "metadata": {},
     "output_type": "execute_result"
    }
   ],
   "source": [
    "f = np.random.random((3,3))\n",
    "f"
   ]
  },
  {
   "cell_type": "code",
   "execution_count": 69,
   "id": "bd9f81c7",
   "metadata": {},
   "outputs": [
    {
     "data": {
      "text/plain": [
       "array([0.36464169, 0.2245005 , 0.01845414])"
      ]
     },
     "execution_count": 69,
     "metadata": {},
     "output_type": "execute_result"
    }
   ],
   "source": [
    "f[0]"
   ]
  },
  {
   "cell_type": "code",
   "execution_count": 70,
   "id": "bb0b73b3",
   "metadata": {},
   "outputs": [
    {
     "data": {
      "text/plain": [
       "0    10\n",
       "1    20\n",
       "2    30\n",
       "3    40\n",
       "4    50\n",
       "dtype: int64"
      ]
     },
     "execution_count": 70,
     "metadata": {},
     "output_type": "execute_result"
    }
   ],
   "source": [
    "s = pd.Series([10,20,30,40,50])\n",
    "s"
   ]
  },
  {
   "cell_type": "code",
   "execution_count": 71,
   "id": "439dff71",
   "metadata": {},
   "outputs": [
    {
     "data": {
      "text/plain": [
       "10"
      ]
     },
     "execution_count": 71,
     "metadata": {},
     "output_type": "execute_result"
    }
   ],
   "source": [
    "s[0]"
   ]
  },
  {
   "cell_type": "markdown",
   "id": "0303ce8c",
   "metadata": {},
   "source": [
    "#### Std()"
   ]
  },
  {
   "cell_type": "code",
   "execution_count": 73,
   "id": "71ccb855",
   "metadata": {},
   "outputs": [
    {
     "data": {
      "text/plain": [
       "A    0.275581\n",
       "B    0.119931\n",
       "C    0.720693\n",
       "D    0.888127\n",
       "Name: Bhagwan, dtype: float64"
      ]
     },
     "execution_count": 73,
     "metadata": {},
     "output_type": "execute_result"
    }
   ],
   "source": [
    "d.Bhagwan"
   ]
  },
  {
   "cell_type": "code",
   "execution_count": 74,
   "id": "07ec8ddf",
   "metadata": {},
   "outputs": [
    {
     "data": {
      "text/plain": [
       "0.3624730352070185"
      ]
     },
     "execution_count": 74,
     "metadata": {},
     "output_type": "execute_result"
    }
   ],
   "source": [
    "d.Bhagwan.std()"
   ]
  },
  {
   "cell_type": "code",
   "execution_count": 75,
   "id": "e700aa67",
   "metadata": {},
   "outputs": [
    {
     "data": {
      "text/plain": [
       "Bhagwan    0.362473\n",
       "Krupa      0.292044\n",
       "Rakesh     0.283715\n",
       "dtype: float64"
      ]
     },
     "execution_count": 75,
     "metadata": {},
     "output_type": "execute_result"
    }
   ],
   "source": [
    "#std of all columns\n",
    "d.std()"
   ]
  },
  {
   "cell_type": "code",
   "execution_count": 76,
   "id": "70793879",
   "metadata": {},
   "outputs": [
    {
     "data": {
      "text/plain": [
       "A    0.372923\n",
       "B    0.266192\n",
       "C    0.247561\n",
       "D    0.274129\n",
       "dtype: float64"
      ]
     },
     "execution_count": 76,
     "metadata": {},
     "output_type": "execute_result"
    }
   ],
   "source": [
    "#rowwise std\n",
    "d.std(axis=1)"
   ]
  },
  {
   "cell_type": "raw",
   "id": "365335e7",
   "metadata": {},
   "source": [
    "Assigment:\n",
    "apply max,min"
   ]
  },
  {
   "cell_type": "code",
   "execution_count": 78,
   "id": "8d614983",
   "metadata": {},
   "outputs": [
    {
     "data": {
      "text/html": [
       "<div>\n",
       "<style scoped>\n",
       "    .dataframe tbody tr th:only-of-type {\n",
       "        vertical-align: middle;\n",
       "    }\n",
       "\n",
       "    .dataframe tbody tr th {\n",
       "        vertical-align: top;\n",
       "    }\n",
       "\n",
       "    .dataframe thead th {\n",
       "        text-align: right;\n",
       "    }\n",
       "</style>\n",
       "<table border=\"1\" class=\"dataframe\">\n",
       "  <thead>\n",
       "    <tr style=\"text-align: right;\">\n",
       "      <th></th>\n",
       "      <th>Bhagwan</th>\n",
       "      <th>Krupa</th>\n",
       "      <th>Rakesh</th>\n",
       "    </tr>\n",
       "  </thead>\n",
       "  <tbody>\n",
       "    <tr>\n",
       "      <th>A</th>\n",
       "      <td>0.275581</td>\n",
       "      <td>0.931856</td>\n",
       "      <td>0.910626</td>\n",
       "    </tr>\n",
       "    <tr>\n",
       "      <th>B</th>\n",
       "      <td>0.119931</td>\n",
       "      <td>0.292354</td>\n",
       "      <td>0.642350</td>\n",
       "    </tr>\n",
       "    <tr>\n",
       "      <th>C</th>\n",
       "      <td>0.720693</td>\n",
       "      <td>0.709643</td>\n",
       "      <td>0.286486</td>\n",
       "    </tr>\n",
       "    <tr>\n",
       "      <th>D</th>\n",
       "      <td>0.888127</td>\n",
       "      <td>0.399549</td>\n",
       "      <td>0.859264</td>\n",
       "    </tr>\n",
       "  </tbody>\n",
       "</table>\n",
       "</div>"
      ],
      "text/plain": [
       "    Bhagwan     Krupa    Rakesh\n",
       "A  0.275581  0.931856  0.910626\n",
       "B  0.119931  0.292354  0.642350\n",
       "C  0.720693  0.709643  0.286486\n",
       "D  0.888127  0.399549  0.859264"
      ]
     },
     "execution_count": 78,
     "metadata": {},
     "output_type": "execute_result"
    }
   ],
   "source": [
    "d"
   ]
  },
  {
   "cell_type": "code",
   "execution_count": 79,
   "id": "401678cb",
   "metadata": {},
   "outputs": [
    {
     "data": {
      "text/plain": [
       "2"
      ]
     },
     "execution_count": 79,
     "metadata": {},
     "output_type": "execute_result"
    }
   ],
   "source": [
    "d.ndim"
   ]
  },
  {
   "cell_type": "code",
   "execution_count": 82,
   "id": "2a98baac",
   "metadata": {},
   "outputs": [
    {
     "data": {
      "text/plain": [
       "Bhagwan    0.362473\n",
       "Krupa      0.292044\n",
       "Rakesh     0.283715\n",
       "dtype: float64"
      ]
     },
     "execution_count": 82,
     "metadata": {},
     "output_type": "execute_result"
    }
   ],
   "source": [
    "d.std()"
   ]
  },
  {
   "cell_type": "code",
   "execution_count": 83,
   "id": "4b21b950",
   "metadata": {},
   "outputs": [
    {
     "data": {
      "text/plain": [
       "0.0432676880161851"
      ]
     },
     "execution_count": 83,
     "metadata": {},
     "output_type": "execute_result"
    }
   ],
   "source": [
    "d.std().std() #all columns std"
   ]
  },
  {
   "cell_type": "code",
   "execution_count": 87,
   "id": "87bdafe8",
   "metadata": {},
   "outputs": [
    {
     "data": {
      "text/plain": [
       "0.28163782752859745"
      ]
     },
     "execution_count": 87,
     "metadata": {},
     "output_type": "execute_result"
    }
   ],
   "source": [
    "d.values.flatten().std() #std of all data"
   ]
  },
  {
   "cell_type": "code",
   "execution_count": 88,
   "id": "21e22781",
   "metadata": {},
   "outputs": [
    {
     "data": {
      "text/plain": [
       "array([[0.27558068, 0.9318565 , 0.91062627],\n",
       "       [0.11993094, 0.29235358, 0.64235027],\n",
       "       [0.72069289, 0.70964287, 0.2864859 ],\n",
       "       [0.88812746, 0.39954856, 0.85926444]])"
      ]
     },
     "execution_count": 88,
     "metadata": {},
     "output_type": "execute_result"
    }
   ],
   "source": [
    "d.values"
   ]
  },
  {
   "cell_type": "code",
   "execution_count": 89,
   "id": "edb561e1",
   "metadata": {},
   "outputs": [
    {
     "data": {
      "text/plain": [
       "array([0.27558068, 0.9318565 , 0.91062627, 0.11993094, 0.29235358,\n",
       "       0.64235027, 0.72069289, 0.70964287, 0.2864859 , 0.88812746,\n",
       "       0.39954856, 0.85926444])"
      ]
     },
     "execution_count": 89,
     "metadata": {},
     "output_type": "execute_result"
    }
   ],
   "source": [
    "d.values.flatten()"
   ]
  },
  {
   "cell_type": "code",
   "execution_count": 90,
   "id": "af671719",
   "metadata": {},
   "outputs": [
    {
     "data": {
      "text/plain": [
       "0.28163782752859745"
      ]
     },
     "execution_count": 90,
     "metadata": {},
     "output_type": "execute_result"
    }
   ],
   "source": [
    "d.values.flatten().std()"
   ]
  },
  {
   "cell_type": "code",
   "execution_count": 1,
   "id": "135b1b67",
   "metadata": {},
   "outputs": [],
   "source": [
    "#he karu nakos from 91 to 94"
   ]
  },
  {
   "cell_type": "code",
   "execution_count": 91,
   "id": "8410c3ef",
   "metadata": {},
   "outputs": [
    {
     "data": {
      "text/html": [
       "<div>\n",
       "<style scoped>\n",
       "    .dataframe tbody tr th:only-of-type {\n",
       "        vertical-align: middle;\n",
       "    }\n",
       "\n",
       "    .dataframe tbody tr th {\n",
       "        vertical-align: top;\n",
       "    }\n",
       "\n",
       "    .dataframe thead th {\n",
       "        text-align: right;\n",
       "    }\n",
       "</style>\n",
       "<table border=\"1\" class=\"dataframe\">\n",
       "  <thead>\n",
       "    <tr style=\"text-align: right;\">\n",
       "      <th></th>\n",
       "      <th>Bhagwan</th>\n",
       "      <th>Krupa</th>\n",
       "      <th>Rakesh</th>\n",
       "    </tr>\n",
       "  </thead>\n",
       "  <tbody>\n",
       "    <tr>\n",
       "      <th>A</th>\n",
       "      <td>0.275581</td>\n",
       "      <td>0.931856</td>\n",
       "      <td>0.910626</td>\n",
       "    </tr>\n",
       "    <tr>\n",
       "      <th>B</th>\n",
       "      <td>0.119931</td>\n",
       "      <td>0.292354</td>\n",
       "      <td>0.642350</td>\n",
       "    </tr>\n",
       "    <tr>\n",
       "      <th>C</th>\n",
       "      <td>0.720693</td>\n",
       "      <td>0.709643</td>\n",
       "      <td>0.286486</td>\n",
       "    </tr>\n",
       "    <tr>\n",
       "      <th>D</th>\n",
       "      <td>0.888127</td>\n",
       "      <td>0.399549</td>\n",
       "      <td>0.859264</td>\n",
       "    </tr>\n",
       "  </tbody>\n",
       "</table>\n",
       "</div>"
      ],
      "text/plain": [
       "    Bhagwan     Krupa    Rakesh\n",
       "A  0.275581  0.931856  0.910626\n",
       "B  0.119931  0.292354  0.642350\n",
       "C  0.720693  0.709643  0.286486\n",
       "D  0.888127  0.399549  0.859264"
      ]
     },
     "execution_count": 91,
     "metadata": {},
     "output_type": "execute_result"
    }
   ],
   "source": [
    "d"
   ]
  },
  {
   "cell_type": "code",
   "execution_count": 93,
   "id": "d58aea38",
   "metadata": {},
   "outputs": [
    {
     "data": {
      "text/plain": [
       "0.5010829915391024"
      ]
     },
     "execution_count": 93,
     "metadata": {},
     "output_type": "execute_result"
    }
   ],
   "source": [
    "d.Bhagwan.mean() #X bar"
   ]
  },
  {
   "cell_type": "code",
   "execution_count": 94,
   "id": "72bef7c8",
   "metadata": {},
   "outputs": [
    {
     "data": {
      "text/plain": [
       "0.3591861209553702"
      ]
     },
     "execution_count": 94,
     "metadata": {},
     "output_type": "execute_result"
    }
   ],
   "source": [
    "np.sqrt((0.888127 - d.Bhagwan.mean())/3)"
   ]
  },
  {
   "cell_type": "markdown",
   "id": "8c7d5be6",
   "metadata": {},
   "source": [
    "# Selection of columns"
   ]
  },
  {
   "cell_type": "code",
   "execution_count": 96,
   "id": "40e88f0a",
   "metadata": {},
   "outputs": [
    {
     "data": {
      "text/html": [
       "<div>\n",
       "<style scoped>\n",
       "    .dataframe tbody tr th:only-of-type {\n",
       "        vertical-align: middle;\n",
       "    }\n",
       "\n",
       "    .dataframe tbody tr th {\n",
       "        vertical-align: top;\n",
       "    }\n",
       "\n",
       "    .dataframe thead th {\n",
       "        text-align: right;\n",
       "    }\n",
       "</style>\n",
       "<table border=\"1\" class=\"dataframe\">\n",
       "  <thead>\n",
       "    <tr style=\"text-align: right;\">\n",
       "      <th></th>\n",
       "      <th>Bhagwan</th>\n",
       "      <th>Krupa</th>\n",
       "      <th>Rakesh</th>\n",
       "    </tr>\n",
       "  </thead>\n",
       "  <tbody>\n",
       "    <tr>\n",
       "      <th>A</th>\n",
       "      <td>0.275581</td>\n",
       "      <td>0.931856</td>\n",
       "      <td>0.910626</td>\n",
       "    </tr>\n",
       "    <tr>\n",
       "      <th>B</th>\n",
       "      <td>0.119931</td>\n",
       "      <td>0.292354</td>\n",
       "      <td>0.642350</td>\n",
       "    </tr>\n",
       "    <tr>\n",
       "      <th>C</th>\n",
       "      <td>0.720693</td>\n",
       "      <td>0.709643</td>\n",
       "      <td>0.286486</td>\n",
       "    </tr>\n",
       "    <tr>\n",
       "      <th>D</th>\n",
       "      <td>0.888127</td>\n",
       "      <td>0.399549</td>\n",
       "      <td>0.859264</td>\n",
       "    </tr>\n",
       "  </tbody>\n",
       "</table>\n",
       "</div>"
      ],
      "text/plain": [
       "    Bhagwan     Krupa    Rakesh\n",
       "A  0.275581  0.931856  0.910626\n",
       "B  0.119931  0.292354  0.642350\n",
       "C  0.720693  0.709643  0.286486\n",
       "D  0.888127  0.399549  0.859264"
      ]
     },
     "execution_count": 96,
     "metadata": {},
     "output_type": "execute_result"
    }
   ],
   "source": [
    "d"
   ]
  },
  {
   "cell_type": "code",
   "execution_count": 97,
   "id": "ee6e26a8",
   "metadata": {},
   "outputs": [
    {
     "data": {
      "text/plain": [
       "A    0.910626\n",
       "B    0.642350\n",
       "C    0.286486\n",
       "D    0.859264\n",
       "Name: Rakesh, dtype: float64"
      ]
     },
     "execution_count": 97,
     "metadata": {},
     "output_type": "execute_result"
    }
   ],
   "source": [
    "d.Rakesh"
   ]
  },
  {
   "cell_type": "code",
   "execution_count": 98,
   "id": "7e6ea552",
   "metadata": {},
   "outputs": [
    {
     "data": {
      "text/plain": [
       "A    0.910626\n",
       "B    0.642350\n",
       "C    0.286486\n",
       "D    0.859264\n",
       "Name: Rakesh, dtype: float64"
      ]
     },
     "execution_count": 98,
     "metadata": {},
     "output_type": "execute_result"
    }
   ],
   "source": [
    "d['Rakesh']"
   ]
  },
  {
   "cell_type": "code",
   "execution_count": 101,
   "id": "b1824dcc",
   "metadata": {},
   "outputs": [
    {
     "data": {
      "text/html": [
       "<div>\n",
       "<style scoped>\n",
       "    .dataframe tbody tr th:only-of-type {\n",
       "        vertical-align: middle;\n",
       "    }\n",
       "\n",
       "    .dataframe tbody tr th {\n",
       "        vertical-align: top;\n",
       "    }\n",
       "\n",
       "    .dataframe thead th {\n",
       "        text-align: right;\n",
       "    }\n",
       "</style>\n",
       "<table border=\"1\" class=\"dataframe\">\n",
       "  <thead>\n",
       "    <tr style=\"text-align: right;\">\n",
       "      <th></th>\n",
       "      <th>Rakesh</th>\n",
       "    </tr>\n",
       "  </thead>\n",
       "  <tbody>\n",
       "    <tr>\n",
       "      <th>A</th>\n",
       "      <td>0.910626</td>\n",
       "    </tr>\n",
       "    <tr>\n",
       "      <th>B</th>\n",
       "      <td>0.642350</td>\n",
       "    </tr>\n",
       "    <tr>\n",
       "      <th>C</th>\n",
       "      <td>0.286486</td>\n",
       "    </tr>\n",
       "    <tr>\n",
       "      <th>D</th>\n",
       "      <td>0.859264</td>\n",
       "    </tr>\n",
       "  </tbody>\n",
       "</table>\n",
       "</div>"
      ],
      "text/plain": [
       "     Rakesh\n",
       "A  0.910626\n",
       "B  0.642350\n",
       "C  0.286486\n",
       "D  0.859264"
      ]
     },
     "execution_count": 101,
     "metadata": {},
     "output_type": "execute_result"
    }
   ],
   "source": [
    "# 2D df\n",
    "d[['Rakesh']]"
   ]
  },
  {
   "cell_type": "code",
   "execution_count": 106,
   "id": "73341483",
   "metadata": {},
   "outputs": [
    {
     "data": {
      "text/html": [
       "<div>\n",
       "<style scoped>\n",
       "    .dataframe tbody tr th:only-of-type {\n",
       "        vertical-align: middle;\n",
       "    }\n",
       "\n",
       "    .dataframe tbody tr th {\n",
       "        vertical-align: top;\n",
       "    }\n",
       "\n",
       "    .dataframe thead th {\n",
       "        text-align: right;\n",
       "    }\n",
       "</style>\n",
       "<table border=\"1\" class=\"dataframe\">\n",
       "  <thead>\n",
       "    <tr style=\"text-align: right;\">\n",
       "      <th></th>\n",
       "      <th>Rakesh</th>\n",
       "      <th>Krupa</th>\n",
       "      <th>Bhagwan</th>\n",
       "    </tr>\n",
       "  </thead>\n",
       "  <tbody>\n",
       "    <tr>\n",
       "      <th>A</th>\n",
       "      <td>0.910626</td>\n",
       "      <td>0.931856</td>\n",
       "      <td>0.275581</td>\n",
       "    </tr>\n",
       "    <tr>\n",
       "      <th>B</th>\n",
       "      <td>0.642350</td>\n",
       "      <td>0.292354</td>\n",
       "      <td>0.119931</td>\n",
       "    </tr>\n",
       "    <tr>\n",
       "      <th>C</th>\n",
       "      <td>0.286486</td>\n",
       "      <td>0.709643</td>\n",
       "      <td>0.720693</td>\n",
       "    </tr>\n",
       "    <tr>\n",
       "      <th>D</th>\n",
       "      <td>0.859264</td>\n",
       "      <td>0.399549</td>\n",
       "      <td>0.888127</td>\n",
       "    </tr>\n",
       "  </tbody>\n",
       "</table>\n",
       "</div>"
      ],
      "text/plain": [
       "     Rakesh     Krupa   Bhagwan\n",
       "A  0.910626  0.931856  0.275581\n",
       "B  0.642350  0.292354  0.119931\n",
       "C  0.286486  0.709643  0.720693\n",
       "D  0.859264  0.399549  0.888127"
      ]
     },
     "execution_count": 106,
     "metadata": {},
     "output_type": "execute_result"
    }
   ],
   "source": [
    "#access more than one column\n",
    "d[['Rakesh','Krupa','Bhagwan']]"
   ]
  },
  {
   "cell_type": "markdown",
   "id": "1a72a2ca",
   "metadata": {},
   "source": [
    "## loc: location based selection/label based selection"
   ]
  },
  {
   "cell_type": "code",
   "execution_count": 108,
   "id": "cc23ec96",
   "metadata": {},
   "outputs": [
    {
     "data": {
      "text/html": [
       "<div>\n",
       "<style scoped>\n",
       "    .dataframe tbody tr th:only-of-type {\n",
       "        vertical-align: middle;\n",
       "    }\n",
       "\n",
       "    .dataframe tbody tr th {\n",
       "        vertical-align: top;\n",
       "    }\n",
       "\n",
       "    .dataframe thead th {\n",
       "        text-align: right;\n",
       "    }\n",
       "</style>\n",
       "<table border=\"1\" class=\"dataframe\">\n",
       "  <thead>\n",
       "    <tr style=\"text-align: right;\">\n",
       "      <th></th>\n",
       "      <th>Bhagwan</th>\n",
       "      <th>Krupa</th>\n",
       "      <th>Rakesh</th>\n",
       "    </tr>\n",
       "  </thead>\n",
       "  <tbody>\n",
       "    <tr>\n",
       "      <th>A</th>\n",
       "      <td>0.275581</td>\n",
       "      <td>0.931856</td>\n",
       "      <td>0.910626</td>\n",
       "    </tr>\n",
       "    <tr>\n",
       "      <th>B</th>\n",
       "      <td>0.119931</td>\n",
       "      <td>0.292354</td>\n",
       "      <td>0.642350</td>\n",
       "    </tr>\n",
       "    <tr>\n",
       "      <th>C</th>\n",
       "      <td>0.720693</td>\n",
       "      <td>0.709643</td>\n",
       "      <td>0.286486</td>\n",
       "    </tr>\n",
       "    <tr>\n",
       "      <th>D</th>\n",
       "      <td>0.888127</td>\n",
       "      <td>0.399549</td>\n",
       "      <td>0.859264</td>\n",
       "    </tr>\n",
       "  </tbody>\n",
       "</table>\n",
       "</div>"
      ],
      "text/plain": [
       "    Bhagwan     Krupa    Rakesh\n",
       "A  0.275581  0.931856  0.910626\n",
       "B  0.119931  0.292354  0.642350\n",
       "C  0.720693  0.709643  0.286486\n",
       "D  0.888127  0.399549  0.859264"
      ]
     },
     "execution_count": 108,
     "metadata": {},
     "output_type": "execute_result"
    }
   ],
   "source": [
    "d.loc[:,:] # [rows,columns]"
   ]
  },
  {
   "cell_type": "code",
   "execution_count": 109,
   "id": "b6cb3480",
   "metadata": {},
   "outputs": [
    {
     "data": {
      "text/html": [
       "<div>\n",
       "<style scoped>\n",
       "    .dataframe tbody tr th:only-of-type {\n",
       "        vertical-align: middle;\n",
       "    }\n",
       "\n",
       "    .dataframe tbody tr th {\n",
       "        vertical-align: top;\n",
       "    }\n",
       "\n",
       "    .dataframe thead th {\n",
       "        text-align: right;\n",
       "    }\n",
       "</style>\n",
       "<table border=\"1\" class=\"dataframe\">\n",
       "  <thead>\n",
       "    <tr style=\"text-align: right;\">\n",
       "      <th></th>\n",
       "      <th>Krupa</th>\n",
       "      <th>Rakesh</th>\n",
       "    </tr>\n",
       "  </thead>\n",
       "  <tbody>\n",
       "    <tr>\n",
       "      <th>A</th>\n",
       "      <td>0.931856</td>\n",
       "      <td>0.910626</td>\n",
       "    </tr>\n",
       "    <tr>\n",
       "      <th>B</th>\n",
       "      <td>0.292354</td>\n",
       "      <td>0.642350</td>\n",
       "    </tr>\n",
       "    <tr>\n",
       "      <th>C</th>\n",
       "      <td>0.709643</td>\n",
       "      <td>0.286486</td>\n",
       "    </tr>\n",
       "    <tr>\n",
       "      <th>D</th>\n",
       "      <td>0.399549</td>\n",
       "      <td>0.859264</td>\n",
       "    </tr>\n",
       "  </tbody>\n",
       "</table>\n",
       "</div>"
      ],
      "text/plain": [
       "      Krupa    Rakesh\n",
       "A  0.931856  0.910626\n",
       "B  0.292354  0.642350\n",
       "C  0.709643  0.286486\n",
       "D  0.399549  0.859264"
      ]
     },
     "execution_count": 109,
     "metadata": {},
     "output_type": "execute_result"
    }
   ],
   "source": [
    "#work on columns\n",
    "d.loc[:,'Krupa':]"
   ]
  },
  {
   "cell_type": "code",
   "execution_count": 111,
   "id": "8318c7ed",
   "metadata": {},
   "outputs": [
    {
     "data": {
      "text/html": [
       "<div>\n",
       "<style scoped>\n",
       "    .dataframe tbody tr th:only-of-type {\n",
       "        vertical-align: middle;\n",
       "    }\n",
       "\n",
       "    .dataframe tbody tr th {\n",
       "        vertical-align: top;\n",
       "    }\n",
       "\n",
       "    .dataframe thead th {\n",
       "        text-align: right;\n",
       "    }\n",
       "</style>\n",
       "<table border=\"1\" class=\"dataframe\">\n",
       "  <thead>\n",
       "    <tr style=\"text-align: right;\">\n",
       "      <th></th>\n",
       "      <th>Bhagwan</th>\n",
       "      <th>Rakesh</th>\n",
       "    </tr>\n",
       "  </thead>\n",
       "  <tbody>\n",
       "    <tr>\n",
       "      <th>A</th>\n",
       "      <td>0.275581</td>\n",
       "      <td>0.910626</td>\n",
       "    </tr>\n",
       "    <tr>\n",
       "      <th>B</th>\n",
       "      <td>0.119931</td>\n",
       "      <td>0.642350</td>\n",
       "    </tr>\n",
       "    <tr>\n",
       "      <th>C</th>\n",
       "      <td>0.720693</td>\n",
       "      <td>0.286486</td>\n",
       "    </tr>\n",
       "    <tr>\n",
       "      <th>D</th>\n",
       "      <td>0.888127</td>\n",
       "      <td>0.859264</td>\n",
       "    </tr>\n",
       "  </tbody>\n",
       "</table>\n",
       "</div>"
      ],
      "text/plain": [
       "    Bhagwan    Rakesh\n",
       "A  0.275581  0.910626\n",
       "B  0.119931  0.642350\n",
       "C  0.720693  0.286486\n",
       "D  0.888127  0.859264"
      ]
     },
     "execution_count": 111,
     "metadata": {},
     "output_type": "execute_result"
    }
   ],
   "source": [
    "d.loc[:,'Bhagwan'::2]"
   ]
  },
  {
   "cell_type": "code",
   "execution_count": 112,
   "id": "acf028fb",
   "metadata": {},
   "outputs": [
    {
     "data": {
      "text/html": [
       "<div>\n",
       "<style scoped>\n",
       "    .dataframe tbody tr th:only-of-type {\n",
       "        vertical-align: middle;\n",
       "    }\n",
       "\n",
       "    .dataframe tbody tr th {\n",
       "        vertical-align: top;\n",
       "    }\n",
       "\n",
       "    .dataframe thead th {\n",
       "        text-align: right;\n",
       "    }\n",
       "</style>\n",
       "<table border=\"1\" class=\"dataframe\">\n",
       "  <thead>\n",
       "    <tr style=\"text-align: right;\">\n",
       "      <th></th>\n",
       "      <th>Rakesh</th>\n",
       "      <th>Krupa</th>\n",
       "      <th>Bhagwan</th>\n",
       "    </tr>\n",
       "  </thead>\n",
       "  <tbody>\n",
       "    <tr>\n",
       "      <th>A</th>\n",
       "      <td>0.910626</td>\n",
       "      <td>0.931856</td>\n",
       "      <td>0.275581</td>\n",
       "    </tr>\n",
       "    <tr>\n",
       "      <th>B</th>\n",
       "      <td>0.642350</td>\n",
       "      <td>0.292354</td>\n",
       "      <td>0.119931</td>\n",
       "    </tr>\n",
       "    <tr>\n",
       "      <th>C</th>\n",
       "      <td>0.286486</td>\n",
       "      <td>0.709643</td>\n",
       "      <td>0.720693</td>\n",
       "    </tr>\n",
       "    <tr>\n",
       "      <th>D</th>\n",
       "      <td>0.859264</td>\n",
       "      <td>0.399549</td>\n",
       "      <td>0.888127</td>\n",
       "    </tr>\n",
       "  </tbody>\n",
       "</table>\n",
       "</div>"
      ],
      "text/plain": [
       "     Rakesh     Krupa   Bhagwan\n",
       "A  0.910626  0.931856  0.275581\n",
       "B  0.642350  0.292354  0.119931\n",
       "C  0.286486  0.709643  0.720693\n",
       "D  0.859264  0.399549  0.888127"
      ]
     },
     "execution_count": 112,
     "metadata": {},
     "output_type": "execute_result"
    }
   ],
   "source": [
    "#reverse column order\n",
    "d.loc[:,::-1]"
   ]
  },
  {
   "cell_type": "code",
   "execution_count": 113,
   "id": "3b5a4d69",
   "metadata": {},
   "outputs": [
    {
     "data": {
      "text/html": [
       "<div>\n",
       "<style scoped>\n",
       "    .dataframe tbody tr th:only-of-type {\n",
       "        vertical-align: middle;\n",
       "    }\n",
       "\n",
       "    .dataframe tbody tr th {\n",
       "        vertical-align: top;\n",
       "    }\n",
       "\n",
       "    .dataframe thead th {\n",
       "        text-align: right;\n",
       "    }\n",
       "</style>\n",
       "<table border=\"1\" class=\"dataframe\">\n",
       "  <thead>\n",
       "    <tr style=\"text-align: right;\">\n",
       "      <th></th>\n",
       "      <th>Krupa</th>\n",
       "      <th>Bhagwan</th>\n",
       "      <th>Rakesh</th>\n",
       "    </tr>\n",
       "  </thead>\n",
       "  <tbody>\n",
       "    <tr>\n",
       "      <th>A</th>\n",
       "      <td>0.931856</td>\n",
       "      <td>0.275581</td>\n",
       "      <td>0.910626</td>\n",
       "    </tr>\n",
       "    <tr>\n",
       "      <th>B</th>\n",
       "      <td>0.292354</td>\n",
       "      <td>0.119931</td>\n",
       "      <td>0.642350</td>\n",
       "    </tr>\n",
       "    <tr>\n",
       "      <th>C</th>\n",
       "      <td>0.709643</td>\n",
       "      <td>0.720693</td>\n",
       "      <td>0.286486</td>\n",
       "    </tr>\n",
       "    <tr>\n",
       "      <th>D</th>\n",
       "      <td>0.399549</td>\n",
       "      <td>0.888127</td>\n",
       "      <td>0.859264</td>\n",
       "    </tr>\n",
       "  </tbody>\n",
       "</table>\n",
       "</div>"
      ],
      "text/plain": [
       "      Krupa   Bhagwan    Rakesh\n",
       "A  0.931856  0.275581  0.910626\n",
       "B  0.292354  0.119931  0.642350\n",
       "C  0.709643  0.720693  0.286486\n",
       "D  0.399549  0.888127  0.859264"
      ]
     },
     "execution_count": 113,
     "metadata": {},
     "output_type": "execute_result"
    }
   ],
   "source": [
    "d.loc[:,['Krupa','Bhagwan','Rakesh']]"
   ]
  },
  {
   "cell_type": "markdown",
   "id": "d0f4ae78",
   "metadata": {},
   "source": [
    "## Assignment apply different options over rows using loc"
   ]
  },
  {
   "cell_type": "code",
   "execution_count": null,
   "id": "548aae8b",
   "metadata": {},
   "outputs": [],
   "source": []
  }
 ],
 "metadata": {
  "kernelspec": {
   "display_name": "Python 3 (ipykernel)",
   "language": "python",
   "name": "python3"
  },
  "language_info": {
   "codemirror_mode": {
    "name": "ipython",
    "version": 3
   },
   "file_extension": ".py",
   "mimetype": "text/x-python",
   "name": "python",
   "nbconvert_exporter": "python",
   "pygments_lexer": "ipython3",
   "version": "3.9.12"
  }
 },
 "nbformat": 4,
 "nbformat_minor": 5
}
