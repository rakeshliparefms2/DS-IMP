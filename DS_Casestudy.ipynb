{
 "cells": [
  {
   "cell_type": "code",
   "execution_count": 1,
   "id": "1859f81e",
   "metadata": {},
   "outputs": [],
   "source": [
    "import numpy as np\n",
    "import pandas as pd\n",
    "\n",
    "import matplotlib.pyplot as plt\n",
    "import seaborn as sns"
   ]
  },
  {
   "cell_type": "code",
   "execution_count": 3,
   "id": "c2f1cc08",
   "metadata": {},
   "outputs": [
    {
     "data": {
      "text/html": [
       "<div>\n",
       "<style scoped>\n",
       "    .dataframe tbody tr th:only-of-type {\n",
       "        vertical-align: middle;\n",
       "    }\n",
       "\n",
       "    .dataframe tbody tr th {\n",
       "        vertical-align: top;\n",
       "    }\n",
       "\n",
       "    .dataframe thead th {\n",
       "        text-align: right;\n",
       "    }\n",
       "</style>\n",
       "<table border=\"1\" class=\"dataframe\">\n",
       "  <thead>\n",
       "    <tr style=\"text-align: right;\">\n",
       "      <th></th>\n",
       "      <th>Sr. No</th>\n",
       "      <th>Name</th>\n",
       "      <th>Place</th>\n",
       "      <th>Post</th>\n",
       "      <th>Salary</th>\n",
       "      <th>Code</th>\n",
       "    </tr>\n",
       "  </thead>\n",
       "  <tbody>\n",
       "    <tr>\n",
       "      <th>0</th>\n",
       "      <td>1</td>\n",
       "      <td>Akshay Bankar</td>\n",
       "      <td>Pune</td>\n",
       "      <td>DS</td>\n",
       "      <td>67000</td>\n",
       "      <td>AK-102</td>\n",
       "    </tr>\n",
       "    <tr>\n",
       "      <th>1</th>\n",
       "      <td>2</td>\n",
       "      <td>Arati Banne</td>\n",
       "      <td>Solapur</td>\n",
       "      <td>SE</td>\n",
       "      <td>56000</td>\n",
       "      <td>AB-304</td>\n",
       "    </tr>\n",
       "    <tr>\n",
       "      <th>2</th>\n",
       "      <td>3</td>\n",
       "      <td>Dipak Sawant</td>\n",
       "      <td>Kolhapur</td>\n",
       "      <td>Admin</td>\n",
       "      <td>78000</td>\n",
       "      <td>DS-100</td>\n",
       "    </tr>\n",
       "    <tr>\n",
       "      <th>3</th>\n",
       "      <td>4</td>\n",
       "      <td>Ganesh Rakate</td>\n",
       "      <td>Sangli</td>\n",
       "      <td>HR</td>\n",
       "      <td>80000</td>\n",
       "      <td>GR-450</td>\n",
       "    </tr>\n",
       "    <tr>\n",
       "      <th>4</th>\n",
       "      <td>5</td>\n",
       "      <td>Harshala Gondal</td>\n",
       "      <td>Sangli</td>\n",
       "      <td>DS</td>\n",
       "      <td>45000</td>\n",
       "      <td>HG-232</td>\n",
       "    </tr>\n",
       "    <tr>\n",
       "      <th>5</th>\n",
       "      <td>6</td>\n",
       "      <td>Kuldip Muley</td>\n",
       "      <td>Beed</td>\n",
       "      <td>CEO</td>\n",
       "      <td>120000</td>\n",
       "      <td>KM-333</td>\n",
       "    </tr>\n",
       "    <tr>\n",
       "      <th>6</th>\n",
       "      <td>7</td>\n",
       "      <td>Piyush Sawant</td>\n",
       "      <td>Mumbai</td>\n",
       "      <td>SE</td>\n",
       "      <td>89000</td>\n",
       "      <td>PS</td>\n",
       "    </tr>\n",
       "    <tr>\n",
       "      <th>7</th>\n",
       "      <td>8</td>\n",
       "      <td>Umesh Thorat</td>\n",
       "      <td>Pune</td>\n",
       "      <td>SE</td>\n",
       "      <td>67000</td>\n",
       "      <td>UT-102</td>\n",
       "    </tr>\n",
       "    <tr>\n",
       "      <th>8</th>\n",
       "      <td>9</td>\n",
       "      <td>Vaibhav Ladge</td>\n",
       "      <td>Kolhapur</td>\n",
       "      <td>Tester</td>\n",
       "      <td>87000</td>\n",
       "      <td>VL-102</td>\n",
       "    </tr>\n",
       "    <tr>\n",
       "      <th>9</th>\n",
       "      <td>10</td>\n",
       "      <td>Supriya Gurav</td>\n",
       "      <td>Pune</td>\n",
       "      <td>SE</td>\n",
       "      <td>90000</td>\n",
       "      <td>SG-100</td>\n",
       "    </tr>\n",
       "    <tr>\n",
       "      <th>10</th>\n",
       "      <td>11</td>\n",
       "      <td>Shital Shelar</td>\n",
       "      <td>Karad</td>\n",
       "      <td>Tester</td>\n",
       "      <td>80000</td>\n",
       "      <td>SS-222</td>\n",
       "    </tr>\n",
       "  </tbody>\n",
       "</table>\n",
       "</div>"
      ],
      "text/plain": [
       "    Sr. No             Name    Place     Post  Salary    Code\n",
       "0        1    Akshay Bankar      Pune      DS   67000  AK-102\n",
       "1        2      Arati Banne   Solapur      SE   56000  AB-304\n",
       "2        3     Dipak Sawant  Kolhapur   Admin   78000  DS-100\n",
       "3        4    Ganesh Rakate    Sangli      HR   80000  GR-450\n",
       "4        5  Harshala Gondal    Sangli      DS   45000  HG-232\n",
       "5        6     Kuldip Muley      Beed     CEO  120000  KM-333\n",
       "6        7    Piyush Sawant    Mumbai      SE   89000      PS\n",
       "7        8     Umesh Thorat      Pune      SE   67000  UT-102\n",
       "8        9    Vaibhav Ladge  Kolhapur  Tester   87000  VL-102\n",
       "9       10    Supriya Gurav      Pune      SE   90000  SG-100\n",
       "10      11    Shital Shelar     Karad  Tester   80000  SS-222"
      ]
     },
     "execution_count": 3,
     "metadata": {},
     "output_type": "execute_result"
    }
   ],
   "source": [
    "df = pd.read_excel('batch_19.xlsx')\n",
    "df"
   ]
  },
  {
   "cell_type": "code",
   "execution_count": 7,
   "id": "d7a39236",
   "metadata": {},
   "outputs": [
    {
     "data": {
      "text/plain": [
       "Index(['Sr. No', 'Name', 'Place ', 'Post', 'Salary', 'Code'], dtype='object')"
      ]
     },
     "execution_count": 7,
     "metadata": {},
     "output_type": "execute_result"
    }
   ],
   "source": [
    "df.columns"
   ]
  },
  {
   "cell_type": "code",
   "execution_count": 10,
   "id": "2ef09c41",
   "metadata": {},
   "outputs": [
    {
     "data": {
      "text/plain": [
       "[('Beed',\n",
       "  5    Kuldip Muley\n",
       "  Name: Name, dtype: object),\n",
       " ('Karad',\n",
       "  10    Shital Shelar\n",
       "  Name: Name, dtype: object),\n",
       " ('Kolhapur',\n",
       "  2     Dipak Sawant\n",
       "  8    Vaibhav Ladge\n",
       "  Name: Name, dtype: object),\n",
       " ('Mumbai',\n",
       "  6    Piyush Sawant\n",
       "  Name: Name, dtype: object),\n",
       " ('Pune',\n",
       "  0    Akshay Bankar\n",
       "  7     Umesh Thorat\n",
       "  9    Supriya Gurav\n",
       "  Name: Name, dtype: object),\n",
       " ('Sangli',\n",
       "  3      Ganesh Rakate\n",
       "  4    Harshala Gondal\n",
       "  Name: Name, dtype: object),\n",
       " ('Solapur',\n",
       "  1    Arati Banne\n",
       "  Name: Name, dtype: object)]"
      ]
     },
     "execution_count": 10,
     "metadata": {},
     "output_type": "execute_result"
    }
   ],
   "source": [
    "# Placewise student list\n",
    "list(df.groupby('Place ').Name)"
   ]
  },
  {
   "cell_type": "code",
   "execution_count": 12,
   "id": "0a5037d0",
   "metadata": {},
   "outputs": [
    {
     "data": {
      "text/plain": [
       "Index(['Sr. No', 'Name', 'Place ', 'Post', 'Salary', 'Code'], dtype='object')"
      ]
     },
     "execution_count": 12,
     "metadata": {},
     "output_type": "execute_result"
    }
   ],
   "source": [
    "df.columns"
   ]
  },
  {
   "cell_type": "code",
   "execution_count": 14,
   "id": "8b6ebe44",
   "metadata": {},
   "outputs": [],
   "source": [
    "# in place column we have a space at suffix side ==> plz remove \n",
    "df.rename(columns={'Place ':'Place'},inplace=True)"
   ]
  },
  {
   "cell_type": "code",
   "execution_count": 15,
   "id": "59c93ee0",
   "metadata": {},
   "outputs": [
    {
     "data": {
      "text/plain": [
       "Index(['Sr. No', 'Name', 'Place', 'Post', 'Salary', 'Code'], dtype='object')"
      ]
     },
     "execution_count": 15,
     "metadata": {},
     "output_type": "execute_result"
    }
   ],
   "source": [
    "#check column names\n",
    "df.columns"
   ]
  },
  {
   "cell_type": "code",
   "execution_count": 17,
   "id": "3e7ae24a",
   "metadata": {},
   "outputs": [
    {
     "data": {
      "text/plain": [
       "[' Sr No ', ' Name ', ' Post ']"
      ]
     },
     "execution_count": 17,
     "metadata": {},
     "output_type": "execute_result"
    }
   ],
   "source": [
    "k = [' Sr No ',' Name ',' Post ']\n",
    "k"
   ]
  },
  {
   "cell_type": "code",
   "execution_count": 19,
   "id": "36206a83",
   "metadata": {},
   "outputs": [
    {
     "data": {
      "text/plain": [
       "0     Sr No \n",
       "1      Name \n",
       "2      Post \n",
       "dtype: object"
      ]
     },
     "execution_count": 19,
     "metadata": {},
     "output_type": "execute_result"
    }
   ],
   "source": [
    "s = pd.Series(k)\n",
    "s"
   ]
  },
  {
   "cell_type": "code",
   "execution_count": 20,
   "id": "190e3a29",
   "metadata": {},
   "outputs": [
    {
     "data": {
      "text/plain": [
       "0    Sr No\n",
       "1     Name\n",
       "2     Post\n",
       "dtype: object"
      ]
     },
     "execution_count": 20,
     "metadata": {},
     "output_type": "execute_result"
    }
   ],
   "source": [
    "s.str.strip()"
   ]
  },
  {
   "cell_type": "code",
   "execution_count": 22,
   "id": "e1f2da6f",
   "metadata": {},
   "outputs": [
    {
     "data": {
      "text/plain": [
       "0    SrNo\n",
       "1    Name\n",
       "2    Post\n",
       "dtype: object"
      ]
     },
     "execution_count": 22,
     "metadata": {},
     "output_type": "execute_result"
    }
   ],
   "source": [
    "new_s = s.str.replace(' ','')\n",
    "new_s"
   ]
  },
  {
   "cell_type": "code",
   "execution_count": 23,
   "id": "77b80319",
   "metadata": {},
   "outputs": [
    {
     "data": {
      "text/plain": [
       "['SrNo', 'Name', 'Post']"
      ]
     },
     "execution_count": 23,
     "metadata": {},
     "output_type": "execute_result"
    }
   ],
   "source": [
    "#convert series to list\n",
    "new_s.to_list()"
   ]
  },
  {
   "cell_type": "code",
   "execution_count": 24,
   "id": "96d5e7a1",
   "metadata": {},
   "outputs": [
    {
     "data": {
      "text/plain": [
       "[' Sr No ', ' Name ', ' Post ']"
      ]
     },
     "execution_count": 24,
     "metadata": {},
     "output_type": "execute_result"
    }
   ],
   "source": [
    "k"
   ]
  },
  {
   "cell_type": "code",
   "execution_count": 25,
   "id": "b1e077bf",
   "metadata": {},
   "outputs": [
    {
     "data": {
      "text/plain": [
       "'Avani'"
      ]
     },
     "execution_count": 25,
     "metadata": {},
     "output_type": "execute_result"
    }
   ],
   "source": [
    "' Avani '.strip()"
   ]
  },
  {
   "cell_type": "code",
   "execution_count": 26,
   "id": "3bb7ba34",
   "metadata": {},
   "outputs": [
    {
     "data": {
      "text/plain": [
       "'Av   ani'"
      ]
     },
     "execution_count": 26,
     "metadata": {},
     "output_type": "execute_result"
    }
   ],
   "source": [
    "' Av   ani '.strip()"
   ]
  },
  {
   "cell_type": "code",
   "execution_count": 27,
   "id": "156e6c1b",
   "metadata": {},
   "outputs": [
    {
     "data": {
      "text/plain": [
       "'Avani'"
      ]
     },
     "execution_count": 27,
     "metadata": {},
     "output_type": "execute_result"
    }
   ],
   "source": [
    "' Av   ani '.replace(' ','')"
   ]
  },
  {
   "cell_type": "markdown",
   "id": "0dc99bc1",
   "metadata": {},
   "source": [
    "## Student with highest and lowest salary"
   ]
  },
  {
   "cell_type": "code",
   "execution_count": 29,
   "id": "77b174dc",
   "metadata": {},
   "outputs": [
    {
     "data": {
      "text/plain": [
       "120000"
      ]
     },
     "execution_count": 29,
     "metadata": {},
     "output_type": "execute_result"
    }
   ],
   "source": [
    "df.Salary.max()"
   ]
  },
  {
   "cell_type": "code",
   "execution_count": 30,
   "id": "ff6fa603",
   "metadata": {},
   "outputs": [
    {
     "data": {
      "text/plain": [
       "45000"
      ]
     },
     "execution_count": 30,
     "metadata": {},
     "output_type": "execute_result"
    }
   ],
   "source": [
    "df.Salary.min()"
   ]
  },
  {
   "cell_type": "code",
   "execution_count": 33,
   "id": "31a1db9e",
   "metadata": {},
   "outputs": [
    {
     "data": {
      "text/html": [
       "<div>\n",
       "<style scoped>\n",
       "    .dataframe tbody tr th:only-of-type {\n",
       "        vertical-align: middle;\n",
       "    }\n",
       "\n",
       "    .dataframe tbody tr th {\n",
       "        vertical-align: top;\n",
       "    }\n",
       "\n",
       "    .dataframe thead th {\n",
       "        text-align: right;\n",
       "    }\n",
       "</style>\n",
       "<table border=\"1\" class=\"dataframe\">\n",
       "  <thead>\n",
       "    <tr style=\"text-align: right;\">\n",
       "      <th></th>\n",
       "      <th>Sr. No</th>\n",
       "      <th>Name</th>\n",
       "      <th>Place</th>\n",
       "      <th>Post</th>\n",
       "      <th>Salary</th>\n",
       "      <th>Code</th>\n",
       "    </tr>\n",
       "  </thead>\n",
       "  <tbody>\n",
       "    <tr>\n",
       "      <th>4</th>\n",
       "      <td>5</td>\n",
       "      <td>Harshala Gondal</td>\n",
       "      <td>Sangli</td>\n",
       "      <td>DS</td>\n",
       "      <td>45000</td>\n",
       "      <td>HG-232</td>\n",
       "    </tr>\n",
       "    <tr>\n",
       "      <th>5</th>\n",
       "      <td>6</td>\n",
       "      <td>Kuldip Muley</td>\n",
       "      <td>Beed</td>\n",
       "      <td>CEO</td>\n",
       "      <td>120000</td>\n",
       "      <td>KM-333</td>\n",
       "    </tr>\n",
       "  </tbody>\n",
       "</table>\n",
       "</div>"
      ],
      "text/plain": [
       "   Sr. No             Name   Place Post  Salary    Code\n",
       "4       5  Harshala Gondal  Sangli   DS   45000  HG-232\n",
       "5       6     Kuldip Muley    Beed  CEO  120000  KM-333"
      ]
     },
     "execution_count": 33,
     "metadata": {},
     "output_type": "execute_result"
    }
   ],
   "source": [
    "g = df.query('Salary == 120000 or Salary == 45000')\n",
    "g"
   ]
  },
  {
   "cell_type": "code",
   "execution_count": 35,
   "id": "89965b90",
   "metadata": {},
   "outputs": [
    {
     "data": {
      "text/html": [
       "<div>\n",
       "<style scoped>\n",
       "    .dataframe tbody tr th:only-of-type {\n",
       "        vertical-align: middle;\n",
       "    }\n",
       "\n",
       "    .dataframe tbody tr th {\n",
       "        vertical-align: top;\n",
       "    }\n",
       "\n",
       "    .dataframe thead th {\n",
       "        text-align: right;\n",
       "    }\n",
       "</style>\n",
       "<table border=\"1\" class=\"dataframe\">\n",
       "  <thead>\n",
       "    <tr style=\"text-align: right;\">\n",
       "      <th></th>\n",
       "      <th>Sr. No</th>\n",
       "      <th>Name</th>\n",
       "      <th>Place</th>\n",
       "      <th>Post</th>\n",
       "      <th>Salary</th>\n",
       "      <th>Code</th>\n",
       "    </tr>\n",
       "  </thead>\n",
       "  <tbody>\n",
       "    <tr>\n",
       "      <th>5</th>\n",
       "      <td>6</td>\n",
       "      <td>Kuldip Muley</td>\n",
       "      <td>Beed</td>\n",
       "      <td>CEO</td>\n",
       "      <td>120000</td>\n",
       "      <td>KM-333</td>\n",
       "    </tr>\n",
       "    <tr>\n",
       "      <th>4</th>\n",
       "      <td>5</td>\n",
       "      <td>Harshala Gondal</td>\n",
       "      <td>Sangli</td>\n",
       "      <td>DS</td>\n",
       "      <td>45000</td>\n",
       "      <td>HG-232</td>\n",
       "    </tr>\n",
       "  </tbody>\n",
       "</table>\n",
       "</div>"
      ],
      "text/plain": [
       "   Sr. No             Name   Place Post  Salary    Code\n",
       "5       6     Kuldip Muley    Beed  CEO  120000  KM-333\n",
       "4       5  Harshala Gondal  Sangli   DS   45000  HG-232"
      ]
     },
     "execution_count": 35,
     "metadata": {},
     "output_type": "execute_result"
    }
   ],
   "source": [
    "g.sort_values(by='Salary',ascending=False)"
   ]
  },
  {
   "cell_type": "code",
   "execution_count": 40,
   "id": "9d3e43ff",
   "metadata": {},
   "outputs": [
    {
     "data": {
      "text/html": [
       "<div>\n",
       "<style scoped>\n",
       "    .dataframe tbody tr th:only-of-type {\n",
       "        vertical-align: middle;\n",
       "    }\n",
       "\n",
       "    .dataframe tbody tr th {\n",
       "        vertical-align: top;\n",
       "    }\n",
       "\n",
       "    .dataframe thead th {\n",
       "        text-align: right;\n",
       "    }\n",
       "</style>\n",
       "<table border=\"1\" class=\"dataframe\">\n",
       "  <thead>\n",
       "    <tr style=\"text-align: right;\">\n",
       "      <th></th>\n",
       "      <th>Sr. No</th>\n",
       "      <th>Name</th>\n",
       "      <th>Place</th>\n",
       "      <th>Post</th>\n",
       "      <th>Salary</th>\n",
       "      <th>Code</th>\n",
       "    </tr>\n",
       "  </thead>\n",
       "  <tbody>\n",
       "    <tr>\n",
       "      <th>5</th>\n",
       "      <td>6</td>\n",
       "      <td>Kuldip Muley</td>\n",
       "      <td>Beed</td>\n",
       "      <td>CEO</td>\n",
       "      <td>120000</td>\n",
       "      <td>KM-333</td>\n",
       "    </tr>\n",
       "  </tbody>\n",
       "</table>\n",
       "</div>"
      ],
      "text/plain": [
       "   Sr. No          Name Place Post  Salary    Code\n",
       "5       6  Kuldip Muley  Beed  CEO  120000  KM-333"
      ]
     },
     "execution_count": 40,
     "metadata": {},
     "output_type": "execute_result"
    }
   ],
   "source": [
    "df[df.Salary == df.Salary.max()]"
   ]
  },
  {
   "cell_type": "code",
   "execution_count": 51,
   "id": "54564ea7",
   "metadata": {},
   "outputs": [
    {
     "data": {
      "text/html": [
       "<div>\n",
       "<style scoped>\n",
       "    .dataframe tbody tr th:only-of-type {\n",
       "        vertical-align: middle;\n",
       "    }\n",
       "\n",
       "    .dataframe tbody tr th {\n",
       "        vertical-align: top;\n",
       "    }\n",
       "\n",
       "    .dataframe thead th {\n",
       "        text-align: right;\n",
       "    }\n",
       "</style>\n",
       "<table border=\"1\" class=\"dataframe\">\n",
       "  <thead>\n",
       "    <tr style=\"text-align: right;\">\n",
       "      <th></th>\n",
       "      <th>Sr. No</th>\n",
       "      <th>Name</th>\n",
       "      <th>Place</th>\n",
       "      <th>Post</th>\n",
       "      <th>Salary</th>\n",
       "      <th>Code</th>\n",
       "    </tr>\n",
       "  </thead>\n",
       "  <tbody>\n",
       "    <tr>\n",
       "      <th>4</th>\n",
       "      <td>5</td>\n",
       "      <td>Harshala Gondal</td>\n",
       "      <td>Sangli</td>\n",
       "      <td>DS</td>\n",
       "      <td>45000</td>\n",
       "      <td>HG-232</td>\n",
       "    </tr>\n",
       "    <tr>\n",
       "      <th>5</th>\n",
       "      <td>6</td>\n",
       "      <td>Kuldip Muley</td>\n",
       "      <td>Beed</td>\n",
       "      <td>CEO</td>\n",
       "      <td>120000</td>\n",
       "      <td>KM-333</td>\n",
       "    </tr>\n",
       "  </tbody>\n",
       "</table>\n",
       "</div>"
      ],
      "text/plain": [
       "   Sr. No             Name   Place Post  Salary    Code\n",
       "4       5  Harshala Gondal  Sangli   DS   45000  HG-232\n",
       "5       6     Kuldip Muley    Beed  CEO  120000  KM-333"
      ]
     },
     "execution_count": 51,
     "metadata": {},
     "output_type": "execute_result"
    }
   ],
   "source": [
    "df[(df.Salary == df.Salary.max()) |(df.Salary == df.Salary.min()) ]"
   ]
  },
  {
   "cell_type": "code",
   "execution_count": 42,
   "id": "39132f62",
   "metadata": {
    "scrolled": true
   },
   "outputs": [
    {
     "data": {
      "text/html": [
       "<div>\n",
       "<style scoped>\n",
       "    .dataframe tbody tr th:only-of-type {\n",
       "        vertical-align: middle;\n",
       "    }\n",
       "\n",
       "    .dataframe tbody tr th {\n",
       "        vertical-align: top;\n",
       "    }\n",
       "\n",
       "    .dataframe thead th {\n",
       "        text-align: right;\n",
       "    }\n",
       "</style>\n",
       "<table border=\"1\" class=\"dataframe\">\n",
       "  <thead>\n",
       "    <tr style=\"text-align: right;\">\n",
       "      <th></th>\n",
       "      <th>Sr. No</th>\n",
       "      <th>Name</th>\n",
       "      <th>Place</th>\n",
       "      <th>Post</th>\n",
       "      <th>Salary</th>\n",
       "      <th>Code</th>\n",
       "    </tr>\n",
       "  </thead>\n",
       "  <tbody>\n",
       "    <tr>\n",
       "      <th>0</th>\n",
       "      <td>1</td>\n",
       "      <td>Akshay Bankar</td>\n",
       "      <td>Pune</td>\n",
       "      <td>DS</td>\n",
       "      <td>67000</td>\n",
       "      <td>AK-102</td>\n",
       "    </tr>\n",
       "    <tr>\n",
       "      <th>1</th>\n",
       "      <td>2</td>\n",
       "      <td>Arati Banne</td>\n",
       "      <td>Solapur</td>\n",
       "      <td>SE</td>\n",
       "      <td>56000</td>\n",
       "      <td>AB-304</td>\n",
       "    </tr>\n",
       "    <tr>\n",
       "      <th>2</th>\n",
       "      <td>3</td>\n",
       "      <td>Dipak Sawant</td>\n",
       "      <td>Kolhapur</td>\n",
       "      <td>Admin</td>\n",
       "      <td>78000</td>\n",
       "      <td>DS-100</td>\n",
       "    </tr>\n",
       "    <tr>\n",
       "      <th>3</th>\n",
       "      <td>4</td>\n",
       "      <td>Ganesh Rakate</td>\n",
       "      <td>Sangli</td>\n",
       "      <td>HR</td>\n",
       "      <td>80000</td>\n",
       "      <td>GR-450</td>\n",
       "    </tr>\n",
       "    <tr>\n",
       "      <th>4</th>\n",
       "      <td>5</td>\n",
       "      <td>Harshala Gondal</td>\n",
       "      <td>Sangli</td>\n",
       "      <td>DS</td>\n",
       "      <td>45000</td>\n",
       "      <td>HG-232</td>\n",
       "    </tr>\n",
       "    <tr>\n",
       "      <th>5</th>\n",
       "      <td>6</td>\n",
       "      <td>Kuldip Muley</td>\n",
       "      <td>Beed</td>\n",
       "      <td>CEO</td>\n",
       "      <td>120000</td>\n",
       "      <td>KM-333</td>\n",
       "    </tr>\n",
       "    <tr>\n",
       "      <th>6</th>\n",
       "      <td>7</td>\n",
       "      <td>Piyush Sawant</td>\n",
       "      <td>Mumbai</td>\n",
       "      <td>SE</td>\n",
       "      <td>89000</td>\n",
       "      <td>PS</td>\n",
       "    </tr>\n",
       "    <tr>\n",
       "      <th>7</th>\n",
       "      <td>8</td>\n",
       "      <td>Umesh Thorat</td>\n",
       "      <td>Pune</td>\n",
       "      <td>SE</td>\n",
       "      <td>67000</td>\n",
       "      <td>UT-102</td>\n",
       "    </tr>\n",
       "    <tr>\n",
       "      <th>8</th>\n",
       "      <td>9</td>\n",
       "      <td>Vaibhav Ladge</td>\n",
       "      <td>Kolhapur</td>\n",
       "      <td>Tester</td>\n",
       "      <td>87000</td>\n",
       "      <td>VL-102</td>\n",
       "    </tr>\n",
       "    <tr>\n",
       "      <th>9</th>\n",
       "      <td>10</td>\n",
       "      <td>Supriya Gurav</td>\n",
       "      <td>Pune</td>\n",
       "      <td>SE</td>\n",
       "      <td>90000</td>\n",
       "      <td>SG-100</td>\n",
       "    </tr>\n",
       "    <tr>\n",
       "      <th>10</th>\n",
       "      <td>11</td>\n",
       "      <td>Shital Shelar</td>\n",
       "      <td>Karad</td>\n",
       "      <td>Tester</td>\n",
       "      <td>80000</td>\n",
       "      <td>SS-222</td>\n",
       "    </tr>\n",
       "  </tbody>\n",
       "</table>\n",
       "</div>"
      ],
      "text/plain": [
       "    Sr. No             Name     Place    Post  Salary    Code\n",
       "0        1    Akshay Bankar      Pune      DS   67000  AK-102\n",
       "1        2      Arati Banne   Solapur      SE   56000  AB-304\n",
       "2        3     Dipak Sawant  Kolhapur   Admin   78000  DS-100\n",
       "3        4    Ganesh Rakate    Sangli      HR   80000  GR-450\n",
       "4        5  Harshala Gondal    Sangli      DS   45000  HG-232\n",
       "5        6     Kuldip Muley      Beed     CEO  120000  KM-333\n",
       "6        7    Piyush Sawant    Mumbai      SE   89000      PS\n",
       "7        8     Umesh Thorat      Pune      SE   67000  UT-102\n",
       "8        9    Vaibhav Ladge  Kolhapur  Tester   87000  VL-102\n",
       "9       10    Supriya Gurav      Pune      SE   90000  SG-100\n",
       "10      11    Shital Shelar     Karad  Tester   80000  SS-222"
      ]
     },
     "execution_count": 42,
     "metadata": {},
     "output_type": "execute_result"
    }
   ],
   "source": [
    "df"
   ]
  },
  {
   "cell_type": "code",
   "execution_count": 48,
   "id": "7eb46529",
   "metadata": {},
   "outputs": [
    {
     "data": {
      "image/png": "[encoded data removed]",
      "text/plain": [
       "<Figure size 432x288 with 1 Axes>"
      ]
     },
     "metadata": {
      "needs_background": "light"
     },
     "output_type": "display_data"
    }
   ],
   "source": [
    "fig, ax = plt.subplots()\n",
    "df.Post.value_counts().plot(kind='bar')\n",
    "for p in ax.patches:\n",
    "    ax.annotate(str(p.get_height()), (p.get_x()+0.08, p.get_height()),\n",
    "                va='bottom', ha='center', weight='bold')"
   ]
  },
  {
   "cell_type": "markdown",
   "id": "76e0708b",
   "metadata": {},
   "source": [
    "## How to add a row from one df to other df"
   ]
  },
  {
   "cell_type": "code",
   "execution_count": 55,
   "id": "8aee90a4",
   "metadata": {},
   "outputs": [
    {
     "data": {
      "text/html": [
       "<div>\n",
       "<style scoped>\n",
       "    .dataframe tbody tr th:only-of-type {\n",
       "        vertical-align: middle;\n",
       "    }\n",
       "\n",
       "    .dataframe tbody tr th {\n",
       "        vertical-align: top;\n",
       "    }\n",
       "\n",
       "    .dataframe thead th {\n",
       "        text-align: right;\n",
       "    }\n",
       "</style>\n",
       "<table border=\"1\" class=\"dataframe\">\n",
       "  <thead>\n",
       "    <tr style=\"text-align: right;\">\n",
       "      <th></th>\n",
       "      <th>Sr. No</th>\n",
       "      <th>Name</th>\n",
       "      <th>Place</th>\n",
       "      <th>Post</th>\n",
       "      <th>Salary</th>\n",
       "      <th>Code</th>\n",
       "    </tr>\n",
       "  </thead>\n",
       "  <tbody>\n",
       "    <tr>\n",
       "      <th>0</th>\n",
       "      <td>1</td>\n",
       "      <td>Akshay Bankar</td>\n",
       "      <td>Pune</td>\n",
       "      <td>DS</td>\n",
       "      <td>67000</td>\n",
       "      <td>AK-102</td>\n",
       "    </tr>\n",
       "    <tr>\n",
       "      <th>7</th>\n",
       "      <td>8</td>\n",
       "      <td>Umesh Thorat</td>\n",
       "      <td>Pune</td>\n",
       "      <td>SE</td>\n",
       "      <td>67000</td>\n",
       "      <td>UT-102</td>\n",
       "    </tr>\n",
       "    <tr>\n",
       "      <th>9</th>\n",
       "      <td>10</td>\n",
       "      <td>Supriya Gurav</td>\n",
       "      <td>Pune</td>\n",
       "      <td>SE</td>\n",
       "      <td>90000</td>\n",
       "      <td>SG-100</td>\n",
       "    </tr>\n",
       "  </tbody>\n",
       "</table>\n",
       "</div>"
      ],
      "text/plain": [
       "   Sr. No           Name Place Post  Salary    Code\n",
       "0       1  Akshay Bankar  Pune   DS   67000  AK-102\n",
       "7       8   Umesh Thorat  Pune   SE   67000  UT-102\n",
       "9      10  Supriya Gurav  Pune   SE   90000  SG-100"
      ]
     },
     "execution_count": 55,
     "metadata": {},
     "output_type": "execute_result"
    }
   ],
   "source": [
    "df1 = df.query('Place == \"Pune\"')\n",
    "df1"
   ]
  },
  {
   "cell_type": "code",
   "execution_count": 56,
   "id": "90f527de",
   "metadata": {},
   "outputs": [
    {
     "data": {
      "text/html": [
       "<div>\n",
       "<style scoped>\n",
       "    .dataframe tbody tr th:only-of-type {\n",
       "        vertical-align: middle;\n",
       "    }\n",
       "\n",
       "    .dataframe tbody tr th {\n",
       "        vertical-align: top;\n",
       "    }\n",
       "\n",
       "    .dataframe thead th {\n",
       "        text-align: right;\n",
       "    }\n",
       "</style>\n",
       "<table border=\"1\" class=\"dataframe\">\n",
       "  <thead>\n",
       "    <tr style=\"text-align: right;\">\n",
       "      <th></th>\n",
       "      <th>Sr. No</th>\n",
       "      <th>Name</th>\n",
       "      <th>Place</th>\n",
       "      <th>Post</th>\n",
       "      <th>Salary</th>\n",
       "      <th>Code</th>\n",
       "    </tr>\n",
       "  </thead>\n",
       "  <tbody>\n",
       "    <tr>\n",
       "      <th>2</th>\n",
       "      <td>3</td>\n",
       "      <td>Dipak Sawant</td>\n",
       "      <td>Kolhapur</td>\n",
       "      <td>Admin</td>\n",
       "      <td>78000</td>\n",
       "      <td>DS-100</td>\n",
       "    </tr>\n",
       "    <tr>\n",
       "      <th>8</th>\n",
       "      <td>9</td>\n",
       "      <td>Vaibhav Ladge</td>\n",
       "      <td>Kolhapur</td>\n",
       "      <td>Tester</td>\n",
       "      <td>87000</td>\n",
       "      <td>VL-102</td>\n",
       "    </tr>\n",
       "  </tbody>\n",
       "</table>\n",
       "</div>"
      ],
      "text/plain": [
       "   Sr. No           Name     Place    Post  Salary    Code\n",
       "2       3   Dipak Sawant  Kolhapur   Admin   78000  DS-100\n",
       "8       9  Vaibhav Ladge  Kolhapur  Tester   87000  VL-102"
      ]
     },
     "execution_count": 56,
     "metadata": {},
     "output_type": "execute_result"
    }
   ],
   "source": [
    "df2 = df.query('Place == \"Kolhapur\"')\n",
    "df2"
   ]
  },
  {
   "cell_type": "code",
   "execution_count": 62,
   "id": "7f9bc02e",
   "metadata": {},
   "outputs": [
    {
     "data": {
      "text/html": [
       "<div>\n",
       "<style scoped>\n",
       "    .dataframe tbody tr th:only-of-type {\n",
       "        vertical-align: middle;\n",
       "    }\n",
       "\n",
       "    .dataframe tbody tr th {\n",
       "        vertical-align: top;\n",
       "    }\n",
       "\n",
       "    .dataframe thead th {\n",
       "        text-align: right;\n",
       "    }\n",
       "</style>\n",
       "<table border=\"1\" class=\"dataframe\">\n",
       "  <thead>\n",
       "    <tr style=\"text-align: right;\">\n",
       "      <th></th>\n",
       "      <th>Sr. No</th>\n",
       "      <th>Name</th>\n",
       "      <th>Place</th>\n",
       "      <th>Post</th>\n",
       "      <th>Salary</th>\n",
       "      <th>Code</th>\n",
       "    </tr>\n",
       "  </thead>\n",
       "  <tbody>\n",
       "    <tr>\n",
       "      <th>0</th>\n",
       "      <td>1</td>\n",
       "      <td>Akshay Bankar</td>\n",
       "      <td>Pune</td>\n",
       "      <td>DS</td>\n",
       "      <td>67000</td>\n",
       "      <td>AK-102</td>\n",
       "    </tr>\n",
       "    <tr>\n",
       "      <th>7</th>\n",
       "      <td>8</td>\n",
       "      <td>Umesh Thorat</td>\n",
       "      <td>Pune</td>\n",
       "      <td>SE</td>\n",
       "      <td>67000</td>\n",
       "      <td>UT-102</td>\n",
       "    </tr>\n",
       "    <tr>\n",
       "      <th>9</th>\n",
       "      <td>10</td>\n",
       "      <td>Supriya Gurav</td>\n",
       "      <td>Pune</td>\n",
       "      <td>SE</td>\n",
       "      <td>90000</td>\n",
       "      <td>SG-100</td>\n",
       "    </tr>\n",
       "    <tr>\n",
       "      <th>2</th>\n",
       "      <td>3</td>\n",
       "      <td>Dipak Sawant</td>\n",
       "      <td>Kolhapur</td>\n",
       "      <td>Admin</td>\n",
       "      <td>78000</td>\n",
       "      <td>DS-100</td>\n",
       "    </tr>\n",
       "    <tr>\n",
       "      <th>8</th>\n",
       "      <td>9</td>\n",
       "      <td>Vaibhav Ladge</td>\n",
       "      <td>Kolhapur</td>\n",
       "      <td>Tester</td>\n",
       "      <td>87000</td>\n",
       "      <td>VL-102</td>\n",
       "    </tr>\n",
       "  </tbody>\n",
       "</table>\n",
       "</div>"
      ],
      "text/plain": [
       "   Sr. No           Name     Place    Post  Salary    Code\n",
       "0       1  Akshay Bankar      Pune      DS   67000  AK-102\n",
       "7       8   Umesh Thorat      Pune      SE   67000  UT-102\n",
       "9      10  Supriya Gurav      Pune      SE   90000  SG-100\n",
       "2       3   Dipak Sawant  Kolhapur   Admin   78000  DS-100\n",
       "8       9  Vaibhav Ladge  Kolhapur  Tester   87000  VL-102"
      ]
     },
     "execution_count": 62,
     "metadata": {},
     "output_type": "execute_result"
    }
   ],
   "source": [
    "pd.concat([df1,df2])"
   ]
  },
  {
   "cell_type": "code",
   "execution_count": 63,
   "id": "7a8f9355",
   "metadata": {
    "scrolled": true
   },
   "outputs": [
    {
     "data": {
      "text/html": [
       "<div>\n",
       "<style scoped>\n",
       "    .dataframe tbody tr th:only-of-type {\n",
       "        vertical-align: middle;\n",
       "    }\n",
       "\n",
       "    .dataframe tbody tr th {\n",
       "        vertical-align: top;\n",
       "    }\n",
       "\n",
       "    .dataframe thead th {\n",
       "        text-align: right;\n",
       "    }\n",
       "</style>\n",
       "<table border=\"1\" class=\"dataframe\">\n",
       "  <thead>\n",
       "    <tr style=\"text-align: right;\">\n",
       "      <th></th>\n",
       "      <th>Sr. No</th>\n",
       "      <th>Name</th>\n",
       "      <th>Place</th>\n",
       "      <th>Post</th>\n",
       "      <th>Salary</th>\n",
       "      <th>Code</th>\n",
       "    </tr>\n",
       "  </thead>\n",
       "  <tbody>\n",
       "    <tr>\n",
       "      <th>0</th>\n",
       "      <td>1</td>\n",
       "      <td>Akshay Bankar</td>\n",
       "      <td>Pune</td>\n",
       "      <td>DS</td>\n",
       "      <td>67000</td>\n",
       "      <td>AK-102</td>\n",
       "    </tr>\n",
       "    <tr>\n",
       "      <th>7</th>\n",
       "      <td>8</td>\n",
       "      <td>Umesh Thorat</td>\n",
       "      <td>Pune</td>\n",
       "      <td>SE</td>\n",
       "      <td>67000</td>\n",
       "      <td>UT-102</td>\n",
       "    </tr>\n",
       "    <tr>\n",
       "      <th>9</th>\n",
       "      <td>10</td>\n",
       "      <td>Supriya Gurav</td>\n",
       "      <td>Pune</td>\n",
       "      <td>SE</td>\n",
       "      <td>90000</td>\n",
       "      <td>SG-100</td>\n",
       "    </tr>\n",
       "  </tbody>\n",
       "</table>\n",
       "</div>"
      ],
      "text/plain": [
       "   Sr. No           Name Place Post  Salary    Code\n",
       "0       1  Akshay Bankar  Pune   DS   67000  AK-102\n",
       "7       8   Umesh Thorat  Pune   SE   67000  UT-102\n",
       "9      10  Supriya Gurav  Pune   SE   90000  SG-100"
      ]
     },
     "execution_count": 63,
     "metadata": {},
     "output_type": "execute_result"
    }
   ],
   "source": [
    "df1"
   ]
  },
  {
   "cell_type": "code",
   "execution_count": 65,
   "id": "8753e76e",
   "metadata": {},
   "outputs": [
    {
     "data": {
      "text/plain": [
       "array([[1, 'Akshay Bankar', 'Pune', 'DS', 67000, 'AK-102'],\n",
       "       [8, 'Umesh Thorat', 'Pune', 'SE', 67000, 'UT-102'],\n",
       "       [10, 'Supriya Gurav', 'Pune', 'SE', 90000, 'SG-100']], dtype=object)"
      ]
     },
     "execution_count": 65,
     "metadata": {},
     "output_type": "execute_result"
    }
   ],
   "source": [
    "df1.values"
   ]
  },
  {
   "cell_type": "code",
   "execution_count": 83,
   "id": "b290bda4",
   "metadata": {},
   "outputs": [
    {
     "data": {
      "text/html": [
       "<div>\n",
       "<style scoped>\n",
       "    .dataframe tbody tr th:only-of-type {\n",
       "        vertical-align: middle;\n",
       "    }\n",
       "\n",
       "    .dataframe tbody tr th {\n",
       "        vertical-align: top;\n",
       "    }\n",
       "\n",
       "    .dataframe thead th {\n",
       "        text-align: right;\n",
       "    }\n",
       "</style>\n",
       "<table border=\"1\" class=\"dataframe\">\n",
       "  <thead>\n",
       "    <tr style=\"text-align: right;\">\n",
       "      <th></th>\n",
       "      <th>0</th>\n",
       "      <th>1</th>\n",
       "      <th>2</th>\n",
       "      <th>3</th>\n",
       "      <th>4</th>\n",
       "      <th>5</th>\n",
       "    </tr>\n",
       "  </thead>\n",
       "  <tbody>\n",
       "    <tr>\n",
       "      <th>0</th>\n",
       "      <td>1</td>\n",
       "      <td>Akshay Bankar</td>\n",
       "      <td>Pune</td>\n",
       "      <td>DS</td>\n",
       "      <td>67000</td>\n",
       "      <td>AK-102</td>\n",
       "    </tr>\n",
       "    <tr>\n",
       "      <th>1</th>\n",
       "      <td>3</td>\n",
       "      <td>Dipak Sawant</td>\n",
       "      <td>Kolhapur</td>\n",
       "      <td>Admin</td>\n",
       "      <td>78000</td>\n",
       "      <td>DS-100</td>\n",
       "    </tr>\n",
       "    <tr>\n",
       "      <th>2</th>\n",
       "      <td>9</td>\n",
       "      <td>Vaibhav Ladge</td>\n",
       "      <td>Kolhapur</td>\n",
       "      <td>Tester</td>\n",
       "      <td>87000</td>\n",
       "      <td>VL-102</td>\n",
       "    </tr>\n",
       "    <tr>\n",
       "      <th>3</th>\n",
       "      <td>8</td>\n",
       "      <td>Umesh Thorat</td>\n",
       "      <td>Pune</td>\n",
       "      <td>SE</td>\n",
       "      <td>67000</td>\n",
       "      <td>UT-102</td>\n",
       "    </tr>\n",
       "    <tr>\n",
       "      <th>4</th>\n",
       "      <td>10</td>\n",
       "      <td>Supriya Gurav</td>\n",
       "      <td>Pune</td>\n",
       "      <td>SE</td>\n",
       "      <td>90000</td>\n",
       "      <td>SG-100</td>\n",
       "    </tr>\n",
       "  </tbody>\n",
       "</table>\n",
       "</div>"
      ],
      "text/plain": [
       "    0              1         2       3      4       5\n",
       "0   1  Akshay Bankar      Pune      DS  67000  AK-102\n",
       "1   3   Dipak Sawant  Kolhapur   Admin  78000  DS-100\n",
       "2   9  Vaibhav Ladge  Kolhapur  Tester  87000  VL-102\n",
       "3   8   Umesh Thorat      Pune      SE  67000  UT-102\n",
       "4  10  Supriya Gurav      Pune      SE  90000  SG-100"
      ]
     },
     "execution_count": 83,
     "metadata": {},
     "output_type": "execute_result"
    }
   ],
   "source": [
    "pd.DataFrame(np.insert(df1.values,1,df2,axis=0))"
   ]
  },
  {
   "cell_type": "code",
   "execution_count": 1,
   "id": "647d4244",
   "metadata": {},
   "outputs": [
    {
     "ename": "SyntaxError",
     "evalue": "EOL while scanning string literal (119231884.py, line 1)",
     "output_type": "error",
     "traceback": [
      "\u001b[1;36m  Input \u001b[1;32mIn [1]\u001b[1;36m\u001b[0m\n\u001b[1;33m    0\"df1\u001b[0m\n\u001b[1;37m         ^\u001b[0m\n\u001b[1;31mSyntaxError\u001b[0m\u001b[1;31m:\u001b[0m EOL while scanning string literal\n"
     ]
    }
   ],
   "source": [
    " 0\"df1"
   ]
  },
  {
   "cell_type": "code",
   "execution_count": null,
   "id": "a80600cc",
   "metadata": {},
   "outputs": [],
   "source": [
    "np.insert()"
   ]
  }
 ],
 "metadata": {
  "kernelspec": {
   "display_name": "Python 3 (ipykernel)",
   "language": "python",
   "name": "python3"
  },
  "language_info": {
   "codemirror_mode": {
    "name": "ipython",
    "version": 3
   },
   "file_extension": ".py",
   "mimetype": "text/x-python",
   "name": "python",
   "nbconvert_exporter": "python",
   "pygments_lexer": "ipython3",
   "version": "3.9.12"
  }
 },
 "nbformat": 4,
 "nbformat_minor": 5
}
