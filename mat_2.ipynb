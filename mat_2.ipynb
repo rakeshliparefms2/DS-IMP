{
 "cells": [
  {
   "cell_type": "code",
   "execution_count": 2,
   "id": "9ed40a8e",
   "metadata": {},
   "outputs": [],
   "source": [
    "import numpy as np\n",
    "import matplotlib.pyplot as plt"
   ]
  },
  {
   "cell_type": "code",
   "execution_count": null,
   "id": "c2e0f8d7",
   "metadata": {},
   "outputs": [],
   "source": []
  },
  {
   "cell_type": "code",
   "execution_count": null,
   "id": "0f7cf20a",
   "metadata": {},
   "outputs": [],
   "source": [
    "\"\"\"\n",
    "Visual Ananlysis: we have different options\n",
    "Univariate analysis: only one input is used, \n",
    "lineplot, hist,pie,box plot,violine plot\n",
    "Example:\n",
    "marks = [45-99%]  min marks,max marks,45- 55 -65-75-above\n",
    "\n",
    "Bi variate analysis: 2 features(1 input + 1 output  ), \n",
    "lineplot, barplot,scatter plot, area,\n",
    "Example:\n",
    "sq.feet area vs Price\n",
    "km travelled vs Petrol consumed\n",
    "Usage vs mobile_battery\n",
    "\n",
    "Multi variate analysis: more than 2 features, or we add multiple\n",
    "categories in it,\n",
    "lineplot,catplot,pairplot,jointplot,swarmplot\n",
    "Example:\n",
    "State vs Covid_cases==> with respect to {Male , Female}\n",
    "Add District Division\n",
    "240 KA ==> divide on the basis of Age group 18<,  18> cat <50, cat>50  \n",
    "\"\"\""
   ]
  },
  {
   "cell_type": "markdown",
   "id": "9e347ece",
   "metadata": {},
   "source": [
    "# Scatter plot"
   ]
  },
  {
   "cell_type": "code",
   "execution_count": 9,
   "id": "3a3835a4",
   "metadata": {},
   "outputs": [],
   "source": [
    "# bivariate: it requires 2 features\n",
    "# It is used to check the distribustion of data\n",
    "# Checks outliers in data\n",
    "a = np.random.random(20)"
   ]
  },
  {
   "cell_type": "code",
   "execution_count": 10,
   "id": "9527e6ca",
   "metadata": {},
   "outputs": [
    {
     "data": {
      "text/plain": [
       "array([0.81250916, 0.41567173, 0.01633836, 0.6646069 , 0.43245282,\n",
       "       0.78201875, 0.44584199, 0.4417831 , 0.46240616, 0.27898723,\n",
       "       0.36210021, 0.48331161, 0.51067813, 0.92403407, 0.53175188,\n",
       "       0.85636165, 0.97247507, 0.09018809, 0.51218063, 0.55383387])"
      ]
     },
     "execution_count": 10,
     "metadata": {},
     "output_type": "execute_result"
    }
   ],
   "source": [
    "a #y"
   ]
  },
  {
   "cell_type": "code",
   "execution_count": 11,
   "id": "fdeaebf1",
   "metadata": {},
   "outputs": [
    {
     "data": {
      "text/plain": [
       "range(0, 20)"
      ]
     },
     "execution_count": 11,
     "metadata": {},
     "output_type": "execute_result"
    }
   ],
   "source": [
    "range(20) #x"
   ]
  },
  {
   "cell_type": "code",
   "execution_count": 12,
   "id": "29bd717c",
   "metadata": {},
   "outputs": [
    {
     "data": {
      "text/plain": [
       "<matplotlib.collections.PathCollection at 0x1637fbf2b50>"
      ]
     },
     "execution_count": 12,
     "metadata": {},
     "output_type": "execute_result"
    },
    {
     "data": {
      "image/png": "[encoded data removed]",
      "text/plain": [
       "<Figure size 432x288 with 1 Axes>"
      ]
     },
     "metadata": {
      "needs_background": "light"
     },
     "output_type": "display_data"
    }
   ],
   "source": [
    "plt.scatter(range(20),a)"
   ]
  },
  {
   "cell_type": "code",
   "execution_count": 27,
   "id": "ad8950a6",
   "metadata": {},
   "outputs": [
    {
     "data": {
      "image/png": "[encoded data removed]",
      "text/plain": [
       "<Figure size 432x288 with 1 Axes>"
      ]
     },
     "metadata": {
      "needs_background": "light"
     },
     "output_type": "display_data"
    }
   ],
   "source": [
    "# if u look at above diagram value of X and Y axis are in float\n",
    "# which is nt expected\n",
    "plt.scatter(range(1,21),a)\n",
    "#plt.xlim((2.,20.))\n",
    "plt.xticks(range(1,21),list(range(1,21)))\n",
    "plt.show()"
   ]
  },
  {
   "cell_type": "markdown",
   "id": "78f74db4",
   "metadata": {},
   "source": [
    "# Univariate plots"
   ]
  },
  {
   "cell_type": "markdown",
   "id": "53b25c0a",
   "metadata": {},
   "source": [
    "# hist plot"
   ]
  },
  {
   "cell_type": "code",
   "execution_count": null,
   "id": "d63e022d",
   "metadata": {},
   "outputs": [],
   "source": [
    "# It is used to check rangewise distribustion of data\n",
    "# it gives u  a count within a perticular range\n",
    "# it also shows data distribustion"
   ]
  },
  {
   "cell_type": "code",
   "execution_count": 30,
   "id": "1cbe085e",
   "metadata": {},
   "outputs": [
    {
     "data": {
      "text/plain": [
       "array([183,  97,  66,  49, 119,  51, 162,  80, 172,  76, 108, 138,  45,\n",
       "       137, 192, 171, 195, 168,  42, 195, 128,  78, 125,  70, 177, 186,\n",
       "       103, 170, 125, 135, 104, 169,  47, 122, 184,  61, 140,  40,  93,\n",
       "       153,  67,  87,  54, 154, 161,  63,  70,  72,  44, 139, 129,  84,\n",
       "       136,  88, 134, 114, 199,  41,  99, 124, 161, 155, 136, 179,  44,\n",
       "       130,  70, 174, 199, 106, 156, 154,  97, 184,  95, 189, 110, 197,\n",
       "       108, 179, 151, 138, 184,  72,  93, 141, 115,  65, 136, 113, 120,\n",
       "        53, 130,  46, 188, 159, 125, 114,  93, 165])"
      ]
     },
     "execution_count": 30,
     "metadata": {},
     "output_type": "execute_result"
    }
   ],
   "source": [
    "# normal Blood pressure range is 80,120\n",
    "# will use a numpy to create a data of 100 patients\n",
    "bp = np.random.randint(40,200,100)\n",
    "bp"
   ]
  },
  {
   "cell_type": "code",
   "execution_count": 32,
   "id": "1c0440e0",
   "metadata": {},
   "outputs": [
    {
     "data": {
      "text/plain": [
       "40"
      ]
     },
     "execution_count": 32,
     "metadata": {},
     "output_type": "execute_result"
    }
   ],
   "source": [
    "bp.min()"
   ]
  },
  {
   "cell_type": "code",
   "execution_count": 33,
   "id": "c729f82c",
   "metadata": {},
   "outputs": [
    {
     "data": {
      "text/plain": [
       "199"
      ]
     },
     "execution_count": 33,
     "metadata": {},
     "output_type": "execute_result"
    }
   ],
   "source": [
    "bp.max()"
   ]
  },
  {
   "cell_type": "code",
   "execution_count": 31,
   "id": "9dc0cb43",
   "metadata": {},
   "outputs": [
    {
     "data": {
      "text/plain": [
       "(array([12.,  8.,  7.,  9., 10., 12., 10., 10., 10., 12.]),\n",
       " array([ 40. ,  55.9,  71.8,  87.7, 103.6, 119.5, 135.4, 151.3, 167.2,\n",
       "        183.1, 199. ]),\n",
       " <BarContainer object of 10 artists>)"
      ]
     },
     "execution_count": 31,
     "metadata": {},
     "output_type": "execute_result"
    },
    {
     "data": {
      "image/png": "[encoded data removed]",
      "text/plain": [
       "<Figure size 432x288 with 1 Axes>"
      ]
     },
     "metadata": {
      "needs_background": "light"
     },
     "output_type": "display_data"
    }
   ],
   "source": [
    "# check default disctribustion of data using hist plot\n",
    "plt.hist(bp)"
   ]
  },
  {
   "cell_type": "code",
   "execution_count": 34,
   "id": "d57f608d",
   "metadata": {},
   "outputs": [
    {
     "data": {
      "text/plain": [
       "(array([1., 2., 1., 4., 3., 1., 2., 3., 4., 2.]),\n",
       " array([ 80.,  84.,  88.,  92.,  96., 100., 104., 108., 112., 116., 120.]),\n",
       " <BarContainer object of 10 artists>)"
      ]
     },
     "execution_count": 34,
     "metadata": {},
     "output_type": "execute_result"
    },
    {
     "data": {
      "image/png": "[encoded data removed]",
      "text/plain": [
       "<Figure size 432x288 with 1 Axes>"
      ]
     },
     "metadata": {
      "needs_background": "light"
     },
     "output_type": "display_data"
    }
   ],
   "source": [
    "# supply own range of min and max\n",
    "plt.hist(bp,range=(80,120))"
   ]
  },
  {
   "cell_type": "code",
   "execution_count": 41,
   "id": "c73b0e73",
   "metadata": {},
   "outputs": [
    {
     "data": {
      "text/plain": [
       "(array([15.,  4., 19.]),\n",
       " array([ 50,  80,  90, 120]),\n",
       " <BarContainer object of 3 artists>)"
      ]
     },
     "execution_count": 41,
     "metadata": {},
     "output_type": "execute_result"
    },
    {
     "data": {
      "image/png": "[encoded data removed]",
      "text/plain": [
       "<Figure size 432x288 with 1 Axes>"
      ]
     },
     "metadata": {
      "needs_background": "light"
     },
     "output_type": "display_data"
    }
   ],
   "source": [
    "# supply own range in hist using bins attribute\n",
    "plt.hist(bp,bins=[50,80,90,120],rwidth=.96)"
   ]
  },
  {
   "cell_type": "code",
   "execution_count": null,
   "id": "08dd9a86",
   "metadata": {},
   "outputs": [],
   "source": []
  }
 ],
 "metadata": {
  "kernelspec": {
   "display_name": "Python 3 (ipykernel)",
   "language": "python",
   "name": "python3"
  },
  "language_info": {
   "codemirror_mode": {
    "name": "ipython",
    "version": 3
   },
   "file_extension": ".py",
   "mimetype": "text/x-python",
   "name": "python",
   "nbconvert_exporter": "python",
   "pygments_lexer": "ipython3",
   "version": "3.9.12"
  }
 },
 "nbformat": 4,
 "nbformat_minor": 5
}
