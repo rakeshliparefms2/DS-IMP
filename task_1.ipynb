{
 "cells": [
  {
   "cell_type": "code",
   "execution_count": 1,
   "id": "2180c55a",
   "metadata": {},
   "outputs": [],
   "source": [
    "# Put it as a title"
   ]
  },
  {
   "cell_type": "code",
   "execution_count": 2,
   "id": "e28d918d",
   "metadata": {},
   "outputs": [],
   "source": [
    "# cell "
   ]
  },
  {
   "cell_type": "code",
   "execution_count": 3,
   "id": "49a22d1a",
   "metadata": {},
   "outputs": [
    {
     "name": "stdout",
     "output_type": "stream",
     "text": [
      "hello world\n"
     ]
    }
   ],
   "source": [
    "print('hello world')"
   ]
  },
  {
   "cell_type": "code",
   "execution_count": 4,
   "id": "1ae189e7",
   "metadata": {},
   "outputs": [],
   "source": [
    "x = 10"
   ]
  },
  {
   "cell_type": "code",
   "execution_count": 5,
   "id": "7d6bdf7f",
   "metadata": {
    "scrolled": true
   },
   "outputs": [
    {
     "data": {
      "text/plain": [
       "10"
      ]
     },
     "execution_count": 5,
     "metadata": {},
     "output_type": "execute_result"
    }
   ],
   "source": [
    "x"
   ]
  },
  {
   "cell_type": "code",
   "execution_count": 6,
   "id": "4000f85c",
   "metadata": {},
   "outputs": [
    {
     "data": {
      "text/plain": [
       "10"
      ]
     },
     "execution_count": 6,
     "metadata": {},
     "output_type": "execute_result"
    }
   ],
   "source": [
    "x"
   ]
  },
  {
   "cell_type": "code",
   "execution_count": 7,
   "id": "758c660a",
   "metadata": {},
   "outputs": [],
   "source": [
    "y = 88"
   ]
  },
  {
   "cell_type": "code",
   "execution_count": 8,
   "id": "bd55f043",
   "metadata": {},
   "outputs": [
    {
     "data": {
      "text/plain": [
       "88"
      ]
     },
     "execution_count": 8,
     "metadata": {},
     "output_type": "execute_result"
    }
   ],
   "source": [
    "y"
   ]
  },
  {
   "cell_type": "code",
   "execution_count": 9,
   "id": "bdeba59e",
   "metadata": {},
   "outputs": [
    {
     "name": "stdout",
     "output_type": "stream",
     "text": [
      "['In', 'Out', '_', '_5', '_6', '_8', '__', '___', '__builtin__', '__builtins__', '__doc__', '__loader__', '__name__', '__package__', '__spec__', '_dh', '_i', '_i1', '_i2', '_i3', '_i4', '_i5', '_i6', '_i7', '_i8', '_i9', '_ih', '_ii', '_iii', '_oh', 'exit', 'get_ipython', 'quit', 'x', 'y']\n"
     ]
    }
   ],
   "source": [
    "print(dir())"
   ]
  },
  {
   "cell_type": "code",
   "execution_count": 10,
   "id": "20d6dafa",
   "metadata": {},
   "outputs": [
    {
     "data": {
      "text/plain": [
       "10"
      ]
     },
     "execution_count": 10,
     "metadata": {},
     "output_type": "execute_result"
    }
   ],
   "source": [
    "x"
   ]
  },
  {
   "cell_type": "code",
   "execution_count": 11,
   "id": "6a5461bd",
   "metadata": {},
   "outputs": [
    {
     "data": {
      "text/plain": [
       "88"
      ]
     },
     "execution_count": 11,
     "metadata": {},
     "output_type": "execute_result"
    }
   ],
   "source": [
    "y"
   ]
  },
  {
   "cell_type": "markdown",
   "id": "d897bf2c",
   "metadata": {},
   "source": [
    "# Title"
   ]
  },
  {
   "cell_type": "markdown",
   "id": "9ae87332",
   "metadata": {},
   "source": [
    "####### Title2"
   ]
  },
  {
   "cell_type": "markdown",
   "id": "d99a7796",
   "metadata": {},
   "source": [
    "# Title1"
   ]
  },
  {
   "cell_type": "markdown",
   "id": "935888b9",
   "metadata": {},
   "source": [
    "## Title2"
   ]
  },
  {
   "cell_type": "markdown",
   "id": "240aa3b3",
   "metadata": {},
   "source": [
    "### Title3"
   ]
  },
  {
   "cell_type": "markdown",
   "id": "826ce810",
   "metadata": {},
   "source": [
    "#### title4"
   ]
  },
  {
   "cell_type": "markdown",
   "id": "3f83d269",
   "metadata": {},
   "source": [
    "##### title5"
   ]
  },
  {
   "cell_type": "markdown",
   "id": "8aed94eb",
   "metadata": {},
   "source": [
    "###### title6"
   ]
  },
  {
   "cell_type": "raw",
   "id": "d9b06b60",
   "metadata": {},
   "source": [
    "RawNB convert gives u an editable text\n",
    "I have to give paragraph as a plain text\n",
    "which will give the information about the code which i m writing here"
   ]
  },
  {
   "cell_type": "markdown",
   "id": "bbfbac41",
   "metadata": {},
   "source": [
    "Markdown gives u an plain text in embedded form\n",
    "I have to give paragraph as a plain text\n",
    "which will give the information about the code which i m writing here"
   ]
  },
  {
   "cell_type": "code",
   "execution_count": 18,
   "id": "5539f83e",
   "metadata": {},
   "outputs": [
    {
     "data": {
      "text/html": [
       "<font color='red'><h1><marquee>  Python </marquee></h1><font color>\n"
      ],
      "text/plain": [
       "<IPython.core.display.HTML object>"
      ]
     },
     "metadata": {},
     "output_type": "display_data"
    }
   ],
   "source": [
    "%%HTML\n",
    "<font color='red'><h1><marquee>  Python </marquee></h1><font color>\n"
   ]
  },
  {
   "cell_type": "markdown",
   "id": "60024605",
   "metadata": {},
   "source": [
    "###### Markdown gives u an plain text in embedded form I have to give paragraph as a plain text which will give the information about the code which i m writing here"
   ]
  },
  {
   "cell_type": "code",
   "execution_count": 19,
   "id": "8a6b3e2d",
   "metadata": {
    "scrolled": true
   },
   "outputs": [
    {
     "name": "stdout",
     "output_type": "stream",
     "text": [
      "\n",
      "*\n",
      "**\n",
      "***\n",
      "****\n"
     ]
    }
   ],
   "source": [
    "for i in range(5):\n",
    "    print('*'*i)"
   ]
  },
  {
   "cell_type": "code",
   "execution_count": 22,
   "id": "a2d2f36a",
   "metadata": {},
   "outputs": [
    {
     "data": {
      "text/plain": [
       "10"
      ]
     },
     "execution_count": 22,
     "metadata": {},
     "output_type": "execute_result"
    }
   ],
   "source": [
    "x"
   ]
  },
  {
   "cell_type": "code",
   "execution_count": 23,
   "id": "af03e48b",
   "metadata": {},
   "outputs": [
    {
     "data": {
      "text/plain": [
       "88"
      ]
     },
     "execution_count": 23,
     "metadata": {},
     "output_type": "execute_result"
    }
   ],
   "source": [
    "y"
   ]
  },
  {
   "cell_type": "code",
   "execution_count": null,
   "id": "1b02c252",
   "metadata": {},
   "outputs": [],
   "source": []
  },
  {
   "cell_type": "code",
   "execution_count": 21,
   "id": "63eee55f",
   "metadata": {},
   "outputs": [
    {
     "name": "stdout",
     "output_type": "stream",
     "text": [
      "\n",
      "A\n",
      "BB\n",
      "CCC\n",
      "DDDD\n"
     ]
    }
   ],
   "source": [
    "for i in range(5):\n",
    "    print(chr(i+64)*i)"
   ]
  },
  {
   "cell_type": "markdown",
   "id": "0c6775c9",
   "metadata": {},
   "source": [
    "# Jupyter contains all data science libraries`"
   ]
  },
  {
   "cell_type": "code",
   "execution_count": 24,
   "id": "c462b52f",
   "metadata": {},
   "outputs": [],
   "source": [
    "import numpy as np\n",
    "import pandas as pd"
   ]
  },
  {
   "cell_type": "code",
   "execution_count": null,
   "id": "dc07abd0",
   "metadata": {},
   "outputs": [],
   "source": []
  }
 ],
 "metadata": {
  "kernelspec": {
   "display_name": "Python 3 (ipykernel)",
   "language": "python",
   "name": "python3"
  },
  "language_info": {
   "codemirror_mode": {
    "name": "ipython",
    "version": 3
   },
   "file_extension": ".py",
   "mimetype": "text/x-python",
   "name": "python",
   "nbconvert_exporter": "python",
   "pygments_lexer": "ipython3",
   "version": "3.9.12"
  }
 },
 "nbformat": 4,
 "nbformat_minor": 5
}
