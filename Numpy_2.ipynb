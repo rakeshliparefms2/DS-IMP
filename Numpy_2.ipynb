{
 "cells": [
  {
   "cell_type": "markdown",
   "id": "53201868",
   "metadata": {},
   "source": [
    "# Creation of Numpy"
   ]
  },
  {
   "cell_type": "markdown",
   "id": "de394d6c",
   "metadata": {},
   "source": [
    "### np.array(object,dtype)"
   ]
  },
  {
   "cell_type": "code",
   "execution_count": 2,
   "id": "278534cf",
   "metadata": {},
   "outputs": [],
   "source": [
    "import numpy as np"
   ]
  },
  {
   "cell_type": "code",
   "execution_count": 3,
   "id": "7d866bb6",
   "metadata": {},
   "outputs": [
    {
     "data": {
      "text/plain": [
       "array([1, 2, 3])"
      ]
     },
     "execution_count": 3,
     "metadata": {},
     "output_type": "execute_result"
    }
   ],
   "source": [
    "np.array([1,2,3]) #data is of int type"
   ]
  },
  {
   "cell_type": "code",
   "execution_count": 4,
   "id": "c41dceea",
   "metadata": {},
   "outputs": [
    {
     "data": {
      "text/plain": [
       "array([1., 3., 4.])"
      ]
     },
     "execution_count": 4,
     "metadata": {},
     "output_type": "execute_result"
    }
   ],
   "source": [
    "np.array([1.,3.,4.])"
   ]
  },
  {
   "cell_type": "code",
   "execution_count": 5,
   "id": "afc6124c",
   "metadata": {},
   "outputs": [
    {
     "data": {
      "text/plain": [
       "array([1., 2., 3.])"
      ]
     },
     "execution_count": 5,
     "metadata": {},
     "output_type": "execute_result"
    }
   ],
   "source": [
    "#but if we use data of different type\n",
    "np.array([1,2,3.])\n",
    "#it will perform implicit typecasting"
   ]
  },
  {
   "cell_type": "code",
   "execution_count": 6,
   "id": "a6742882",
   "metadata": {},
   "outputs": [
    {
     "data": {
      "text/plain": [
       "array([1.+3.j, 2.+0.j, 3.+0.j])"
      ]
     },
     "execution_count": 6,
     "metadata": {},
     "output_type": "execute_result"
    }
   ],
   "source": [
    "#int-->float-->complex-->object\n",
    "np.array([1+3j,2,3.])"
   ]
  },
  {
   "cell_type": "code",
   "execution_count": 8,
   "id": "101ba625",
   "metadata": {},
   "outputs": [
    {
     "data": {
      "text/plain": [
       "array([1, 2, 3])"
      ]
     },
     "execution_count": 8,
     "metadata": {},
     "output_type": "execute_result"
    }
   ],
   "source": [
    "# we need here explicit typecasting\n",
    "# use dtype attribute \n",
    "np.array([1,2,3.],dtype=int)"
   ]
  },
  {
   "cell_type": "code",
   "execution_count": 12,
   "id": "f2e97ed6",
   "metadata": {},
   "outputs": [
    {
     "data": {
      "text/plain": [
       "array([1, 2, 3])"
      ]
     },
     "execution_count": 12,
     "metadata": {},
     "output_type": "execute_result"
    }
   ],
   "source": [
    "np.array([1,2,3.],dtype='int')"
   ]
  },
  {
   "cell_type": "code",
   "execution_count": 15,
   "id": "26012fbe",
   "metadata": {},
   "outputs": [
    {
     "data": {
      "text/plain": [
       "dtype('int32')"
      ]
     },
     "execution_count": 15,
     "metadata": {},
     "output_type": "execute_result"
    }
   ],
   "source": [
    "#check bits of dtype\n",
    "np.array([1,2,3.],dtype=int).dtype"
   ]
  },
  {
   "cell_type": "code",
   "execution_count": 13,
   "id": "cdf18910",
   "metadata": {},
   "outputs": [
    {
     "data": {
      "text/plain": [
       "array([1, 2, 3], dtype=int8)"
      ]
     },
     "execution_count": 13,
     "metadata": {},
     "output_type": "execute_result"
    }
   ],
   "source": [
    "np.array([1,2,3.],dtype='int8')"
   ]
  },
  {
   "cell_type": "code",
   "execution_count": 37,
   "id": "f49c6fb0",
   "metadata": {},
   "outputs": [
    {
     "data": {
      "text/plain": [
       "array([ 1, 24,  3], dtype=int16)"
      ]
     },
     "execution_count": 37,
     "metadata": {},
     "output_type": "execute_result"
    }
   ],
   "source": [
    "np.array([1,24,3.],dtype='int16')"
   ]
  },
  {
   "cell_type": "code",
   "execution_count": 38,
   "id": "e330aa89",
   "metadata": {},
   "outputs": [
    {
     "data": {
      "text/plain": [
       "array([10., 20., 30.], dtype=float32)"
      ]
     },
     "execution_count": 38,
     "metadata": {},
     "output_type": "execute_result"
    }
   ],
   "source": [
    "np.array([10,20,30],dtype='f')"
   ]
  },
  {
   "cell_type": "code",
   "execution_count": 39,
   "id": "e3657bfc",
   "metadata": {},
   "outputs": [
    {
     "data": {
      "text/plain": [
       "array([10., 20., 30.])"
      ]
     },
     "execution_count": 39,
     "metadata": {},
     "output_type": "execute_result"
    }
   ],
   "source": [
    "# FLOAT64\n",
    "np.array([10,20,30],dtype='f8') #8 bytes= 8 * 8 bits= 64"
   ]
  },
  {
   "cell_type": "code",
   "execution_count": 41,
   "id": "e4ff7c0b",
   "metadata": {},
   "outputs": [
    {
     "data": {
      "text/plain": [
       "array([10, 20, 30])"
      ]
     },
     "execution_count": 41,
     "metadata": {},
     "output_type": "execute_result"
    }
   ],
   "source": [
    "np.array([10,20,30],dtype='i4') #int32"
   ]
  },
  {
   "cell_type": "code",
   "execution_count": 50,
   "id": "72b30abc",
   "metadata": {},
   "outputs": [
    {
     "data": {
      "text/plain": [
       "array([10., 20., 30.], dtype=float16)"
      ]
     },
     "execution_count": 50,
     "metadata": {},
     "output_type": "execute_result"
    }
   ],
   "source": [
    "np.array([10,20,30],dtype=np.float16)"
   ]
  },
  {
   "cell_type": "code",
   "execution_count": null,
   "id": "a9f0e5d4",
   "metadata": {},
   "outputs": [],
   "source": [
    "# in numpy int ==> 32 bit\n",
    "# and float==> 64 bit"
   ]
  },
  {
   "cell_type": "markdown",
   "id": "1fffbd97",
   "metadata": {},
   "source": [
    "## Now, let's use some numpy functions to create an array"
   ]
  },
  {
   "cell_type": "markdown",
   "id": "914c002e",
   "metadata": {},
   "source": [
    "## np.zeros"
   ]
  },
  {
   "cell_type": "code",
   "execution_count": 51,
   "id": "343572b1",
   "metadata": {},
   "outputs": [
    {
     "data": {
      "text/plain": [
       "array([0., 0., 0., 0., 0.])"
      ]
     },
     "execution_count": 51,
     "metadata": {},
     "output_type": "execute_result"
    }
   ],
   "source": [
    "# will give array of 0's\n",
    "np.zeros(5) #return 1D"
   ]
  },
  {
   "cell_type": "code",
   "execution_count": 52,
   "id": "ab76d6c0",
   "metadata": {},
   "outputs": [
    {
     "data": {
      "text/plain": [
       "array([[0., 0., 0., 0.],\n",
       "       [0., 0., 0., 0.],\n",
       "       [0., 0., 0., 0.]])"
      ]
     },
     "execution_count": 52,
     "metadata": {},
     "output_type": "execute_result"
    }
   ],
   "source": [
    "# 2D\n",
    "np.zeros((3,4))"
   ]
  },
  {
   "cell_type": "code",
   "execution_count": 53,
   "id": "a564f9b3",
   "metadata": {},
   "outputs": [],
   "source": [
    "# 3D\n",
    "#Assignment"
   ]
  },
  {
   "cell_type": "markdown",
   "id": "9ce644fe",
   "metadata": {},
   "source": [
    "## np.full"
   ]
  },
  {
   "cell_type": "code",
   "execution_count": 54,
   "id": "1620ce21",
   "metadata": {},
   "outputs": [
    {
     "data": {
      "text/plain": [
       "array([100, 100, 100, 100])"
      ]
     },
     "execution_count": 54,
     "metadata": {},
     "output_type": "execute_result"
    }
   ],
   "source": [
    "#if we want an array with constant value\n",
    "#Return a new array of given shape and type, filled with `fill_value`\n",
    "np.full(4,fill_value=100)"
   ]
  },
  {
   "cell_type": "code",
   "execution_count": 55,
   "id": "5c48bc4b",
   "metadata": {},
   "outputs": [
    {
     "data": {
      "text/plain": [
       "array([['Vaibhav', 'Vaibhav', 'Vaibhav'],\n",
       "       ['Vaibhav', 'Vaibhav', 'Vaibhav'],\n",
       "       ['Vaibhav', 'Vaibhav', 'Vaibhav'],\n",
       "       ['Vaibhav', 'Vaibhav', 'Vaibhav']], dtype='<U7')"
      ]
     },
     "execution_count": 55,
     "metadata": {},
     "output_type": "execute_result"
    }
   ],
   "source": [
    "#2D\n",
    "np.full((4,3),'Vaibhav')"
   ]
  },
  {
   "cell_type": "markdown",
   "id": "e7f103c2",
   "metadata": {},
   "source": [
    "## np.empty"
   ]
  },
  {
   "cell_type": "code",
   "execution_count": 56,
   "id": "0fc86215",
   "metadata": {},
   "outputs": [
    {
     "data": {
      "text/plain": [
       "array([            nan, 0.00000000e+000, 1.48036178e-311, 2.02369289e-320,\n",
       "       0.00000000e+000, 0.00000000e+000, 0.00000000e+000, 0.00000000e+000,\n",
       "       0.00000000e+000, 0.00000000e+000])"
      ]
     },
     "execution_count": 56,
     "metadata": {},
     "output_type": "execute_result"
    }
   ],
   "source": [
    "#Return a new array of given shape and type, without initializing entries.\n",
    "np.empty(10)"
   ]
  },
  {
   "cell_type": "code",
   "execution_count": 57,
   "id": "7c5aa527",
   "metadata": {},
   "outputs": [
    {
     "data": {
      "text/plain": [
       "array([[0., 0., 0.],\n",
       "       [0., 0., 0.],\n",
       "       [0., 0., 0.],\n",
       "       [0., 0., 0.]])"
      ]
     },
     "execution_count": 57,
     "metadata": {},
     "output_type": "execute_result"
    }
   ],
   "source": [
    "np.empty((4,3))"
   ]
  },
  {
   "cell_type": "markdown",
   "id": "dbb4d7aa",
   "metadata": {},
   "source": [
    "## np.eye"
   ]
  },
  {
   "cell_type": "code",
   "execution_count": 58,
   "id": "fcf7fe45",
   "metadata": {},
   "outputs": [
    {
     "data": {
      "text/plain": [
       "array([[1., 0., 0., 0.],\n",
       "       [0., 1., 0., 0.],\n",
       "       [0., 0., 1., 0.],\n",
       "       [0., 0., 0., 1.]])"
      ]
     },
     "execution_count": 58,
     "metadata": {},
     "output_type": "execute_result"
    }
   ],
   "source": [
    "#Return a 2-D array with ones on the diagonal and zeros elsewhere.\n",
    "np.eye(4,4)"
   ]
  },
  {
   "cell_type": "code",
   "execution_count": 60,
   "id": "b2186328",
   "metadata": {},
   "outputs": [
    {
     "data": {
      "text/plain": [
       "array([[1., 0., 0., 0., 0.],\n",
       "       [0., 1., 0., 0., 0.],\n",
       "       [0., 0., 1., 0., 0.],\n",
       "       [0., 0., 0., 1., 0.]])"
      ]
     },
     "execution_count": 60,
     "metadata": {},
     "output_type": "execute_result"
    }
   ],
   "source": [
    "np.eye(4,5)"
   ]
  },
  {
   "cell_type": "code",
   "execution_count": 61,
   "id": "3e4e5137",
   "metadata": {},
   "outputs": [
    {
     "data": {
      "text/plain": [
       "array([[0., 0., 1., 0., 0.],\n",
       "       [0., 0., 0., 1., 0.],\n",
       "       [0., 0., 0., 0., 1.],\n",
       "       [0., 0., 0., 0., 0.]])"
      ]
     },
     "execution_count": 61,
     "metadata": {},
     "output_type": "execute_result"
    }
   ],
   "source": [
    "np.eye(4,5,k=2)"
   ]
  },
  {
   "cell_type": "raw",
   "id": "f3190ddd",
   "metadata": {},
   "source": [
    "# Rule for identity matrix or array is\n",
    "# it should have same number of rows and columns\n",
    "# use np.identity"
   ]
  },
  {
   "cell_type": "code",
   "execution_count": 62,
   "id": "887c8314",
   "metadata": {},
   "outputs": [
    {
     "data": {
      "text/plain": [
       "array([[1., 0., 0., 0., 0.],\n",
       "       [0., 1., 0., 0., 0.],\n",
       "       [0., 0., 1., 0., 0.],\n",
       "       [0., 0., 0., 1., 0.],\n",
       "       [0., 0., 0., 0., 1.]])"
      ]
     },
     "execution_count": 62,
     "metadata": {},
     "output_type": "execute_result"
    }
   ],
   "source": [
    "np.identity(5) # 5 means 5 rows and 5 column"
   ]
  },
  {
   "cell_type": "code",
   "execution_count": 63,
   "id": "ce8b6ecf",
   "metadata": {},
   "outputs": [
    {
     "data": {
      "text/plain": [
       "array([[1., 0., 0.],\n",
       "       [0., 1., 0.],\n",
       "       [0., 0., 1.]])"
      ]
     },
     "execution_count": 63,
     "metadata": {},
     "output_type": "execute_result"
    }
   ],
   "source": [
    "np.identity(3)"
   ]
  },
  {
   "cell_type": "markdown",
   "id": "6caa69e1",
   "metadata": {},
   "source": [
    "## np.linspace"
   ]
  },
  {
   "cell_type": "code",
   "execution_count": 64,
   "id": "68797fe9",
   "metadata": {},
   "outputs": [
    {
     "data": {
      "text/plain": [
       "array([ 2.        ,  2.16326531,  2.32653061,  2.48979592,  2.65306122,\n",
       "        2.81632653,  2.97959184,  3.14285714,  3.30612245,  3.46938776,\n",
       "        3.63265306,  3.79591837,  3.95918367,  4.12244898,  4.28571429,\n",
       "        4.44897959,  4.6122449 ,  4.7755102 ,  4.93877551,  5.10204082,\n",
       "        5.26530612,  5.42857143,  5.59183673,  5.75510204,  5.91836735,\n",
       "        6.08163265,  6.24489796,  6.40816327,  6.57142857,  6.73469388,\n",
       "        6.89795918,  7.06122449,  7.2244898 ,  7.3877551 ,  7.55102041,\n",
       "        7.71428571,  7.87755102,  8.04081633,  8.20408163,  8.36734694,\n",
       "        8.53061224,  8.69387755,  8.85714286,  9.02040816,  9.18367347,\n",
       "        9.34693878,  9.51020408,  9.67346939,  9.83673469, 10.        ])"
      ]
     },
     "execution_count": 64,
     "metadata": {},
     "output_type": "execute_result"
    }
   ],
   "source": [
    "# used for creating an array with linear spacing\n",
    "# constant space between 2 consicutive element\n",
    "np.linspace(2,10)\n",
    "# will generate 2-10 total 50 numbers with linear spacing\n",
    "# start and stop is inclusive"
   ]
  },
  {
   "cell_type": "code",
   "execution_count": 65,
   "id": "1ce184a4",
   "metadata": {},
   "outputs": [
    {
     "data": {
      "text/plain": [
       "-0.16326530999999989"
      ]
     },
     "execution_count": 65,
     "metadata": {},
     "output_type": "execute_result"
    }
   ],
   "source": [
    " 2. - 2.16326531"
   ]
  },
  {
   "cell_type": "code",
   "execution_count": 66,
   "id": "976ccebb",
   "metadata": {},
   "outputs": [
    {
     "data": {
      "text/plain": [
       "-0.16326531000000033"
      ]
     },
     "execution_count": 66,
     "metadata": {},
     "output_type": "execute_result"
    }
   ],
   "source": [
    "2.32653061 -  2.48979592"
   ]
  },
  {
   "cell_type": "code",
   "execution_count": 68,
   "id": "49564229",
   "metadata": {},
   "outputs": [
    {
     "data": {
      "text/plain": [
       "array([ 2.        ,  2.57142857,  3.14285714,  3.71428571,  4.28571429,\n",
       "        4.85714286,  5.42857143,  6.        ,  6.57142857,  7.14285714,\n",
       "        7.71428571,  8.28571429,  8.85714286,  9.42857143, 10.        ])"
      ]
     },
     "execution_count": 68,
     "metadata": {},
     "output_type": "execute_result"
    }
   ],
   "source": [
    "np.linspace(2,10,15)"
   ]
  },
  {
   "cell_type": "code",
   "execution_count": 69,
   "id": "72fa196a",
   "metadata": {},
   "outputs": [
    {
     "data": {
      "text/plain": [
       "(array([ 2.        ,  2.57142857,  3.14285714,  3.71428571,  4.28571429,\n",
       "         4.85714286,  5.42857143,  6.        ,  6.57142857,  7.14285714,\n",
       "         7.71428571,  8.28571429,  8.85714286,  9.42857143, 10.        ]),\n",
       " 0.5714285714285714)"
      ]
     },
     "execution_count": 69,
     "metadata": {},
     "output_type": "execute_result"
    }
   ],
   "source": [
    "# if we want to check how much spacing is there?\n",
    "np.linspace(2,10,15,retstep=True)"
   ]
  },
  {
   "cell_type": "code",
   "execution_count": 70,
   "id": "b21492f5",
   "metadata": {},
   "outputs": [
    {
     "data": {
      "text/plain": [
       "-0.5714285699999997"
      ]
     },
     "execution_count": 70,
     "metadata": {},
     "output_type": "execute_result"
    }
   ],
   "source": [
    "2.57142857 - 3.14285714"
   ]
  },
  {
   "cell_type": "code",
   "execution_count": 73,
   "id": "c09c42a3",
   "metadata": {},
   "outputs": [
    {
     "data": {
      "text/plain": [
       "array([-6., -5., -4., -3., -2., -1.,  0.,  1.,  2.,  3.,  4.,  5.,  6.])"
      ]
     },
     "execution_count": 73,
     "metadata": {},
     "output_type": "execute_result"
    }
   ],
   "source": [
    "# Q. i want [-6 to +6] using linspace\n",
    "np.linspace(-6,6,13)"
   ]
  },
  {
   "cell_type": "code",
   "execution_count": 74,
   "id": "6f856ae1",
   "metadata": {},
   "outputs": [
    {
     "data": {
      "text/plain": [
       "array([-6, -5, -4, -3, -2, -1,  0,  1,  2,  3,  4,  5,  6])"
      ]
     },
     "execution_count": 74,
     "metadata": {},
     "output_type": "execute_result"
    }
   ],
   "source": [
    "#using arange\n",
    "np.arange(-6,7)"
   ]
  },
  {
   "cell_type": "code",
   "execution_count": 75,
   "id": "c8acd91a",
   "metadata": {},
   "outputs": [
    {
     "data": {
      "text/plain": [
       "[-6, -5, -4, -3, -2, -1, 0, 1, 2, 3, 4, 5, 6]"
      ]
     },
     "execution_count": 75,
     "metadata": {},
     "output_type": "execute_result"
    }
   ],
   "source": [
    "# using python range\n",
    "list(range(-6,7))"
   ]
  },
  {
   "cell_type": "code",
   "execution_count": 76,
   "id": "cd189fed",
   "metadata": {},
   "outputs": [],
   "source": [
    "# Plot sin wave using np.linspace\n",
    "# use matplotlib\n",
    "import matplotlib.pyplot as plt"
   ]
  },
  {
   "cell_type": "code",
   "execution_count": 80,
   "id": "114f2197",
   "metadata": {},
   "outputs": [],
   "source": [
    "# lets create values for x,y\n",
    "X = np.linspace(2,40,100)"
   ]
  },
  {
   "cell_type": "code",
   "execution_count": 86,
   "id": "5460c86c",
   "metadata": {},
   "outputs": [],
   "source": [
    "y = np.sin(X)"
   ]
  },
  {
   "cell_type": "code",
   "execution_count": 87,
   "id": "e89268b3",
   "metadata": {},
   "outputs": [
    {
     "data": {
      "text/plain": [
       "[<matplotlib.lines.Line2D at 0x2b9a4a5ae50>]"
      ]
     },
     "execution_count": 87,
     "metadata": {},
     "output_type": "execute_result"
    },
    {
     "data": {
      "image/png": "[encoded data removed]",
      "text/plain": [
       "<Figure size 432x288 with 1 Axes>"
      ]
     },
     "metadata": {
      "needs_background": "light"
     },
     "output_type": "display_data"
    }
   ],
   "source": [
    "plt.plot(X,y,'--r')"
   ]
  },
  {
   "cell_type": "code",
   "execution_count": null,
   "id": "dce525ef",
   "metadata": {},
   "outputs": [],
   "source": []
  }
 ],
 "metadata": {
  "kernelspec": {
   "display_name": "Python 3 (ipykernel)",
   "language": "python",
   "name": "python3"
  },
  "language_info": {
   "codemirror_mode": {
    "name": "ipython",
    "version": 3
   },
   "file_extension": ".py",
   "mimetype": "text/x-python",
   "name": "python",
   "nbconvert_exporter": "python",
   "pygments_lexer": "ipython3",
   "version": "3.9.12"
  }
 },
 "nbformat": 4,
 "nbformat_minor": 5
}
