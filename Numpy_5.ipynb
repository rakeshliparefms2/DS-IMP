{
 "cells": [
  {
   "cell_type": "code",
   "execution_count": 1,
   "id": "d7a46a38",
   "metadata": {},
   "outputs": [],
   "source": [
    "import numpy  as np"
   ]
  },
  {
   "cell_type": "code",
   "execution_count": 2,
   "id": "d4b28f6d",
   "metadata": {},
   "outputs": [
    {
     "data": {
      "text/plain": [
       "array([[ 0,  1,  2,  3,  4,  5],\n",
       "       [ 6,  7,  8,  9, 10, 11],\n",
       "       [12, 13, 14, 15, 16, 17],\n",
       "       [18, 19, 20, 21, 22, 23]])"
      ]
     },
     "execution_count": 2,
     "metadata": {},
     "output_type": "execute_result"
    }
   ],
   "source": [
    "# create an array\n",
    "a = np.arange(24).reshape(4,6)\n",
    "a"
   ]
  },
  {
   "cell_type": "code",
   "execution_count": 3,
   "id": "954814c9",
   "metadata": {},
   "outputs": [
    {
     "ename": "ValueError",
     "evalue": "The truth value of an array with more than one element is ambiguous. Use a.any() or a.all()",
     "output_type": "error",
     "traceback": [
      "\u001b[1;31m---------------------------------------------------------------------------\u001b[0m",
      "\u001b[1;31mValueError\u001b[0m                                Traceback (most recent call last)",
      "Input \u001b[1;32mIn [3]\u001b[0m, in \u001b[0;36m<cell line: 1>\u001b[1;34m()\u001b[0m\n\u001b[1;32m----> 1\u001b[0m a \u001b[38;5;241m%\u001b[39m\u001b[38;5;241m5\u001b[39m \u001b[38;5;241m==\u001b[39m \u001b[38;5;241m0\u001b[39m \u001b[38;5;129;01mor\u001b[39;00m a \u001b[38;5;241m%\u001b[39m\u001b[38;5;241m7\u001b[39m \u001b[38;5;241m==\u001b[39m \u001b[38;5;241m0\u001b[39m\n",
      "\u001b[1;31mValueError\u001b[0m: The truth value of an array with more than one element is ambiguous. Use a.any() or a.all()"
     ]
    }
   ],
   "source": [
    "a %5 == 0 or a %7 == 0"
   ]
  },
  {
   "cell_type": "code",
   "execution_count": null,
   "id": "c17bca18",
   "metadata": {},
   "outputs": [],
   "source": []
  },
  {
   "cell_type": "code",
   "execution_count": 3,
   "id": "8cb4cc19",
   "metadata": {},
   "outputs": [
    {
     "data": {
      "text/plain": [
       "array([[ True, False, False, False, False,  True],\n",
       "       [False, False, False, False,  True, False],\n",
       "       [False, False, False,  True, False, False],\n",
       "       [False, False,  True, False, False, False]])"
      ]
     },
     "execution_count": 3,
     "metadata": {},
     "output_type": "execute_result"
    }
   ],
   "source": [
    "# find out values from array those are multiple of 5\n",
    "a %5 == 0"
   ]
  },
  {
   "cell_type": "code",
   "execution_count": 4,
   "id": "b80a082f",
   "metadata": {},
   "outputs": [
    {
     "data": {
      "text/plain": [
       "array([ 0,  5, 10, 15, 20])"
      ]
     },
     "execution_count": 4,
     "metadata": {},
     "output_type": "execute_result"
    }
   ],
   "source": [
    "#  we can use above boolean output as an index\n",
    "# Array supports boolean indexing\n",
    "a[a %5 == 0]"
   ]
  },
  {
   "cell_type": "code",
   "execution_count": 7,
   "id": "0a382066",
   "metadata": {},
   "outputs": [
    {
     "data": {
      "text/plain": [
       "(array([[ True, False, False, False, False,  True],\n",
       "        [False, False, False, False,  True, False],\n",
       "        [False, False, False,  True, False, False],\n",
       "        [False, False,  True, False, False, False]]),\n",
       " array([[ True, False, False, False, False, False],\n",
       "        [False,  True, False, False, False, False],\n",
       "        [False, False,  True, False, False, False],\n",
       "        [False, False, False,  True, False, False]]))"
      ]
     },
     "execution_count": 7,
     "metadata": {},
     "output_type": "execute_result"
    }
   ],
   "source": [
    "#  find out values from array those are multiple of 5 and 7\n",
    "(a%5 == 0) ,(a%7 == 0)"
   ]
  },
  {
   "cell_type": "code",
   "execution_count": 11,
   "id": "c88f63a4",
   "metadata": {},
   "outputs": [
    {
     "data": {
      "text/plain": [
       "array([[ True, False, False, False, False, False],\n",
       "       [False, False, False, False, False, False],\n",
       "       [False, False, False, False, False, False],\n",
       "       [False, False, False, False, False, False]])"
      ]
     },
     "execution_count": 11,
     "metadata": {},
     "output_type": "execute_result"
    }
   ],
   "source": [
    "#combine 2 output\n",
    "# logical: and, or ,not (for comparing 1-1 input use this)\n",
    "#(12%5 ==0) and (20%2 ==0)\n",
    "# bitwise: & | ~ ^ (for comparing many to many)\n",
    "\n",
    "(a%5 == 0) & (a%7 == 0)\n"
   ]
  },
  {
   "cell_type": "code",
   "execution_count": 12,
   "id": "134951bf",
   "metadata": {},
   "outputs": [
    {
     "data": {
      "text/plain": [
       "array([0])"
      ]
     },
     "execution_count": 12,
     "metadata": {},
     "output_type": "execute_result"
    }
   ],
   "source": [
    "a[(a%5 == 0) & (a%7 == 0)]"
   ]
  },
  {
   "cell_type": "code",
   "execution_count": 13,
   "id": "ccdce51e",
   "metadata": {},
   "outputs": [
    {
     "data": {
      "text/plain": [
       "array([ 0,  5,  7, 10, 14, 15, 20, 21])"
      ]
     },
     "execution_count": 13,
     "metadata": {},
     "output_type": "execute_result"
    }
   ],
   "source": [
    "a[(a%5 == 0) | (a%7 == 0)]"
   ]
  },
  {
   "cell_type": "markdown",
   "id": "c5c86b36",
   "metadata": {},
   "source": [
    "# Create a 4x4 array whose all values set to True"
   ]
  },
  {
   "cell_type": "code",
   "execution_count": 14,
   "id": "ed7d36e7",
   "metadata": {},
   "outputs": [
    {
     "data": {
      "text/plain": [
       "1"
      ]
     },
     "execution_count": 14,
     "metadata": {},
     "output_type": "execute_result"
    }
   ],
   "source": [
    "int(True)"
   ]
  },
  {
   "cell_type": "code",
   "execution_count": 15,
   "id": "ed8ee651",
   "metadata": {},
   "outputs": [
    {
     "data": {
      "text/plain": [
       "array([[1., 1., 1., 1.],\n",
       "       [1., 1., 1., 1.],\n",
       "       [1., 1., 1., 1.],\n",
       "       [1., 1., 1., 1.]])"
      ]
     },
     "execution_count": 15,
     "metadata": {},
     "output_type": "execute_result"
    }
   ],
   "source": [
    "np.ones((4,4))"
   ]
  },
  {
   "cell_type": "code",
   "execution_count": 16,
   "id": "21cba1d4",
   "metadata": {},
   "outputs": [
    {
     "data": {
      "text/plain": [
       "array([[ True,  True,  True,  True],\n",
       "       [ True,  True,  True,  True],\n",
       "       [ True,  True,  True,  True],\n",
       "       [ True,  True,  True,  True]])"
      ]
     },
     "execution_count": 16,
     "metadata": {},
     "output_type": "execute_result"
    }
   ],
   "source": [
    "np.ones((4,4),dtype='bool')"
   ]
  },
  {
   "cell_type": "code",
   "execution_count": 18,
   "id": "38274647",
   "metadata": {},
   "outputs": [
    {
     "data": {
      "text/plain": [
       "array([[ True,  True,  True,  True],\n",
       "       [ True,  True,  True,  True],\n",
       "       [ True,  True,  True,  True],\n",
       "       [ True,  True,  True,  True]])"
      ]
     },
     "execution_count": 18,
     "metadata": {},
     "output_type": "execute_result"
    }
   ],
   "source": [
    "np.full((4,4),fill_value=True)"
   ]
  },
  {
   "cell_type": "markdown",
   "id": "8fba20ec",
   "metadata": {},
   "source": [
    "### Assignment: Create a 4x4 array whose all values set to False"
   ]
  },
  {
   "cell_type": "code",
   "execution_count": null,
   "id": "2db2e6b2",
   "metadata": {},
   "outputs": [],
   "source": []
  },
  {
   "cell_type": "markdown",
   "id": "f870a114",
   "metadata": {},
   "source": [
    "## Create a 4x4 array whose diagonal values set to True and Non diagonal False"
   ]
  },
  {
   "cell_type": "code",
   "execution_count": 19,
   "id": "42a3efc8",
   "metadata": {},
   "outputs": [
    {
     "data": {
      "text/plain": [
       "array([[1., 0., 0., 0.],\n",
       "       [0., 1., 0., 0.],\n",
       "       [0., 0., 1., 0.],\n",
       "       [0., 0., 0., 1.]])"
      ]
     },
     "execution_count": 19,
     "metadata": {},
     "output_type": "execute_result"
    }
   ],
   "source": [
    "np.eye(4)"
   ]
  },
  {
   "cell_type": "code",
   "execution_count": 20,
   "id": "78067d4e",
   "metadata": {},
   "outputs": [
    {
     "data": {
      "text/plain": [
       "array([[ True, False, False, False],\n",
       "       [False,  True, False, False],\n",
       "       [False, False,  True, False],\n",
       "       [False, False, False,  True]])"
      ]
     },
     "execution_count": 20,
     "metadata": {},
     "output_type": "execute_result"
    }
   ],
   "source": [
    "np.eye(4,dtype='bool')"
   ]
  },
  {
   "cell_type": "code",
   "execution_count": 23,
   "id": "0b0b4c7c",
   "metadata": {},
   "outputs": [
    {
     "data": {
      "text/plain": [
       "array([[ True, False, False, False],\n",
       "       [False,  True, False, False],\n",
       "       [False, False,  True, False],\n",
       "       [False, False, False,  True]])"
      ]
     },
     "execution_count": 23,
     "metadata": {},
     "output_type": "execute_result"
    }
   ],
   "source": [
    "np.identity(4,dtype='bool')"
   ]
  },
  {
   "cell_type": "markdown",
   "id": "5d7a61e0",
   "metadata": {},
   "source": [
    "## Create a 4x4 array whose diagonal values set to False and Non diagonal True"
   ]
  },
  {
   "cell_type": "code",
   "execution_count": 24,
   "id": "10401443",
   "metadata": {},
   "outputs": [
    {
     "data": {
      "text/plain": [
       "array([[ True, False, False, False],\n",
       "       [False,  True, False, False],\n",
       "       [False, False,  True, False],\n",
       "       [False, False, False,  True]])"
      ]
     },
     "execution_count": 24,
     "metadata": {},
     "output_type": "execute_result"
    }
   ],
   "source": [
    "k = np.identity(4,dtype='bool')\n",
    "k"
   ]
  },
  {
   "cell_type": "code",
   "execution_count": 25,
   "id": "31591c32",
   "metadata": {},
   "outputs": [
    {
     "data": {
      "text/plain": [
       "array([[False,  True,  True,  True],\n",
       "       [ True, False,  True,  True],\n",
       "       [ True,  True, False,  True],\n",
       "       [ True,  True,  True, False]])"
      ]
     },
     "execution_count": 25,
     "metadata": {},
     "output_type": "execute_result"
    }
   ],
   "source": [
    "~ k"
   ]
  },
  {
   "cell_type": "code",
   "execution_count": 26,
   "id": "23afe87c",
   "metadata": {},
   "outputs": [
    {
     "data": {
      "text/plain": [
       "array([[False,  True,  True,  True],\n",
       "       [ True, False,  True,  True],\n",
       "       [ True,  True, False,  True],\n",
       "       [ True,  True,  True, False]])"
      ]
     },
     "execution_count": 26,
     "metadata": {},
     "output_type": "execute_result"
    }
   ],
   "source": [
    "~np.identity(4,dtype='bool')"
   ]
  },
  {
   "cell_type": "code",
   "execution_count": 27,
   "id": "c9845cb9",
   "metadata": {},
   "outputs": [
    {
     "data": {
      "text/plain": [
       "-2"
      ]
     },
     "execution_count": 27,
     "metadata": {},
     "output_type": "execute_result"
    }
   ],
   "source": [
    "~ True"
   ]
  },
  {
   "cell_type": "code",
   "execution_count": 32,
   "id": "8e668e29",
   "metadata": {},
   "outputs": [
    {
     "data": {
      "text/plain": [
       "array([[-2, -1, -1, -1],\n",
       "       [-1, -2, -1, -1],\n",
       "       [-1, -1, -2, -1],\n",
       "       [-1, -1, -1, -2]], dtype=int32)"
      ]
     },
     "execution_count": 32,
     "metadata": {},
     "output_type": "execute_result"
    }
   ],
   "source": [
    "~ np.identity(4,dtype=int)"
   ]
  },
  {
   "cell_type": "code",
   "execution_count": 33,
   "id": "78a97b47",
   "metadata": {},
   "outputs": [
    {
     "data": {
      "text/plain": [
       "array([[False,  True,  True,  True],\n",
       "       [ True, False,  True,  True],\n",
       "       [ True,  True, False,  True],\n",
       "       [ True,  True,  True, False]])"
      ]
     },
     "execution_count": 33,
     "metadata": {},
     "output_type": "execute_result"
    }
   ],
   "source": [
    "~ np.identity(4,dtype=bool)"
   ]
  },
  {
   "cell_type": "code",
   "execution_count": 34,
   "id": "a2932023",
   "metadata": {},
   "outputs": [
    {
     "data": {
      "text/plain": [
       "array([  0,   0,  12, -34, 100])"
      ]
     },
     "execution_count": 34,
     "metadata": {},
     "output_type": "execute_result"
    }
   ],
   "source": [
    "b = np.array([0,False,12,-34,100])\n",
    "b"
   ]
  },
  {
   "cell_type": "code",
   "execution_count": 35,
   "id": "1f423395",
   "metadata": {},
   "outputs": [
    {
     "data": {
      "text/plain": [
       "array([  -1,   -1,  -13,   33, -101], dtype=int32)"
      ]
     },
     "execution_count": 35,
     "metadata": {},
     "output_type": "execute_result"
    }
   ],
   "source": [
    "# bitwise: 2's complement\n",
    "~ b"
   ]
  },
  {
   "cell_type": "code",
   "execution_count": 36,
   "id": "c1afa241",
   "metadata": {},
   "outputs": [
    {
     "data": {
      "text/plain": [
       "array([False, False,  True,  True,  True])"
      ]
     },
     "execution_count": 36,
     "metadata": {},
     "output_type": "execute_result"
    }
   ],
   "source": [
    "np.array([0,False,12,-34,100],dtype=bool)"
   ]
  },
  {
   "cell_type": "code",
   "execution_count": 37,
   "id": "b8ab3b1a",
   "metadata": {},
   "outputs": [
    {
     "data": {
      "text/plain": [
       "array([ True,  True, False, False, False])"
      ]
     },
     "execution_count": 37,
     "metadata": {},
     "output_type": "execute_result"
    }
   ],
   "source": [
    "~ np.array([0,False,12,-34,100],dtype=bool)"
   ]
  },
  {
   "cell_type": "code",
   "execution_count": 39,
   "id": "c505b614",
   "metadata": {},
   "outputs": [],
   "source": [
    "a.resize(6,4)"
   ]
  },
  {
   "cell_type": "code",
   "execution_count": 40,
   "id": "f643c8fb",
   "metadata": {},
   "outputs": [
    {
     "data": {
      "text/plain": [
       "array([[ 0,  1,  2,  3],\n",
       "       [ 4,  5,  6,  7],\n",
       "       [ 8,  9, 10, 11],\n",
       "       [12, 13, 14, 15],\n",
       "       [16, 17, 18, 19],\n",
       "       [20, 21, 22, 23]])"
      ]
     },
     "execution_count": 40,
     "metadata": {},
     "output_type": "execute_result"
    }
   ],
   "source": [
    "a"
   ]
  },
  {
   "cell_type": "markdown",
   "id": "998f0822",
   "metadata": {},
   "source": [
    "# Access corner elements"
   ]
  },
  {
   "cell_type": "code",
   "execution_count": 42,
   "id": "3887abab",
   "metadata": {},
   "outputs": [
    {
     "data": {
      "text/plain": [
       "(6, 4)"
      ]
     },
     "execution_count": 42,
     "metadata": {},
     "output_type": "execute_result"
    }
   ],
   "source": [
    "# 0, 3,20,23\n",
    "a.shape"
   ]
  },
  {
   "cell_type": "code",
   "execution_count": 44,
   "id": "e26fbc4f",
   "metadata": {},
   "outputs": [
    {
     "data": {
      "text/plain": [
       "array([[ 0,  3],\n",
       "       [20, 23]])"
      ]
     },
     "execution_count": 44,
     "metadata": {},
     "output_type": "execute_result"
    }
   ],
   "source": [
    "a[::5,::3] # a[row,column]"
   ]
  },
  {
   "cell_type": "code",
   "execution_count": null,
   "id": "e560c60a",
   "metadata": {},
   "outputs": [],
   "source": [
    "#(5,7) ([::4,::6])"
   ]
  },
  {
   "cell_type": "code",
   "execution_count": 45,
   "id": "8a26692b",
   "metadata": {},
   "outputs": [
    {
     "data": {
      "text/plain": [
       "array([[ 0,  1,  2,  3],\n",
       "       [ 4,  5,  6,  7],\n",
       "       [ 8,  9, 10, 11],\n",
       "       [12, 13, 14, 15],\n",
       "       [16, 17, 18, 19],\n",
       "       [20, 21, 22, 23]])"
      ]
     },
     "execution_count": 45,
     "metadata": {},
     "output_type": "execute_result"
    }
   ],
   "source": [
    "a"
   ]
  },
  {
   "cell_type": "markdown",
   "id": "eeb1db79",
   "metadata": {},
   "source": [
    "## access elements present at middle"
   ]
  },
  {
   "cell_type": "code",
   "execution_count": 48,
   "id": "b13d1faf",
   "metadata": {},
   "outputs": [
    {
     "data": {
      "text/plain": [
       "array([[ 8,  9, 10, 11],\n",
       "       [12, 13, 14, 15]])"
      ]
     },
     "execution_count": 48,
     "metadata": {},
     "output_type": "execute_result"
    }
   ],
   "source": [
    "\"\"\"\n",
    "9, 10\n",
    "13, 14\n",
    "\"\"\"\n",
    "# access rows\n",
    "a[2:4,:]"
   ]
  },
  {
   "cell_type": "code",
   "execution_count": 49,
   "id": "4fc2bbb7",
   "metadata": {
    "scrolled": true
   },
   "outputs": [
    {
     "data": {
      "text/plain": [
       "array([[ 9, 10],\n",
       "       [13, 14]])"
      ]
     },
     "execution_count": 49,
     "metadata": {},
     "output_type": "execute_result"
    }
   ],
   "source": [
    "#access column\n",
    "a[2:4,1:-1]"
   ]
  },
  {
   "cell_type": "markdown",
   "id": "8136ccf2",
   "metadata": {},
   "source": [
    "## Random slicing"
   ]
  },
  {
   "cell_type": "code",
   "execution_count": 51,
   "id": "ee939707",
   "metadata": {},
   "outputs": [
    {
     "data": {
      "text/plain": [
       "array([[ 0,  1,  2,  3],\n",
       "       [ 8,  9, 10, 11],\n",
       "       [16, 17, 18, 19]])"
      ]
     },
     "execution_count": 51,
     "metadata": {},
     "output_type": "execute_result"
    }
   ],
   "source": [
    "a[::2]"
   ]
  },
  {
   "cell_type": "code",
   "execution_count": 53,
   "id": "9ae7eb83",
   "metadata": {},
   "outputs": [
    {
     "data": {
      "text/plain": [
       "array([[23, 22, 21, 20],\n",
       "       [19, 18, 17, 16],\n",
       "       [15, 14, 13, 12],\n",
       "       [11, 10,  9,  8],\n",
       "       [ 7,  6,  5,  4],\n",
       "       [ 3,  2,  1,  0]])"
      ]
     },
     "execution_count": 53,
     "metadata": {},
     "output_type": "execute_result"
    }
   ],
   "source": [
    "# reverse rows and column\n",
    "a[::-1,::-1]"
   ]
  },
  {
   "cell_type": "code",
   "execution_count": 55,
   "id": "53101873",
   "metadata": {},
   "outputs": [
    {
     "data": {
      "text/plain": [
       "array([[ 5,  6],\n",
       "       [ 9, 10]])"
      ]
     },
     "execution_count": 55,
     "metadata": {},
     "output_type": "execute_result"
    }
   ],
   "source": [
    "a[1:3,1:3]"
   ]
  },
  {
   "cell_type": "code",
   "execution_count": 57,
   "id": "64e121b6",
   "metadata": {},
   "outputs": [
    {
     "data": {
      "text/plain": [
       "array([[ 5],\n",
       "       [17]])"
      ]
     },
     "execution_count": 57,
     "metadata": {},
     "output_type": "execute_result"
    }
   ],
   "source": [
    "a[1::3,1::3]"
   ]
  },
  {
   "cell_type": "code",
   "execution_count": 68,
   "id": "60c86056",
   "metadata": {},
   "outputs": [
    {
     "data": {
      "text/plain": [
       "array([[20, 21, 22, 23],\n",
       "       [16, 17, 18, 19],\n",
       "       [12, 13, 14, 15],\n",
       "       [ 8,  9, 10, 11],\n",
       "       [ 4,  5,  6,  7],\n",
       "       [ 0,  1,  2,  3]])"
      ]
     },
     "execution_count": 68,
     "metadata": {},
     "output_type": "execute_result"
    }
   ],
   "source": [
    "a[-1::-1]"
   ]
  },
  {
   "cell_type": "markdown",
   "id": "c97e090c",
   "metadata": {},
   "source": [
    "## make all entrie of last column 0"
   ]
  },
  {
   "cell_type": "code",
   "execution_count": 72,
   "id": "7109bb6f",
   "metadata": {},
   "outputs": [
    {
     "data": {
      "text/plain": [
       "array([ 3,  7, 11, 15, 19, 23])"
      ]
     },
     "execution_count": 72,
     "metadata": {},
     "output_type": "execute_result"
    }
   ],
   "source": [
    "#use column index: gives 1D array output\n",
    "a[:,-1]"
   ]
  },
  {
   "cell_type": "code",
   "execution_count": 75,
   "id": "cb18ed32",
   "metadata": {},
   "outputs": [
    {
     "data": {
      "text/plain": [
       "array([[ 3],\n",
       "       [ 7],\n",
       "       [11],\n",
       "       [15],\n",
       "       [19],\n",
       "       [23]])"
      ]
     },
     "execution_count": 75,
     "metadata": {},
     "output_type": "execute_result"
    }
   ],
   "source": [
    "#second option: use slicing: gives 2D output\n",
    "a[:,-1:]"
   ]
  },
  {
   "cell_type": "code",
   "execution_count": 76,
   "id": "e912d27b",
   "metadata": {},
   "outputs": [],
   "source": [
    "a[:,-1] = 0"
   ]
  },
  {
   "cell_type": "code",
   "execution_count": 77,
   "id": "8d37c5f4",
   "metadata": {},
   "outputs": [
    {
     "data": {
      "text/plain": [
       "array([[ 0,  1,  2,  0],\n",
       "       [ 4,  5,  6,  0],\n",
       "       [ 8,  9, 10,  0],\n",
       "       [12, 13, 14,  0],\n",
       "       [16, 17, 18,  0],\n",
       "       [20, 21, 22,  0]])"
      ]
     },
     "execution_count": 77,
     "metadata": {},
     "output_type": "execute_result"
    }
   ],
   "source": [
    "a"
   ]
  },
  {
   "cell_type": "code",
   "execution_count": 79,
   "id": "dd019d65",
   "metadata": {},
   "outputs": [
    {
     "data": {
      "text/plain": [
       "array([[ 9, 10],\n",
       "       [13, 14]])"
      ]
     },
     "execution_count": 79,
     "metadata": {},
     "output_type": "execute_result"
    }
   ],
   "source": [
    "# access middle elements and replace them in clockwise direction with 1,2,3,4\n",
    "# at the place of 9, 10,13,14 we want 1,2,4,3 respective\n",
    "a[2:4,1:3]"
   ]
  },
  {
   "cell_type": "code",
   "execution_count": 81,
   "id": "e0c9421d",
   "metadata": {},
   "outputs": [],
   "source": [
    "a[2:4,1:3] = [[ 1, 2],\n",
    "             [4, 3]]"
   ]
  },
  {
   "cell_type": "code",
   "execution_count": 82,
   "id": "eee0433a",
   "metadata": {},
   "outputs": [
    {
     "data": {
      "text/plain": [
       "array([[ 0,  1,  2,  0],\n",
       "       [ 4,  5,  6,  0],\n",
       "       [ 8,  1,  2,  0],\n",
       "       [12,  4,  3,  0],\n",
       "       [16, 17, 18,  0],\n",
       "       [20, 21, 22,  0]])"
      ]
     },
     "execution_count": 82,
     "metadata": {},
     "output_type": "execute_result"
    }
   ],
   "source": [
    "a"
   ]
  },
  {
   "cell_type": "code",
   "execution_count": 83,
   "id": "f446f47d",
   "metadata": {},
   "outputs": [
    {
     "data": {
      "text/plain": [
       "array([[ 0,  1,  2,  0],\n",
       "       [ 4,  5,  6,  0],\n",
       "       [ 8,  1,  2,  0],\n",
       "       [12,  4,  3,  0],\n",
       "       [16, 17, 18,  0],\n",
       "       [20, 21, 22,  0]])"
      ]
     },
     "execution_count": 83,
     "metadata": {},
     "output_type": "execute_result"
    }
   ],
   "source": [
    "a"
   ]
  },
  {
   "cell_type": "code",
   "execution_count": 85,
   "id": "39960309",
   "metadata": {},
   "outputs": [
    {
     "data": {
      "text/plain": [
       "0"
      ]
     },
     "execution_count": 85,
     "metadata": {},
     "output_type": "execute_result"
    }
   ],
   "source": [
    "# replace last 0 by 100\n",
    "a[-1,-1]"
   ]
  },
  {
   "cell_type": "code",
   "execution_count": 86,
   "id": "8165c722",
   "metadata": {},
   "outputs": [],
   "source": [
    "a[-1,-1] = 100"
   ]
  },
  {
   "cell_type": "code",
   "execution_count": 87,
   "id": "7296ab5a",
   "metadata": {},
   "outputs": [
    {
     "data": {
      "text/plain": [
       "array([[  0,   1,   2,   0],\n",
       "       [  4,   5,   6,   0],\n",
       "       [  8,   1,   2,   0],\n",
       "       [ 12,   4,   3,   0],\n",
       "       [ 16,  17,  18,   0],\n",
       "       [ 20,  21,  22, 100]])"
      ]
     },
     "execution_count": 87,
     "metadata": {},
     "output_type": "execute_result"
    }
   ],
   "source": [
    "a"
   ]
  },
  {
   "cell_type": "code",
   "execution_count": null,
   "id": "2960fc99",
   "metadata": {},
   "outputs": [],
   "source": [
    "# indexing is used to access single entity\n",
    "# slicing is used to access more than one entity\n",
    "# entity means row/column"
   ]
  }
 ],
 "metadata": {
  "kernelspec": {
   "display_name": "Python 3 (ipykernel)",
   "language": "python",
   "name": "python3"
  },
  "language_info": {
   "codemirror_mode": {
    "name": "ipython",
    "version": 3
   },
   "file_extension": ".py",
   "mimetype": "text/x-python",
   "name": "python",
   "nbconvert_exporter": "python",
   "pygments_lexer": "ipython3",
   "version": "3.9.12"
  }
 },
 "nbformat": 4,
 "nbformat_minor": 5
}
